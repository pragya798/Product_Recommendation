{
 "cells": [
  {
   "cell_type": "markdown",
   "metadata": {
    "id": "cDtBtrVZtK1K"
   },
   "source": [
    "<center><strong><h1>Santander Product Recommendation using Machine Learning.</h1></strong></center>\n",
    "\n",
    "\n",
    "\n"
   ]
  },
  {
   "cell_type": "markdown",
   "metadata": {
    "id": "toqgmFtWVNFy"
   },
   "source": [
    "\n",
    "<h2><strong>INTRODUCTION:</strong></h2>\n",
    "<h4>Santander is using 1.5 years of customer behavior data to predict what new products customers will purchase in the future. Under their current system, a small number of Santander's customers receive many recommendations compared to others which results in an uneven customer experience. Santander wants to predict which products their existing customer will use in the next month based on past behavior. It wants to build the most effective recommendation system to meet the individual needs of all customers and ensure their satisfaction.</h4>\n",
    "\n"
   ]
  },
  {
   "cell_type": "markdown",
   "metadata": {
    "id": "N9vmTmsca5hM"
   },
   "source": [
    "![](https://image.cnbcfm.com/api/v1/image/106820496-1610020466082-gettyimages-96378039-BANCO_SANTANDER.jpeg?v=1610020526)"
   ]
  },
  {
   "cell_type": "markdown",
   "metadata": {
    "id": "1ZEqlXScdsgJ"
   },
   "source": [
    "<h2><strong>TABLE OF CONTENTS</strong></h2>\n",
    "<ol>\n",
    "<li>Dataset Description:</li>\n",
    "<li>Model Selection:</li>\n",
    "<li>Feature Selection:</li>\n",
    "<li>Code Implementation:</li>\n",
    "\n",
    "   \n",
    "\n",
    "*   Data Sampling\n",
    "*   Data Pre-Processing\n",
    "*   Data Visualization\n",
    "*   Recommendation System\n",
    "\n",
    "<li>Results</li>\n",
    "<li>Plotting True Postive And False Positive Rate Of The Model</li>"
   ]
  },
  {
   "cell_type": "markdown",
   "metadata": {
    "id": "4TGfnEaZcTOI"
   },
   "source": [
    "<h2><strong>DATASET DESCRIPTION:</strong></h2>\n",
    "The date in dataset starts from 2015-01-28 and monthly records of \"saving records\",\"current records\" etc. a customer can get in this dataset. In this dataset, prediction is made what the customer will buy in addition to what they already had at 2016-05-28. \n",
    "Training data consist of 24 predictors including the income and age of the user. Product data consists of boolean flags for all 24 products including \"age\" and \"income\" of the users.\n",
    "The goal is to predict which new product the customer is most likely to buy in June 2016. These products are the column named: \"ind_(xyz)_ult1\". The product is considered new if it is of June 2016 and not in May 2016. The next table shows the column name and dataset description. \n"
   ]
  },
  {
   "cell_type": "markdown",
   "metadata": {
    "id": "rYfNaQGlzGtJ"
   },
   "source": [
    "**Data Fields:**\n",
    "\n",
    "| Column Name | Description |\n",
    "| --- | ---|\n",
    "| **fecha_dato** | The table is partitioned for this column |\n",
    "| **ncodepers** | Customer code |\n",
    "| **ind_empleado** | Employee index : A active, B ex employed, F filial, N not employee, P pasive |\n",
    "| **pais_residencia** | Customer's Country residence |\n",
    "| **sexo** | Customer's sex |\n",
    "| **age** | Age |\n",
    "| **fecha_alta** | The date in which the customer became as the first holder of a contract in the bank |\n",
    "| **ind_nuevo** | New customer Index: 1 if the customer registered in the last 6 months |\n",
    "| **antiguedad** | Customer seniority (in months) |\n",
    "| **indrel** | 1 (First/Primary), 99 (Primary customer during the month but not at the end of the month)|\n",
    "| **ult_fec_cli_1t** | Last date as primary customer (if he isn't at the end of the month) |\n",
    "| **indrel_1mes** | Customer type at the begining of the month ,1 (First/Primary customer), 2 (co-owner ),P (Potential),3 (former primary), 4(former co-owner) |\n",
    "| **tiprel_1mes**\t |  Customer relation type at the beginning of the month, A (active), I (inactive), P (former customer),R (Potential) |\n",
    "| **indresi** | Residence index (S (Yes) or N (No) if the residence country is the same than the bank country) |\n",
    "| **indext** | Foreigner index (S (Yes) or N (No) if the customer's birth country is different than the bank country) |\n",
    "| **conyuemp** | Spouse index. 1 if the customer is spouse of an employee |\n",
    "| **canal_entrada** | Channel used by the customer to join |\n",
    "| **indfall**| Deceased index. N/S|\n",
    "| **tipodom** |  Addres type. 1, primary address |\n",
    "| **cod_prov** | Province code (customer's address) |\n",
    "| **nomprov** | Province name |\n",
    "| **ind_actividad_cliente** | Activity index (1, active customer; 0, inactive customer) |\n",
    "| **renta** | Gross income of the household |\n",
    "| **segmento** | segmentation: 01 - VIP, 02 - Individuals 03 - college graduated |\n",
    "| **ind_ahor_fin_ult1** | Saving Account |\n",
    "| **ind_aval_fin_ult1** | Guarantees |\n",
    "| **ind_cco_fin_ult1** | Current Accounts |\n",
    "| **ind_cder_fin_ult1** | Derivada Account |\n",
    "| **ind_cno_fin_ult1** | Payroll Account |\n",
    "| **ind_ctju_fin_ult1** | Junior Account |\n",
    "| **ind_ctma_fin_ult1**| Más particular Account |\n",
    "| **ind_ctop_fin_ult1** | particular Account |\n",
    "| **ind_ctpp_fin_ult1** | particular Plus Account |\n",
    "| **ind_deco_fin_ult1** | Short-term deposits |\n",
    "| **ind_deme_fin_ult1** | Medium-term deposits |\n",
    "| **ind_dela_fin_ult1** | Long-term deposits |\n",
    "| **ind_ecue_fin_ult1** | e-account |\n",
    "| **ind_fond_fin_ult1** | Funds |\n",
    "| **ind_hip_fin_ult1** | Mortgage |\n",
    "| **ind_plan_fin_ult1** | Pensions |\n",
    "| **ind_pres_fin_ult1** | Loans |\n",
    "| **ind_reca_fin_ult1** | Taxes |\n",
    "| **ind_tjcr_fin_ult1** | Credit Card |\n",
    "| **ind_valo_fin_ult1** | Securities|\n",
    "| **ind_viv_fin_ult1** | Home Account |\n",
    "| **ind_nomina_ult1** | Payroll |\n",
    "| **ind_nom_pens_ult1** | Pensions |\n",
    "| **ind_recibo_ult1** | Direct Debit |"
   ]
  },
  {
   "cell_type": "markdown",
   "metadata": {
    "id": "9DC871D_dVHD"
   },
   "source": [
    "<h2><strong>MODEL SELECTION:</strong></h2>\n",
    "Gradient Boosting is a machine learning technique used in regression and classification tasks. Commonly these are random Forest Classifier, each new model focuses on the mistakes of the previous one(s) which is achieved by reweighting the input data. \n",
    "A single model was trained using where the target variable was the product that was added. For customers that added multiple products, a single one was chosen randomly. Using objective= \"multi:softprob\", probabilities of each class were obtained.\n",
    "\n"
   ]
  },
  {
   "cell_type": "markdown",
   "metadata": {
    "id": "bYR49vLl2bEB"
   },
   "source": [
    "<h2><strong>FEATURE SELECTION:</strong></h2>\n",
    "The model above has 24 products, but two of the products i.e. \"ult_fec_cli_1t\", \"conyuemp\" were discarded completely as it contain too many null values. Maximum customer age taken is 65 years, product recommendation is decreasing continuously after the age of 50 and it is on peak between 20-30 years of age. As you have seen in the data, popularity of the product evolves over time. June 2015 contains a different new product distribution i.e. (Cco_fin and Reca_fin in particular) compared to the other months, because June marks the end of the tax year in Spain.\n",
    "Test features were generated using the most recent months. The trained model uses 5 lag month on June 2015 and calculated on only the lag data on Jan 2016."
   ]
  },
  {
   "cell_type": "markdown",
   "metadata": {
    "id": "sq-zCF-qtW3N"
   },
   "source": [
    "<h2><strong>CODE IMPLEMENTATION:</strong></h2>"
   ]
  },
  {
   "cell_type": "code",
   "execution_count": 69,
   "metadata": {
    "colab": {
     "base_uri": "https://localhost:8080/"
    },
    "id": "aFxA-3OEPUKV",
    "outputId": "b909ffd9-086e-45eb-e646-be8ef1dccea2"
   },
   "outputs": [
    {
     "name": "stdout",
     "output_type": "stream",
     "text": [
      "Populating the interactive namespace from numpy and matplotlib\n"
     ]
    },
    {
     "name": "stderr",
     "output_type": "stream",
     "text": [
      "C:\\Users\\pragy\\anaconda3\\lib\\site-packages\\IPython\\core\\magics\\pylab.py:159: UserWarning: pylab import has clobbered these variables: ['clf', 'test']\n",
      "`%matplotlib` prevents importing * from pylab and numpy\n",
      "  warn(\"pylab import has clobbered these variables: %s\"  % clobbered +\n"
     ]
    }
   ],
   "source": [
    "# Importing libraries: \n",
    "import numpy as np # linear algebra\n",
    "import pandas as pd # data processing, CSV file I/O (e.g. pd.read_csv)\n",
    "import seaborn as sns\n",
    "import matplotlib.pyplot as plt # Vusualization in python\n",
    "from sklearn import metrics\n",
    "from sklearn.linear_model import LogisticRegression\n",
    "from sklearn.metrics import roc_auc_score\n",
    "from collections import defaultdict\n",
    "%pylab inline\n",
    "pylab.rcParams['figure.figsize'] = (10, 6)"
   ]
  },
  {
   "cell_type": "code",
   "execution_count": 70,
   "metadata": {
    "colab": {
     "base_uri": "https://localhost:8080/"
    },
    "id": "0fpE7Gi9dlbg",
    "outputId": "d51c757b-4157-4c2c-dfac-562d12ef081d"
   },
   "outputs": [
    {
     "name": "stderr",
     "output_type": "stream",
     "text": [
      "C:\\Users\\pragy\\anaconda3\\lib\\site-packages\\IPython\\core\\interactiveshell.py:3444: DtypeWarning: Columns (5,8,11,15) have mixed types.Specify dtype option on import or set low_memory=False.\n",
      "  exec(code_obj, self.user_global_ns, self.user_ns)\n",
      "C:\\Users\\pragy\\anaconda3\\lib\\site-packages\\IPython\\core\\interactiveshell.py:3444: DtypeWarning: Columns (15) have mixed types.Specify dtype option on import or set low_memory=False.\n",
      "  exec(code_obj, self.user_global_ns, self.user_ns)\n"
     ]
    }
   ],
   "source": [
    "# Importing train and test CSV file.\n",
    "#Calibratating the number of rows so that kernel do not get crash.\n",
    "limit_rows=50000\n",
    "df1= pd.read_csv(\"train.csv\",dtype={\"sexo\":str,\n",
    "                                                    \"ind_nuevo\":str,\n",
    "                                                    \"ult_fec_cli_1t\":str,\n",
    "                                                    \"indext\":str}, nrows=limit_rows)\n",
    "test= pd.read_csv(\"test.csv\",dtype={\"sexo\":str,\n",
    "                                                    \"ind_nuevo\":str,\n",
    "                                                    \"ult_fec_cli_1t\":str,\n",
    "                                                    \"indext\":str}, nrows=limit_rows)\n"
   ]
  },
  {
   "cell_type": "code",
   "execution_count": 71,
   "metadata": {
    "colab": {
     "base_uri": "https://localhost:8080/",
     "height": 488
    },
    "id": "OGZSrrMeFp2c",
    "outputId": "293bb3fe-29b4-4c08-afe5-4bb2ff03cda6"
   },
   "outputs": [
    {
     "data": {
      "text/html": [
       "<div>\n",
       "<style scoped>\n",
       "    .dataframe tbody tr th:only-of-type {\n",
       "        vertical-align: middle;\n",
       "    }\n",
       "\n",
       "    .dataframe tbody tr th {\n",
       "        vertical-align: top;\n",
       "    }\n",
       "\n",
       "    .dataframe thead th {\n",
       "        text-align: right;\n",
       "    }\n",
       "</style>\n",
       "<table border=\"1\" class=\"dataframe\">\n",
       "  <thead>\n",
       "    <tr style=\"text-align: right;\">\n",
       "      <th></th>\n",
       "      <th>fecha_dato</th>\n",
       "      <th>ncodpers</th>\n",
       "      <th>ind_empleado</th>\n",
       "      <th>pais_residencia</th>\n",
       "      <th>sexo</th>\n",
       "      <th>age</th>\n",
       "      <th>fecha_alta</th>\n",
       "      <th>ind_nuevo</th>\n",
       "      <th>antiguedad</th>\n",
       "      <th>indrel</th>\n",
       "      <th>...</th>\n",
       "      <th>ind_hip_fin_ult1</th>\n",
       "      <th>ind_plan_fin_ult1</th>\n",
       "      <th>ind_pres_fin_ult1</th>\n",
       "      <th>ind_reca_fin_ult1</th>\n",
       "      <th>ind_tjcr_fin_ult1</th>\n",
       "      <th>ind_valo_fin_ult1</th>\n",
       "      <th>ind_viv_fin_ult1</th>\n",
       "      <th>ind_nomina_ult1</th>\n",
       "      <th>ind_nom_pens_ult1</th>\n",
       "      <th>ind_recibo_ult1</th>\n",
       "    </tr>\n",
       "  </thead>\n",
       "  <tbody>\n",
       "    <tr>\n",
       "      <th>0</th>\n",
       "      <td>1/28/2015</td>\n",
       "      <td>1050622</td>\n",
       "      <td>N</td>\n",
       "      <td>ES</td>\n",
       "      <td>H</td>\n",
       "      <td>23</td>\n",
       "      <td>8/10/2012</td>\n",
       "      <td>0</td>\n",
       "      <td>35</td>\n",
       "      <td>1.0</td>\n",
       "      <td>...</td>\n",
       "      <td>0</td>\n",
       "      <td>0</td>\n",
       "      <td>0</td>\n",
       "      <td>0</td>\n",
       "      <td>0</td>\n",
       "      <td>0</td>\n",
       "      <td>0</td>\n",
       "      <td>0.0</td>\n",
       "      <td>0.0</td>\n",
       "      <td>0</td>\n",
       "    </tr>\n",
       "    <tr>\n",
       "      <th>1</th>\n",
       "      <td>1/28/2015</td>\n",
       "      <td>1050492</td>\n",
       "      <td>N</td>\n",
       "      <td>ES</td>\n",
       "      <td>V</td>\n",
       "      <td>25</td>\n",
       "      <td>8/10/2012</td>\n",
       "      <td>0</td>\n",
       "      <td>35</td>\n",
       "      <td>1.0</td>\n",
       "      <td>...</td>\n",
       "      <td>0</td>\n",
       "      <td>0</td>\n",
       "      <td>0</td>\n",
       "      <td>0</td>\n",
       "      <td>0</td>\n",
       "      <td>0</td>\n",
       "      <td>0</td>\n",
       "      <td>0.0</td>\n",
       "      <td>0.0</td>\n",
       "      <td>0</td>\n",
       "    </tr>\n",
       "    <tr>\n",
       "      <th>2</th>\n",
       "      <td>1/28/2015</td>\n",
       "      <td>1050571</td>\n",
       "      <td>N</td>\n",
       "      <td>ES</td>\n",
       "      <td>H</td>\n",
       "      <td>23</td>\n",
       "      <td>8/10/2012</td>\n",
       "      <td>0</td>\n",
       "      <td>35</td>\n",
       "      <td>1.0</td>\n",
       "      <td>...</td>\n",
       "      <td>0</td>\n",
       "      <td>0</td>\n",
       "      <td>0</td>\n",
       "      <td>0</td>\n",
       "      <td>0</td>\n",
       "      <td>0</td>\n",
       "      <td>0</td>\n",
       "      <td>0.0</td>\n",
       "      <td>0.0</td>\n",
       "      <td>0</td>\n",
       "    </tr>\n",
       "    <tr>\n",
       "      <th>3</th>\n",
       "      <td>1/28/2015</td>\n",
       "      <td>1050915</td>\n",
       "      <td>N</td>\n",
       "      <td>ES</td>\n",
       "      <td>H</td>\n",
       "      <td>37</td>\n",
       "      <td>8/10/2012</td>\n",
       "      <td>0</td>\n",
       "      <td>35</td>\n",
       "      <td>1.0</td>\n",
       "      <td>...</td>\n",
       "      <td>0</td>\n",
       "      <td>0</td>\n",
       "      <td>0</td>\n",
       "      <td>0</td>\n",
       "      <td>0</td>\n",
       "      <td>0</td>\n",
       "      <td>0</td>\n",
       "      <td>0.0</td>\n",
       "      <td>0.0</td>\n",
       "      <td>0</td>\n",
       "    </tr>\n",
       "    <tr>\n",
       "      <th>4</th>\n",
       "      <td>1/28/2015</td>\n",
       "      <td>1050732</td>\n",
       "      <td>N</td>\n",
       "      <td>ES</td>\n",
       "      <td>H</td>\n",
       "      <td>23</td>\n",
       "      <td>8/10/2012</td>\n",
       "      <td>0</td>\n",
       "      <td>35</td>\n",
       "      <td>1.0</td>\n",
       "      <td>...</td>\n",
       "      <td>0</td>\n",
       "      <td>0</td>\n",
       "      <td>0</td>\n",
       "      <td>0</td>\n",
       "      <td>0</td>\n",
       "      <td>0</td>\n",
       "      <td>0</td>\n",
       "      <td>0.0</td>\n",
       "      <td>0.0</td>\n",
       "      <td>0</td>\n",
       "    </tr>\n",
       "    <tr>\n",
       "      <th>...</th>\n",
       "      <td>...</td>\n",
       "      <td>...</td>\n",
       "      <td>...</td>\n",
       "      <td>...</td>\n",
       "      <td>...</td>\n",
       "      <td>...</td>\n",
       "      <td>...</td>\n",
       "      <td>...</td>\n",
       "      <td>...</td>\n",
       "      <td>...</td>\n",
       "      <td>...</td>\n",
       "      <td>...</td>\n",
       "      <td>...</td>\n",
       "      <td>...</td>\n",
       "      <td>...</td>\n",
       "      <td>...</td>\n",
       "      <td>...</td>\n",
       "      <td>...</td>\n",
       "      <td>...</td>\n",
       "      <td>...</td>\n",
       "      <td>...</td>\n",
       "    </tr>\n",
       "    <tr>\n",
       "      <th>49995</th>\n",
       "      <td>5/28/2016</td>\n",
       "      <td>1168563</td>\n",
       "      <td>N</td>\n",
       "      <td>ES</td>\n",
       "      <td>V</td>\n",
       "      <td>33</td>\n",
       "      <td>8/22/2013</td>\n",
       "      <td>0</td>\n",
       "      <td>33</td>\n",
       "      <td>1.0</td>\n",
       "      <td>...</td>\n",
       "      <td>0</td>\n",
       "      <td>0</td>\n",
       "      <td>0</td>\n",
       "      <td>1</td>\n",
       "      <td>0</td>\n",
       "      <td>0</td>\n",
       "      <td>0</td>\n",
       "      <td>0.0</td>\n",
       "      <td>0.0</td>\n",
       "      <td>1</td>\n",
       "    </tr>\n",
       "    <tr>\n",
       "      <th>49996</th>\n",
       "      <td>5/28/2016</td>\n",
       "      <td>1166560</td>\n",
       "      <td>N</td>\n",
       "      <td>ES</td>\n",
       "      <td>V</td>\n",
       "      <td>24</td>\n",
       "      <td>8/14/2013</td>\n",
       "      <td>0</td>\n",
       "      <td>33</td>\n",
       "      <td>1.0</td>\n",
       "      <td>...</td>\n",
       "      <td>0</td>\n",
       "      <td>0</td>\n",
       "      <td>0</td>\n",
       "      <td>0</td>\n",
       "      <td>0</td>\n",
       "      <td>0</td>\n",
       "      <td>0</td>\n",
       "      <td>0.0</td>\n",
       "      <td>0.0</td>\n",
       "      <td>0</td>\n",
       "    </tr>\n",
       "    <tr>\n",
       "      <th>49997</th>\n",
       "      <td>5/28/2016</td>\n",
       "      <td>1166131</td>\n",
       "      <td>N</td>\n",
       "      <td>ES</td>\n",
       "      <td>H</td>\n",
       "      <td>23</td>\n",
       "      <td>8/14/2013</td>\n",
       "      <td>0</td>\n",
       "      <td>33</td>\n",
       "      <td>1.0</td>\n",
       "      <td>...</td>\n",
       "      <td>0</td>\n",
       "      <td>0</td>\n",
       "      <td>0</td>\n",
       "      <td>0</td>\n",
       "      <td>0</td>\n",
       "      <td>0</td>\n",
       "      <td>0</td>\n",
       "      <td>0.0</td>\n",
       "      <td>0.0</td>\n",
       "      <td>0</td>\n",
       "    </tr>\n",
       "    <tr>\n",
       "      <th>49998</th>\n",
       "      <td>5/28/2016</td>\n",
       "      <td>1166884</td>\n",
       "      <td>N</td>\n",
       "      <td>ES</td>\n",
       "      <td>H</td>\n",
       "      <td>23</td>\n",
       "      <td>8/16/2013</td>\n",
       "      <td>0</td>\n",
       "      <td>33</td>\n",
       "      <td>1.0</td>\n",
       "      <td>...</td>\n",
       "      <td>0</td>\n",
       "      <td>0</td>\n",
       "      <td>0</td>\n",
       "      <td>0</td>\n",
       "      <td>0</td>\n",
       "      <td>0</td>\n",
       "      <td>0</td>\n",
       "      <td>0.0</td>\n",
       "      <td>0.0</td>\n",
       "      <td>0</td>\n",
       "    </tr>\n",
       "    <tr>\n",
       "      <th>49999</th>\n",
       "      <td>5/28/2016</td>\n",
       "      <td>1167031</td>\n",
       "      <td>N</td>\n",
       "      <td>ES</td>\n",
       "      <td>V</td>\n",
       "      <td>22</td>\n",
       "      <td>8/16/2013</td>\n",
       "      <td>0</td>\n",
       "      <td>33</td>\n",
       "      <td>1.0</td>\n",
       "      <td>...</td>\n",
       "      <td>0</td>\n",
       "      <td>0</td>\n",
       "      <td>0</td>\n",
       "      <td>0</td>\n",
       "      <td>0</td>\n",
       "      <td>0</td>\n",
       "      <td>0</td>\n",
       "      <td>0.0</td>\n",
       "      <td>0.0</td>\n",
       "      <td>0</td>\n",
       "    </tr>\n",
       "  </tbody>\n",
       "</table>\n",
       "<p>50000 rows × 48 columns</p>\n",
       "</div>"
      ],
      "text/plain": [
       "      fecha_dato  ncodpers ind_empleado pais_residencia sexo age fecha_alta  \\\n",
       "0      1/28/2015   1050622            N              ES    H  23  8/10/2012   \n",
       "1      1/28/2015   1050492            N              ES    V  25  8/10/2012   \n",
       "2      1/28/2015   1050571            N              ES    H  23  8/10/2012   \n",
       "3      1/28/2015   1050915            N              ES    H  37  8/10/2012   \n",
       "4      1/28/2015   1050732            N              ES    H  23  8/10/2012   \n",
       "...          ...       ...          ...             ...  ...  ..        ...   \n",
       "49995  5/28/2016   1168563            N              ES    V  33  8/22/2013   \n",
       "49996  5/28/2016   1166560            N              ES    V  24  8/14/2013   \n",
       "49997  5/28/2016   1166131            N              ES    H  23  8/14/2013   \n",
       "49998  5/28/2016   1166884            N              ES    H  23  8/16/2013   \n",
       "49999  5/28/2016   1167031            N              ES    V  22  8/16/2013   \n",
       "\n",
       "      ind_nuevo antiguedad  indrel  ... ind_hip_fin_ult1 ind_plan_fin_ult1  \\\n",
       "0             0         35     1.0  ...                0                 0   \n",
       "1             0         35     1.0  ...                0                 0   \n",
       "2             0         35     1.0  ...                0                 0   \n",
       "3             0         35     1.0  ...                0                 0   \n",
       "4             0         35     1.0  ...                0                 0   \n",
       "...         ...        ...     ...  ...              ...               ...   \n",
       "49995         0         33     1.0  ...                0                 0   \n",
       "49996         0         33     1.0  ...                0                 0   \n",
       "49997         0         33     1.0  ...                0                 0   \n",
       "49998         0         33     1.0  ...                0                 0   \n",
       "49999         0         33     1.0  ...                0                 0   \n",
       "\n",
       "      ind_pres_fin_ult1 ind_reca_fin_ult1 ind_tjcr_fin_ult1 ind_valo_fin_ult1  \\\n",
       "0                     0                 0                 0                 0   \n",
       "1                     0                 0                 0                 0   \n",
       "2                     0                 0                 0                 0   \n",
       "3                     0                 0                 0                 0   \n",
       "4                     0                 0                 0                 0   \n",
       "...                 ...               ...               ...               ...   \n",
       "49995                 0                 1                 0                 0   \n",
       "49996                 0                 0                 0                 0   \n",
       "49997                 0                 0                 0                 0   \n",
       "49998                 0                 0                 0                 0   \n",
       "49999                 0                 0                 0                 0   \n",
       "\n",
       "      ind_viv_fin_ult1 ind_nomina_ult1  ind_nom_pens_ult1  ind_recibo_ult1  \n",
       "0                    0             0.0                0.0                0  \n",
       "1                    0             0.0                0.0                0  \n",
       "2                    0             0.0                0.0                0  \n",
       "3                    0             0.0                0.0                0  \n",
       "4                    0             0.0                0.0                0  \n",
       "...                ...             ...                ...              ...  \n",
       "49995                0             0.0                0.0                1  \n",
       "49996                0             0.0                0.0                0  \n",
       "49997                0             0.0                0.0                0  \n",
       "49998                0             0.0                0.0                0  \n",
       "49999                0             0.0                0.0                0  \n",
       "\n",
       "[50000 rows x 48 columns]"
      ]
     },
     "execution_count": 71,
     "metadata": {},
     "output_type": "execute_result"
    }
   ],
   "source": [
    "df1"
   ]
  },
  {
   "cell_type": "code",
   "execution_count": 72,
   "metadata": {
    "colab": {
     "base_uri": "https://localhost:8080/",
     "height": 299
    },
    "id": "PN6G2nzTeslv",
    "outputId": "d0cfbb69-8cdd-486d-a2a3-daf50ee8d9da"
   },
   "outputs": [
    {
     "data": {
      "text/html": [
       "<div>\n",
       "<style scoped>\n",
       "    .dataframe tbody tr th:only-of-type {\n",
       "        vertical-align: middle;\n",
       "    }\n",
       "\n",
       "    .dataframe tbody tr th {\n",
       "        vertical-align: top;\n",
       "    }\n",
       "\n",
       "    .dataframe thead th {\n",
       "        text-align: right;\n",
       "    }\n",
       "</style>\n",
       "<table border=\"1\" class=\"dataframe\">\n",
       "  <thead>\n",
       "    <tr style=\"text-align: right;\">\n",
       "      <th></th>\n",
       "      <th>fecha_dato</th>\n",
       "      <th>ncodpers</th>\n",
       "      <th>ind_empleado</th>\n",
       "      <th>pais_residencia</th>\n",
       "      <th>sexo</th>\n",
       "      <th>age</th>\n",
       "      <th>fecha_alta</th>\n",
       "      <th>ind_nuevo</th>\n",
       "      <th>antiguedad</th>\n",
       "      <th>indrel</th>\n",
       "      <th>...</th>\n",
       "      <th>ind_hip_fin_ult1</th>\n",
       "      <th>ind_plan_fin_ult1</th>\n",
       "      <th>ind_pres_fin_ult1</th>\n",
       "      <th>ind_reca_fin_ult1</th>\n",
       "      <th>ind_tjcr_fin_ult1</th>\n",
       "      <th>ind_valo_fin_ult1</th>\n",
       "      <th>ind_viv_fin_ult1</th>\n",
       "      <th>ind_nomina_ult1</th>\n",
       "      <th>ind_nom_pens_ult1</th>\n",
       "      <th>ind_recibo_ult1</th>\n",
       "    </tr>\n",
       "  </thead>\n",
       "  <tbody>\n",
       "    <tr>\n",
       "      <th>0</th>\n",
       "      <td>1/28/2015</td>\n",
       "      <td>1050622</td>\n",
       "      <td>N</td>\n",
       "      <td>ES</td>\n",
       "      <td>H</td>\n",
       "      <td>23</td>\n",
       "      <td>8/10/2012</td>\n",
       "      <td>0</td>\n",
       "      <td>35</td>\n",
       "      <td>1.0</td>\n",
       "      <td>...</td>\n",
       "      <td>0</td>\n",
       "      <td>0</td>\n",
       "      <td>0</td>\n",
       "      <td>0</td>\n",
       "      <td>0</td>\n",
       "      <td>0</td>\n",
       "      <td>0</td>\n",
       "      <td>0.0</td>\n",
       "      <td>0.0</td>\n",
       "      <td>0</td>\n",
       "    </tr>\n",
       "    <tr>\n",
       "      <th>1</th>\n",
       "      <td>1/28/2015</td>\n",
       "      <td>1050492</td>\n",
       "      <td>N</td>\n",
       "      <td>ES</td>\n",
       "      <td>V</td>\n",
       "      <td>25</td>\n",
       "      <td>8/10/2012</td>\n",
       "      <td>0</td>\n",
       "      <td>35</td>\n",
       "      <td>1.0</td>\n",
       "      <td>...</td>\n",
       "      <td>0</td>\n",
       "      <td>0</td>\n",
       "      <td>0</td>\n",
       "      <td>0</td>\n",
       "      <td>0</td>\n",
       "      <td>0</td>\n",
       "      <td>0</td>\n",
       "      <td>0.0</td>\n",
       "      <td>0.0</td>\n",
       "      <td>0</td>\n",
       "    </tr>\n",
       "    <tr>\n",
       "      <th>2</th>\n",
       "      <td>1/28/2015</td>\n",
       "      <td>1050571</td>\n",
       "      <td>N</td>\n",
       "      <td>ES</td>\n",
       "      <td>H</td>\n",
       "      <td>23</td>\n",
       "      <td>8/10/2012</td>\n",
       "      <td>0</td>\n",
       "      <td>35</td>\n",
       "      <td>1.0</td>\n",
       "      <td>...</td>\n",
       "      <td>0</td>\n",
       "      <td>0</td>\n",
       "      <td>0</td>\n",
       "      <td>0</td>\n",
       "      <td>0</td>\n",
       "      <td>0</td>\n",
       "      <td>0</td>\n",
       "      <td>0.0</td>\n",
       "      <td>0.0</td>\n",
       "      <td>0</td>\n",
       "    </tr>\n",
       "    <tr>\n",
       "      <th>3</th>\n",
       "      <td>1/28/2015</td>\n",
       "      <td>1050915</td>\n",
       "      <td>N</td>\n",
       "      <td>ES</td>\n",
       "      <td>H</td>\n",
       "      <td>37</td>\n",
       "      <td>8/10/2012</td>\n",
       "      <td>0</td>\n",
       "      <td>35</td>\n",
       "      <td>1.0</td>\n",
       "      <td>...</td>\n",
       "      <td>0</td>\n",
       "      <td>0</td>\n",
       "      <td>0</td>\n",
       "      <td>0</td>\n",
       "      <td>0</td>\n",
       "      <td>0</td>\n",
       "      <td>0</td>\n",
       "      <td>0.0</td>\n",
       "      <td>0.0</td>\n",
       "      <td>0</td>\n",
       "    </tr>\n",
       "    <tr>\n",
       "      <th>4</th>\n",
       "      <td>1/28/2015</td>\n",
       "      <td>1050732</td>\n",
       "      <td>N</td>\n",
       "      <td>ES</td>\n",
       "      <td>H</td>\n",
       "      <td>23</td>\n",
       "      <td>8/10/2012</td>\n",
       "      <td>0</td>\n",
       "      <td>35</td>\n",
       "      <td>1.0</td>\n",
       "      <td>...</td>\n",
       "      <td>0</td>\n",
       "      <td>0</td>\n",
       "      <td>0</td>\n",
       "      <td>0</td>\n",
       "      <td>0</td>\n",
       "      <td>0</td>\n",
       "      <td>0</td>\n",
       "      <td>0.0</td>\n",
       "      <td>0.0</td>\n",
       "      <td>0</td>\n",
       "    </tr>\n",
       "  </tbody>\n",
       "</table>\n",
       "<p>5 rows × 48 columns</p>\n",
       "</div>"
      ],
      "text/plain": [
       "  fecha_dato  ncodpers ind_empleado pais_residencia sexo age fecha_alta  \\\n",
       "0  1/28/2015   1050622            N              ES    H  23  8/10/2012   \n",
       "1  1/28/2015   1050492            N              ES    V  25  8/10/2012   \n",
       "2  1/28/2015   1050571            N              ES    H  23  8/10/2012   \n",
       "3  1/28/2015   1050915            N              ES    H  37  8/10/2012   \n",
       "4  1/28/2015   1050732            N              ES    H  23  8/10/2012   \n",
       "\n",
       "  ind_nuevo antiguedad  indrel  ... ind_hip_fin_ult1 ind_plan_fin_ult1  \\\n",
       "0         0         35     1.0  ...                0                 0   \n",
       "1         0         35     1.0  ...                0                 0   \n",
       "2         0         35     1.0  ...                0                 0   \n",
       "3         0         35     1.0  ...                0                 0   \n",
       "4         0         35     1.0  ...                0                 0   \n",
       "\n",
       "  ind_pres_fin_ult1 ind_reca_fin_ult1 ind_tjcr_fin_ult1 ind_valo_fin_ult1  \\\n",
       "0                 0                 0                 0                 0   \n",
       "1                 0                 0                 0                 0   \n",
       "2                 0                 0                 0                 0   \n",
       "3                 0                 0                 0                 0   \n",
       "4                 0                 0                 0                 0   \n",
       "\n",
       "  ind_viv_fin_ult1 ind_nomina_ult1  ind_nom_pens_ult1  ind_recibo_ult1  \n",
       "0                0             0.0                0.0                0  \n",
       "1                0             0.0                0.0                0  \n",
       "2                0             0.0                0.0                0  \n",
       "3                0             0.0                0.0                0  \n",
       "4                0             0.0                0.0                0  \n",
       "\n",
       "[5 rows x 48 columns]"
      ]
     },
     "execution_count": 72,
     "metadata": {},
     "output_type": "execute_result"
    }
   ],
   "source": [
    "#Displays the top 5 rows of the dataset.\n",
    "df1.head()"
   ]
  },
  {
   "cell_type": "markdown",
   "metadata": {
    "id": "drZxPofisJJA"
   },
   "source": [
    "<h2><strong>Data Sampling:</strong></h2>\n",
    "It is a statistical analysis technique used to select, manipulate and analyze a representative subset of the data points to identify patterns and trends in the large dataset. Dataset contain 50,000 data values, missing and inappropriate values have been removed from the dataframe."
   ]
  },
  {
   "cell_type": "code",
   "execution_count": 73,
   "metadata": {
    "colab": {
     "base_uri": "https://localhost:8080/"
    },
    "id": "hSsLe4guqr0g",
    "outputId": "a5208f52-031a-4bd1-b960-8d6785c780a9"
   },
   "outputs": [
    {
     "name": "stdout",
     "output_type": "stream",
     "text": [
      "<class 'pandas.core.frame.DataFrame'>\n",
      "RangeIndex: 50000 entries, 0 to 49999\n",
      "Data columns (total 48 columns):\n",
      " #   Column                 Non-Null Count  Dtype  \n",
      "---  ------                 --------------  -----  \n",
      " 0   fecha_dato             50000 non-null  object \n",
      " 1   ncodpers               50000 non-null  int64  \n",
      " 2   ind_empleado           49891 non-null  object \n",
      " 3   pais_residencia        49891 non-null  object \n",
      " 4   sexo                   49891 non-null  object \n",
      " 5   age                    50000 non-null  object \n",
      " 6   fecha_alta             49891 non-null  object \n",
      " 7   ind_nuevo              49891 non-null  object \n",
      " 8   antiguedad             50000 non-null  object \n",
      " 9   indrel                 49891 non-null  float64\n",
      " 10  ult_fec_cli_1t         90 non-null     object \n",
      " 11  indrel_1mes            49456 non-null  object \n",
      " 12  tiprel_1mes            49456 non-null  object \n",
      " 13  indresi                49891 non-null  object \n",
      " 14  indext                 49891 non-null  object \n",
      " 15  conyuemp               5 non-null      object \n",
      " 16  canal_entrada          49317 non-null  object \n",
      " 17  indfall                49891 non-null  object \n",
      " 18  tipodom                49891 non-null  float64\n",
      " 19  cod_prov               49660 non-null  float64\n",
      " 20  nomprov                49660 non-null  object \n",
      " 21  ind_actividad_cliente  49891 non-null  float64\n",
      " 22  renta                  39625 non-null  float64\n",
      " 23  segmento               49306 non-null  object \n",
      " 24  ind_ahor_fin_ult1      50000 non-null  int64  \n",
      " 25  ind_aval_fin_ult1      50000 non-null  int64  \n",
      " 26  ind_cco_fin_ult1       50000 non-null  int64  \n",
      " 27  ind_cder_fin_ult1      50000 non-null  int64  \n",
      " 28  ind_cno_fin_ult1       50000 non-null  int64  \n",
      " 29  ind_ctju_fin_ult1      50000 non-null  int64  \n",
      " 30  ind_ctma_fin_ult1      50000 non-null  int64  \n",
      " 31  ind_ctop_fin_ult1      50000 non-null  int64  \n",
      " 32  ind_ctpp_fin_ult1      50000 non-null  int64  \n",
      " 33  ind_deco_fin_ult1      50000 non-null  int64  \n",
      " 34  ind_deme_fin_ult1      50000 non-null  int64  \n",
      " 35  ind_dela_fin_ult1      50000 non-null  int64  \n",
      " 36  ind_ecue_fin_ult1      50000 non-null  int64  \n",
      " 37  ind_fond_fin_ult1      50000 non-null  int64  \n",
      " 38  ind_hip_fin_ult1       50000 non-null  int64  \n",
      " 39  ind_plan_fin_ult1      50000 non-null  int64  \n",
      " 40  ind_pres_fin_ult1      50000 non-null  int64  \n",
      " 41  ind_reca_fin_ult1      50000 non-null  int64  \n",
      " 42  ind_tjcr_fin_ult1      50000 non-null  int64  \n",
      " 43  ind_valo_fin_ult1      50000 non-null  int64  \n",
      " 44  ind_viv_fin_ult1       50000 non-null  int64  \n",
      " 45  ind_nomina_ult1        49936 non-null  float64\n",
      " 46  ind_nom_pens_ult1      49936 non-null  float64\n",
      " 47  ind_recibo_ult1        50000 non-null  int64  \n",
      "dtypes: float64(7), int64(23), object(18)\n",
      "memory usage: 18.3+ MB\n"
     ]
    }
   ],
   "source": [
    "#Displaying the information of the dataset:\n",
    "df1.info()"
   ]
  },
  {
   "cell_type": "code",
   "execution_count": 74,
   "metadata": {
    "colab": {
     "base_uri": "https://localhost:8080/"
    },
    "id": "HeLR-dB8qzZT",
    "outputId": "e88437ce-dbc2-4d2e-d4b5-ce01cac67cb4"
   },
   "outputs": [
    {
     "data": {
      "text/plain": [
       "fecha_dato                   0\n",
       "ncodpers                     0\n",
       "ind_empleado               109\n",
       "pais_residencia            109\n",
       "sexo                       109\n",
       "age                          0\n",
       "fecha_alta                 109\n",
       "ind_nuevo                  109\n",
       "antiguedad                   0\n",
       "indrel                     109\n",
       "ult_fec_cli_1t           49910\n",
       "indrel_1mes                544\n",
       "tiprel_1mes                544\n",
       "indresi                    109\n",
       "indext                     109\n",
       "conyuemp                 49995\n",
       "canal_entrada              683\n",
       "indfall                    109\n",
       "tipodom                    109\n",
       "cod_prov                   340\n",
       "nomprov                    340\n",
       "ind_actividad_cliente      109\n",
       "renta                    10375\n",
       "segmento                   694\n",
       "ind_ahor_fin_ult1            0\n",
       "ind_aval_fin_ult1            0\n",
       "ind_cco_fin_ult1             0\n",
       "ind_cder_fin_ult1            0\n",
       "ind_cno_fin_ult1             0\n",
       "ind_ctju_fin_ult1            0\n",
       "ind_ctma_fin_ult1            0\n",
       "ind_ctop_fin_ult1            0\n",
       "ind_ctpp_fin_ult1            0\n",
       "ind_deco_fin_ult1            0\n",
       "ind_deme_fin_ult1            0\n",
       "ind_dela_fin_ult1            0\n",
       "ind_ecue_fin_ult1            0\n",
       "ind_fond_fin_ult1            0\n",
       "ind_hip_fin_ult1             0\n",
       "ind_plan_fin_ult1            0\n",
       "ind_pres_fin_ult1            0\n",
       "ind_reca_fin_ult1            0\n",
       "ind_tjcr_fin_ult1            0\n",
       "ind_valo_fin_ult1            0\n",
       "ind_viv_fin_ult1             0\n",
       "ind_nomina_ult1             64\n",
       "ind_nom_pens_ult1           64\n",
       "ind_recibo_ult1              0\n",
       "dtype: int64"
      ]
     },
     "execution_count": 74,
     "metadata": {},
     "output_type": "execute_result"
    }
   ],
   "source": [
    "#Checking the null values in the dataset:\n",
    "df1.isnull().sum()"
   ]
  },
  {
   "cell_type": "code",
   "execution_count": 75,
   "metadata": {
    "id": "FmDYZREOm3nD"
   },
   "outputs": [],
   "source": [
    "# Drop the columns(\"ult_fec_cli_1t\", \"conyuemp\") with majority of missing values from the dataframe:\n",
    "df1 = df1.drop([\"ult_fec_cli_1t\", \"conyuemp\"], axis=1) "
   ]
  },
  {
   "cell_type": "code",
   "execution_count": 76,
   "metadata": {
    "id": "3eCSvwLzSGI9"
   },
   "outputs": [],
   "source": [
    "# Not very sure just to keep with unique_ids 'cause principal id is fecha_dato + ncodpers and if we\n",
    "# eliminate repeated ncodpers we lose some important information.\n",
    "#We take unique_ids and unique fecha_datos just to play forward.\n",
    "unique_ids   = pd.Series(df1[\"ncodpers\"].unique())\n",
    "unique_fecha_dato = df1[\"fecha_dato\"].unique()"
   ]
  },
  {
   "cell_type": "code",
   "execution_count": 77,
   "metadata": {
    "id": "4qUzY6NzyPFB"
   },
   "outputs": [],
   "source": [
    "# Format to datetime data,maybe the \"Month of the year\" is important to purchase.\n",
    "df1[\"month\"] = pd.DatetimeIndex(df1[\"fecha_dato\"]).month\n",
    "df1[\"age\"]   = pd.to_numeric(df1[\"age\"], errors=\"coerce\")"
   ]
  },
  {
   "cell_type": "code",
   "execution_count": 78,
   "metadata": {
    "id": "w_GBGMw18sUB"
   },
   "outputs": [],
   "source": [
    "# Converting desired columns from string to numerical type:\n",
    "df1[\"age\"]   = pd.to_numeric(df1[\"age\"], errors=\"coerce\") \n",
    "df1[\"antiguedad\"]   = pd.to_numeric(df1[\"antiguedad\"], errors=\"coerce\") \n",
    "df1[\"indrel_1mes\"]   = pd.to_numeric(df1[\"indrel_1mes\"], errors=\"coerce\") "
   ]
  },
  {
   "cell_type": "code",
   "execution_count": 79,
   "metadata": {
    "id": "Xmy_AJKxD07j"
   },
   "outputs": [],
   "source": [
    "#Customers who's senority level is less than zero is replaced with zero\n",
    "df1[df1[\"antiguedad\"]<0] = 0"
   ]
  },
  {
   "cell_type": "code",
   "execution_count": 80,
   "metadata": {
    "id": "fiDnlXymEeyr"
   },
   "outputs": [],
   "source": [
    "#Some of the customer's age is greater than 100 years. Dropping all the customer age greater than 100. Taking 65 as maximum age of customer. \n",
    "df1[df1[\"age\"]>65] = 0"
   ]
  },
  {
   "cell_type": "code",
   "execution_count": 81,
   "metadata": {
    "id": "e5g6dtIvQ-rN"
   },
   "outputs": [],
   "source": [
    "#Removing the null values from sexo:\n",
    "df1=df1[df1[\"sexo\"].str.contains(\"0\")==False]"
   ]
  },
  {
   "cell_type": "code",
   "execution_count": 82,
   "metadata": {
    "id": "dhEfV-GBAif4"
   },
   "outputs": [],
   "source": [
    "#Droping all the missing values:\n",
    "df1=df1.dropna(axis=0)"
   ]
  },
  {
   "cell_type": "code",
   "execution_count": 83,
   "metadata": {
    "colab": {
     "base_uri": "https://localhost:8080/"
    },
    "id": "l6-HZmJH7Cyx",
    "outputId": "d6e690a4-5df0-4084-e16e-366bba931ee8"
   },
   "outputs": [
    {
     "data": {
      "text/plain": [
       "fecha_dato               0\n",
       "ncodpers                 0\n",
       "ind_empleado             0\n",
       "pais_residencia          0\n",
       "sexo                     0\n",
       "age                      0\n",
       "fecha_alta               0\n",
       "ind_nuevo                0\n",
       "antiguedad               0\n",
       "indrel                   0\n",
       "indrel_1mes              0\n",
       "tiprel_1mes              0\n",
       "indresi                  0\n",
       "indext                   0\n",
       "canal_entrada            0\n",
       "indfall                  0\n",
       "tipodom                  0\n",
       "cod_prov                 0\n",
       "nomprov                  0\n",
       "ind_actividad_cliente    0\n",
       "renta                    0\n",
       "segmento                 0\n",
       "ind_ahor_fin_ult1        0\n",
       "ind_aval_fin_ult1        0\n",
       "ind_cco_fin_ult1         0\n",
       "ind_cder_fin_ult1        0\n",
       "ind_cno_fin_ult1         0\n",
       "ind_ctju_fin_ult1        0\n",
       "ind_ctma_fin_ult1        0\n",
       "ind_ctop_fin_ult1        0\n",
       "ind_ctpp_fin_ult1        0\n",
       "ind_deco_fin_ult1        0\n",
       "ind_deme_fin_ult1        0\n",
       "ind_dela_fin_ult1        0\n",
       "ind_ecue_fin_ult1        0\n",
       "ind_fond_fin_ult1        0\n",
       "ind_hip_fin_ult1         0\n",
       "ind_plan_fin_ult1        0\n",
       "ind_pres_fin_ult1        0\n",
       "ind_reca_fin_ult1        0\n",
       "ind_tjcr_fin_ult1        0\n",
       "ind_valo_fin_ult1        0\n",
       "ind_viv_fin_ult1         0\n",
       "ind_nomina_ult1          0\n",
       "ind_nom_pens_ult1        0\n",
       "ind_recibo_ult1          0\n",
       "month                    0\n",
       "dtype: int64"
      ]
     },
     "execution_count": 83,
     "metadata": {},
     "output_type": "execute_result"
    }
   ],
   "source": [
    "#Checking for the null values:\n",
    "df1.isnull().sum()\n",
    "#Data does not contain any null values so data sampling has been achieved:"
   ]
  },
  {
   "cell_type": "markdown",
   "metadata": {
    "id": "uPT9NR-k_p72"
   },
   "source": [
    "<h2><strong>Data Pre-Processing:</strong></h2>\n",
    "Data preprocessing refers to manipulation or dropping of data before it is used in order to ensure or enhance performance, and is an important step in the data mining process. Preprocessing involves both data validation and data imputation. The goal of data imputation is to correct errors and input missing values -- either manually or automatically."
   ]
  },
  {
   "cell_type": "code",
   "execution_count": 84,
   "metadata": {
    "colab": {
     "base_uri": "https://localhost:8080/"
    },
    "id": "2Q2-6UPs9sE-",
    "outputId": "7992b9e9-f978-4928-e50d-97857d01cfb4"
   },
   "outputs": [],
   "source": [
    "# Add a new column of the total number of products per customer per month\n",
    "df1[\"tot_products\"] = df1.loc[:,\"ind_ahor_fin_ult1\":\"ind_recibo_ult1\"].sum(axis=1)\n",
    "df1[\"tot_products\"] = pd.to_numeric(df1[\"tot_products\"], errors=\"coerce\") "
   ]
  },
  {
   "cell_type": "code",
   "execution_count": 85,
   "metadata": {
    "colab": {
     "base_uri": "https://localhost:8080/"
    },
    "id": "vRDUa2Xt9xr9",
    "outputId": "05d3a45e-8169-4fc2-8d1c-7c32f0414aa3"
   },
   "outputs": [
    {
     "data": {
      "text/plain": [
       "count     35562\n",
       "unique        1\n",
       "top          ES\n",
       "freq      35562\n",
       "Name: pais_residencia, dtype: object"
      ]
     },
     "execution_count": 85,
     "metadata": {},
     "output_type": "execute_result"
    }
   ],
   "source": [
    "#Checking customer distribution by countries:\n",
    "df1['pais_residencia'].describe() "
   ]
  },
  {
   "cell_type": "code",
   "execution_count": 86,
   "metadata": {
    "id": "_PL6Maif-GfG"
   },
   "outputs": [],
   "source": [
    "#Majority of the observations are acquired from country \"ES\". Excluding all country observations other than \"ES\".\n",
    "df1 = df1.loc[lambda df1: df1.pais_residencia == \"ES\", :]"
   ]
  },
  {
   "cell_type": "code",
   "execution_count": 87,
   "metadata": {
    "colab": {
     "base_uri": "https://localhost:8080/"
    },
    "id": "dxTK4U2m-TCB",
    "outputId": "66376862-11ab-47f6-ec9d-5f57f2428a0d"
   },
   "outputs": [
    {
     "data": {
      "text/plain": [
       "N    35542\n",
       "B        9\n",
       "F        7\n",
       "A        4\n",
       "Name: ind_empleado, dtype: int64"
      ]
     },
     "execution_count": 87,
     "metadata": {},
     "output_type": "execute_result"
    }
   ],
   "source": [
    "#Checking the employee index:\n",
    "df1['ind_empleado'].value_counts()"
   ]
  },
  {
   "cell_type": "code",
   "execution_count": 88,
   "metadata": {
    "id": "9Y03lPDk-ZoI"
   },
   "outputs": [],
   "source": [
    "#Majority of the observations are acquired from non employees \"N\". Excluding all employee observations other than \"N\".\n",
    "df1 = df1.loc[lambda df: df.ind_empleado == \"N\", :]"
   ]
  },
  {
   "cell_type": "markdown",
   "metadata": {
    "id": "s18VQoW_-ql_"
   },
   "source": [
    "<h2><strong>Data Visualization:</strong></h2>\n",
    "Data visualisation is the graphical representation of data. By using visual elements like charts, graphs and maps, data visualisation tools provide an accessible way to see and understand trends, outliers and patterns in data."
   ]
  },
  {
   "cell_type": "code",
   "execution_count": 89,
   "metadata": {
    "colab": {
     "base_uri": "https://localhost:8080/",
     "height": 422
    },
    "id": "F2LBGSLz-v1Q",
    "outputId": "64bbeebc-fd33-4d06-bcf3-1f4b5f99761a"
   },
   "outputs": [
    {
     "data": {
      "text/plain": [
       "Text(0, 0.5, 'Number of customers')"
      ]
     },
     "execution_count": 89,
     "metadata": {},
     "output_type": "execute_result"
    },
    {
     "data": {
      "image/png": "[encoded data removed]",
      "text/plain": [
       "<Figure size 720x432 with 1 Axes>"
      ]
     },
     "metadata": {},
     "output_type": "display_data"
    }
   ],
   "source": [
    "#Displaying customers' Age(years) and Number of customers in that age range.\n",
    "with sns.plotting_context(\"notebook\",font_scale=2.0):\n",
    "    sns.set_style(\"whitegrid\")\n",
    "df1['age'].hist(bins=50)\n",
    "plt.title(\"Customers' Age Distribution\")\n",
    "plt.xlabel(\"Age(years)\")\n",
    "plt.ylabel(\"Number of customers\") "
   ]
  },
  {
   "cell_type": "code",
   "execution_count": 90,
   "metadata": {
    "colab": {
     "base_uri": "https://localhost:8080/"
    },
    "id": "0aTtfk0iEt80",
    "outputId": "84857fd1-f6b2-4be1-f3ac-904483acfbfc"
   },
   "outputs": [
    {
     "data": {
      "text/plain": [
       "KHE    11912\n",
       "KFC     8482\n",
       "KAT     8339\n",
       "KFA     1010\n",
       "KHQ      924\n",
       "KHK      629\n",
       "KHD      360\n",
       "KHM      301\n",
       "RED      233\n",
       "KAG      208\n",
       "KHN      187\n",
       "KAS      184\n",
       "KAA      157\n",
       "KAY      153\n",
       "KCC      151\n",
       "Name: canal_entrada, dtype: int64"
      ]
     },
     "execution_count": 90,
     "metadata": {},
     "output_type": "execute_result"
    }
   ],
   "source": [
    "# The channel through which the customers' were attracted to join.\n",
    "df1['canal_entrada'].value_counts().head(15)"
   ]
  },
  {
   "cell_type": "code",
   "execution_count": 91,
   "metadata": {
    "colab": {
     "base_uri": "https://localhost:8080/",
     "height": 375
    },
    "id": "d5s6qGVRE-OU",
    "outputId": "2a663278-fdd6-49ab-9c41-7964639836de"
   },
   "outputs": [
    {
     "data": {
      "text/plain": [
       "<AxesSubplot:ylabel='canal_entrada'>"
      ]
     },
     "execution_count": 91,
     "metadata": {},
     "output_type": "execute_result"
    },
    {
     "data": {
      "image/png": "[encoded data removed]",
      "text/plain": [
       "<Figure size 720x432 with 1 Axes>"
      ]
     },
     "metadata": {},
     "output_type": "display_data"
    }
   ],
   "source": [
    "#Visualization Representation of customers' channel.\n",
    "df1[\"canal_entrada\"].value_counts().plot(x=None, y=None, kind='pie') "
   ]
  },
  {
   "cell_type": "markdown",
   "metadata": {
    "id": "NKHU_WQDFcUJ"
   },
   "source": [
    "The majority of customers have joined three major channels i.e. KAT, KFC, KHE.\n",
    "Since 6 out of 160 channels account for about 87.11% of the total number of customers attraction and to be able to visualze, we are going to exclude any channel has a contribution less than 1%."
   ]
  },
  {
   "cell_type": "code",
   "execution_count": 92,
   "metadata": {
    "id": "l36_C0rfNTSV"
   },
   "outputs": [],
   "source": [
    "# Let's extract the necessary columns for this step\n",
    "df_a = df1.loc[:, ['canal_entrada']].join(df1.loc[:, 'ind_ahor_fin_ult1':'ind_recibo_ult1'])"
   ]
  },
  {
   "cell_type": "code",
   "execution_count": 93,
   "metadata": {
    "id": "g322gmiHNYnF"
   },
   "outputs": [],
   "source": [
    "# Let's subset the data to keep only the records from the six major channels\n",
    "subset = [\"KHE\", \"KAT\", \"KFC\", \"KFA\", \"KHK\", \"KHQ\"]\n",
    "df_a = df_a.loc[df_a['canal_entrada'].isin(subset)]"
   ]
  },
  {
   "cell_type": "code",
   "execution_count": 94,
   "metadata": {
    "id": "HKa0cAWVNiSl"
   },
   "outputs": [],
   "source": [
    "df_a = df_a.groupby(\"canal_entrada\").agg(\"sum\")\n",
    "df_a = df_a.T"
   ]
  },
  {
   "cell_type": "code",
   "execution_count": 95,
   "metadata": {
    "colab": {
     "base_uri": "https://localhost:8080/",
     "height": 765
    },
    "id": "-Dsm0AyUNmP9",
    "outputId": "9a778b49-e0d7-43b2-fbb4-8a7c5dd18767"
   },
   "outputs": [
    {
     "data": {
      "text/plain": [
       "<matplotlib.legend.Legend at 0x1d2d67e4ee0>"
      ]
     },
     "execution_count": 95,
     "metadata": {},
     "output_type": "execute_result"
    },
    {
     "data": {
      "image/png": "[encoded data removed]",
      "text/plain": [
       "<Figure size 1152x864 with 1 Axes>"
      ]
     },
     "metadata": {},
     "output_type": "display_data"
    }
   ],
   "source": [
    "# Channels used by the customer to join and the purchased products\n",
    "df_a.plot(kind='barh', stacked=True, fontsize=14, figsize=[16,12], colormap='gist_rainbow')\n",
    "plt.title('Channels used by the customers to join and associated product uses', fontsize=20, color='black') \n",
    "plt.xlabel('Total number of customers', fontsize=17, color='black') \n",
    "plt.ylabel('Products names', fontsize=17, color='black') \n",
    "plt.legend(prop={'size':15}) "
   ]
  },
  {
   "cell_type": "code",
   "execution_count": 96,
   "metadata": {
    "colab": {
     "base_uri": "https://localhost:8080/"
    },
    "id": "y8tILWhEPyqU",
    "outputId": "4f003745-a8e8-4f4f-9ae6-1bb7c0e27fce"
   },
   "outputs": [
    {
     "name": "stderr",
     "output_type": "stream",
     "text": [
      "C:\\Users\\pragy\\AppData\\Local\\Temp/ipykernel_23316/3201353305.py:2: FutureWarning: The pandas.np module is deprecated and will be removed from pandas in a future version. Import numpy directly instead\n",
      "  df_a = (df1.groupby(pd.cut(df1['renta'], [0,60000,120000,180000,240000, pd.np.inf], right=False)).sum())\n"
     ]
    }
   ],
   "source": [
    "#Distributing the number of products based on income group:\n",
    "df_a = (df1.groupby(pd.cut(df1['renta'], [0,60000,120000,180000,240000, pd.np.inf], right=False)).sum())"
   ]
  },
  {
   "cell_type": "code",
   "execution_count": 97,
   "metadata": {
    "colab": {
     "base_uri": "https://localhost:8080/"
    },
    "id": "_B0enrq6P84G",
    "outputId": "dbfda716-0bc7-40c3-c9a8-3ec13b4a9bd2"
   },
   "outputs": [
    {
     "data": {
      "text/plain": [
       "renta\n",
       "[0.0, 60000.0)           8492.0\n",
       "[60000.0, 120000.0)     22134.0\n",
       "[120000.0, 180000.0)    12420.0\n",
       "[180000.0, 240000.0)     5600.0\n",
       "[240000.0, inf)          5434.0\n",
       "Name: tot_products, dtype: float64"
      ]
     },
     "execution_count": 97,
     "metadata": {},
     "output_type": "execute_result"
    }
   ],
   "source": [
    "#Total number of products by income groups:\n",
    "df_a[\"tot_products\"]"
   ]
  },
  {
   "cell_type": "code",
   "execution_count": 98,
   "metadata": {
    "id": "7YQL8fECQF77"
   },
   "outputs": [],
   "source": [
    "# Let's drop the columns which are unnecessary for this step\n",
    "df_a = df_a.loc[:, \"ind_ahor_fin_ult1\": \"ind_recibo_ult1\"]\n",
    "df_a = df_a.T"
   ]
  },
  {
   "cell_type": "code",
   "execution_count": 99,
   "metadata": {
    "colab": {
     "base_uri": "https://localhost:8080/",
     "height": 206
    },
    "id": "L6XQbpw7I-sn",
    "outputId": "853a6eda-c725-477d-e5d1-5bfa9b8d2769"
   },
   "outputs": [
    {
     "data": {
      "text/html": [
       "<div>\n",
       "<style scoped>\n",
       "    .dataframe tbody tr th:only-of-type {\n",
       "        vertical-align: middle;\n",
       "    }\n",
       "\n",
       "    .dataframe tbody tr th {\n",
       "        vertical-align: top;\n",
       "    }\n",
       "\n",
       "    .dataframe thead th {\n",
       "        text-align: right;\n",
       "    }\n",
       "</style>\n",
       "<table border=\"1\" class=\"dataframe\">\n",
       "  <thead>\n",
       "    <tr style=\"text-align: right;\">\n",
       "      <th>renta</th>\n",
       "      <th>[0.0, 60000.0)</th>\n",
       "      <th>[60000.0, 120000.0)</th>\n",
       "      <th>[120000.0, 180000.0)</th>\n",
       "      <th>[180000.0, 240000.0)</th>\n",
       "      <th>[240000.0, inf)</th>\n",
       "    </tr>\n",
       "  </thead>\n",
       "  <tbody>\n",
       "    <tr>\n",
       "      <th>ind_ahor_fin_ult1</th>\n",
       "      <td>0.0</td>\n",
       "      <td>2.0</td>\n",
       "      <td>0.0</td>\n",
       "      <td>1.0</td>\n",
       "      <td>0.0</td>\n",
       "    </tr>\n",
       "    <tr>\n",
       "      <th>ind_aval_fin_ult1</th>\n",
       "      <td>0.0</td>\n",
       "      <td>0.0</td>\n",
       "      <td>0.0</td>\n",
       "      <td>0.0</td>\n",
       "      <td>0.0</td>\n",
       "    </tr>\n",
       "    <tr>\n",
       "      <th>ind_cco_fin_ult1</th>\n",
       "      <td>4645.0</td>\n",
       "      <td>10355.0</td>\n",
       "      <td>4775.0</td>\n",
       "      <td>1943.0</td>\n",
       "      <td>1937.0</td>\n",
       "    </tr>\n",
       "    <tr>\n",
       "      <th>ind_cder_fin_ult1</th>\n",
       "      <td>1.0</td>\n",
       "      <td>6.0</td>\n",
       "      <td>2.0</td>\n",
       "      <td>3.0</td>\n",
       "      <td>3.0</td>\n",
       "    </tr>\n",
       "    <tr>\n",
       "      <th>ind_cno_fin_ult1</th>\n",
       "      <td>468.0</td>\n",
       "      <td>1302.0</td>\n",
       "      <td>813.0</td>\n",
       "      <td>369.0</td>\n",
       "      <td>301.0</td>\n",
       "    </tr>\n",
       "  </tbody>\n",
       "</table>\n",
       "</div>"
      ],
      "text/plain": [
       "renta              [0.0, 60000.0)  [60000.0, 120000.0)  [120000.0, 180000.0)  \\\n",
       "ind_ahor_fin_ult1             0.0                  2.0                   0.0   \n",
       "ind_aval_fin_ult1             0.0                  0.0                   0.0   \n",
       "ind_cco_fin_ult1           4645.0              10355.0                4775.0   \n",
       "ind_cder_fin_ult1             1.0                  6.0                   2.0   \n",
       "ind_cno_fin_ult1            468.0               1302.0                 813.0   \n",
       "\n",
       "renta              [180000.0, 240000.0)  [240000.0, inf)  \n",
       "ind_ahor_fin_ult1                   1.0              0.0  \n",
       "ind_aval_fin_ult1                   0.0              0.0  \n",
       "ind_cco_fin_ult1                 1943.0           1937.0  \n",
       "ind_cder_fin_ult1                   3.0              3.0  \n",
       "ind_cno_fin_ult1                  369.0            301.0  "
      ]
     },
     "execution_count": 99,
     "metadata": {},
     "output_type": "execute_result"
    }
   ],
   "source": [
    "df_a.head()"
   ]
  },
  {
   "cell_type": "code",
   "execution_count": 100,
   "metadata": {
    "colab": {
     "base_uri": "https://localhost:8080/",
     "height": 976
    },
    "id": "x8IV6zo0Rap6",
    "outputId": "6cf287bd-37ff-4ae9-aec2-4913f549848e"
   },
   "outputs": [
    {
     "data": {
      "text/plain": [
       "<matplotlib.legend.Legend at 0x1d2db980eb0>"
      ]
     },
     "execution_count": 100,
     "metadata": {},
     "output_type": "execute_result"
    },
    {
     "data": {
      "image/png": "[encoded data removed]",
      "text/plain": [
       "<Figure size 1440x1152 with 1 Axes>"
      ]
     },
     "metadata": {},
     "output_type": "display_data"
    }
   ],
   "source": [
    "# Percentage of purchased product by income group:\n",
    "df_a.plot(kind='barh', fontsize=14, figsize=[20,16], colormap='prism')\n",
    "plt.title('Product purchased by income group', fontsize=20, color='black') \n",
    "plt.xlabel('Total number of customers', fontsize=17, color='black') \n",
    "plt.ylabel('Products names', fontsize=17, color='black') \n",
    "plt.legend(prop={'size':15}) "
   ]
  },
  {
   "cell_type": "code",
   "execution_count": 101,
   "metadata": {
    "id": "63dqaEytKfGB"
   },
   "outputs": [],
   "source": [
    "#Popularity of product by Sex And Activity Index:\n",
    "df_a = df1.loc[:, ['sexo', 'ind_actividad_cliente']].join(df1.loc[:, \"ind_ahor_fin_ult1\": \"ind_recibo_ult1\"])\n",
    "df_a = df_a.groupby(['sexo', 'ind_actividad_cliente']).sum()\n",
    "df_a = df_a.T"
   ]
  },
  {
   "cell_type": "code",
   "execution_count": 102,
   "metadata": {
    "colab": {
     "base_uri": "https://localhost:8080/",
     "height": 237
    },
    "id": "099Eoo4MKnNS",
    "outputId": "de2e3a69-869c-4231-d696-7a3281e41f95"
   },
   "outputs": [
    {
     "data": {
      "text/html": [
       "<div>\n",
       "<style scoped>\n",
       "    .dataframe tbody tr th:only-of-type {\n",
       "        vertical-align: middle;\n",
       "    }\n",
       "\n",
       "    .dataframe tbody tr th {\n",
       "        vertical-align: top;\n",
       "    }\n",
       "\n",
       "    .dataframe thead tr th {\n",
       "        text-align: left;\n",
       "    }\n",
       "</style>\n",
       "<table border=\"1\" class=\"dataframe\">\n",
       "  <thead>\n",
       "    <tr>\n",
       "      <th>sexo</th>\n",
       "      <th colspan=\"2\" halign=\"left\">H</th>\n",
       "      <th colspan=\"2\" halign=\"left\">V</th>\n",
       "    </tr>\n",
       "    <tr>\n",
       "      <th>ind_actividad_cliente</th>\n",
       "      <th>0.0</th>\n",
       "      <th>1.0</th>\n",
       "      <th>0.0</th>\n",
       "      <th>1.0</th>\n",
       "    </tr>\n",
       "  </thead>\n",
       "  <tbody>\n",
       "    <tr>\n",
       "      <th>ind_ahor_fin_ult1</th>\n",
       "      <td>1.0</td>\n",
       "      <td>0.0</td>\n",
       "      <td>1.0</td>\n",
       "      <td>1.0</td>\n",
       "    </tr>\n",
       "    <tr>\n",
       "      <th>ind_aval_fin_ult1</th>\n",
       "      <td>0.0</td>\n",
       "      <td>0.0</td>\n",
       "      <td>0.0</td>\n",
       "      <td>0.0</td>\n",
       "    </tr>\n",
       "    <tr>\n",
       "      <th>ind_cco_fin_ult1</th>\n",
       "      <td>5915.0</td>\n",
       "      <td>5242.0</td>\n",
       "      <td>5449.0</td>\n",
       "      <td>7049.0</td>\n",
       "    </tr>\n",
       "    <tr>\n",
       "      <th>ind_cder_fin_ult1</th>\n",
       "      <td>0.0</td>\n",
       "      <td>2.0</td>\n",
       "      <td>1.0</td>\n",
       "      <td>12.0</td>\n",
       "    </tr>\n",
       "    <tr>\n",
       "      <th>ind_cno_fin_ult1</th>\n",
       "      <td>22.0</td>\n",
       "      <td>1325.0</td>\n",
       "      <td>21.0</td>\n",
       "      <td>1885.0</td>\n",
       "    </tr>\n",
       "  </tbody>\n",
       "</table>\n",
       "</div>"
      ],
      "text/plain": [
       "sexo                        H               V        \n",
       "ind_actividad_cliente     0.0     1.0     0.0     1.0\n",
       "ind_ahor_fin_ult1         1.0     0.0     1.0     1.0\n",
       "ind_aval_fin_ult1         0.0     0.0     0.0     0.0\n",
       "ind_cco_fin_ult1       5915.0  5242.0  5449.0  7049.0\n",
       "ind_cder_fin_ult1         0.0     2.0     1.0    12.0\n",
       "ind_cno_fin_ult1         22.0  1325.0    21.0  1885.0"
      ]
     },
     "execution_count": 102,
     "metadata": {},
     "output_type": "execute_result"
    }
   ],
   "source": [
    "df_a.head()"
   ]
  },
  {
   "cell_type": "code",
   "execution_count": 103,
   "metadata": {
    "colab": {
     "base_uri": "https://localhost:8080/",
     "height": 765
    },
    "id": "uBXg0ZvOJmZI",
    "outputId": "629626b0-0d37-494e-f04d-95466b027f9d"
   },
   "outputs": [
    {
     "data": {
      "text/plain": [
       "<matplotlib.legend.Legend at 0x1d2d5007f10>"
      ]
     },
     "execution_count": 103,
     "metadata": {},
     "output_type": "execute_result"
    },
    {
     "data": {
      "image/png": "[encoded data removed]",
      "text/plain": [
       "<Figure size 1080x792 with 1 Axes>"
      ]
     },
     "metadata": {},
     "output_type": "display_data"
    }
   ],
   "source": [
    "df_a.plot(kind='barh', stacked=True, fontsize=14, figsize=[15,11], colormap='gist_rainbow')\n",
    "plt.title('Popularity of products by sex and activity index', fontsize=20) \n",
    "plt.xlabel('Number of customers', fontsize=17) \n",
    "plt.ylabel('Products_names', fontsize=17) \n",
    "plt.legend([\"Sex:H; Activity_Ind:0\",\"Sex:H; Activity_Ind:1\", \"Sex:V; Activity_Ind:0\", \"Sex:V; Activity_Ind:1\"], prop={'size':15}) "
   ]
  },
  {
   "cell_type": "code",
   "execution_count": 104,
   "metadata": {
    "colab": {
     "base_uri": "https://localhost:8080/",
     "height": 1000
    },
    "id": "iQT9-VHFfC_G",
    "outputId": "1d879695-a600-44bb-f51a-c6c3d9a7a41f"
   },
   "outputs": [
    {
     "name": "stdout",
     "output_type": "stream",
     "text": [
      "Number of unique values in  sexo  :  2\n"
     ]
    },
    {
     "name": "stderr",
     "output_type": "stream",
     "text": [
      "C:\\Users\\pragy\\anaconda3\\lib\\site-packages\\seaborn\\_decorators.py:36: FutureWarning: Pass the following variables as keyword args: x, y. From version 0.12, the only valid positional argument will be `data`, and passing other arguments without an explicit keyword will result in an error or misinterpretation.\n",
      "  warnings.warn(\n"
     ]
    },
    {
     "data": {
      "image/png": "[encoded data removed]",
      "text/plain": [
       "<Figure size 576x288 with 1 Axes>"
      ]
     },
     "metadata": {},
     "output_type": "display_data"
    },
    {
     "name": "stdout",
     "output_type": "stream",
     "text": [
      "\n",
      "Number of unique values in  indrel_1mes  :  1\n"
     ]
    },
    {
     "name": "stderr",
     "output_type": "stream",
     "text": [
      "C:\\Users\\pragy\\anaconda3\\lib\\site-packages\\seaborn\\_decorators.py:36: FutureWarning: Pass the following variables as keyword args: x, y. From version 0.12, the only valid positional argument will be `data`, and passing other arguments without an explicit keyword will result in an error or misinterpretation.\n",
      "  warnings.warn(\n"
     ]
    },
    {
     "data": {
      "image/png": "[encoded data removed]",
      "text/plain": [
       "<Figure size 576x288 with 1 Axes>"
      ]
     },
     "metadata": {},
     "output_type": "display_data"
    },
    {
     "name": "stdout",
     "output_type": "stream",
     "text": [
      "\n",
      "Number of unique values in  tiprel_1mes  :  2\n"
     ]
    },
    {
     "name": "stderr",
     "output_type": "stream",
     "text": [
      "C:\\Users\\pragy\\anaconda3\\lib\\site-packages\\seaborn\\_decorators.py:36: FutureWarning: Pass the following variables as keyword args: x, y. From version 0.12, the only valid positional argument will be `data`, and passing other arguments without an explicit keyword will result in an error or misinterpretation.\n",
      "  warnings.warn(\n"
     ]
    },
    {
     "data": {
      "image/png": "[encoded data removed]",
      "text/plain": [
       "<Figure size 576x288 with 1 Axes>"
      ]
     },
     "metadata": {},
     "output_type": "display_data"
    },
    {
     "name": "stdout",
     "output_type": "stream",
     "text": [
      "\n",
      "Number of unique values in  nomprov  :  48\n"
     ]
    },
    {
     "name": "stderr",
     "output_type": "stream",
     "text": [
      "C:\\Users\\pragy\\anaconda3\\lib\\site-packages\\seaborn\\_decorators.py:36: FutureWarning: Pass the following variables as keyword args: x, y. From version 0.12, the only valid positional argument will be `data`, and passing other arguments without an explicit keyword will result in an error or misinterpretation.\n",
      "  warnings.warn(\n"
     ]
    },
    {
     "data": {
      "image/png": "[encoded data removed]",
      "text/plain": [
       "<Figure size 576x288 with 1 Axes>"
      ]
     },
     "metadata": {},
     "output_type": "display_data"
    },
    {
     "name": "stdout",
     "output_type": "stream",
     "text": [
      "\n",
      "Number of unique values in  ind_actividad_cliente  :  2\n"
     ]
    },
    {
     "name": "stderr",
     "output_type": "stream",
     "text": [
      "C:\\Users\\pragy\\anaconda3\\lib\\site-packages\\seaborn\\_decorators.py:36: FutureWarning: Pass the following variables as keyword args: x, y. From version 0.12, the only valid positional argument will be `data`, and passing other arguments without an explicit keyword will result in an error or misinterpretation.\n",
      "  warnings.warn(\n"
     ]
    },
    {
     "data": {
      "image/png": "[encoded data removed]",
      "text/plain": [
       "<Figure size 576x288 with 1 Axes>"
      ]
     },
     "metadata": {},
     "output_type": "display_data"
    },
    {
     "name": "stdout",
     "output_type": "stream",
     "text": [
      "\n",
      "Number of unique values in  segmento  :  3\n"
     ]
    },
    {
     "name": "stderr",
     "output_type": "stream",
     "text": [
      "C:\\Users\\pragy\\anaconda3\\lib\\site-packages\\seaborn\\_decorators.py:36: FutureWarning: Pass the following variables as keyword args: x, y. From version 0.12, the only valid positional argument will be `data`, and passing other arguments without an explicit keyword will result in an error or misinterpretation.\n",
      "  warnings.warn(\n"
     ]
    },
    {
     "data": {
      "image/png": "[encoded data removed]",
      "text/plain": [
       "<Figure size 576x288 with 1 Axes>"
      ]
     },
     "metadata": {},
     "output_type": "display_data"
    },
    {
     "name": "stdout",
     "output_type": "stream",
     "text": [
      "\n"
     ]
    }
   ],
   "source": [
    "#Visual display of the cols: \n",
    "cols = [\"sexo\",\"indrel_1mes\",\"tiprel_1mes\",\"nomprov\",\"ind_actividad_cliente\",\"segmento\"]\n",
    "for col in cols:\n",
    "    df_sample = df1.fillna('NA')\n",
    "    len_unique = len(df_sample[col].unique())\n",
    "    print(\"Number of unique values in \",col,\" : \",len_unique)\n",
    "    if len_unique < 200:\n",
    "        agg_df = df_sample[col].value_counts()\n",
    "        plt.figure(figsize=(8,4))\n",
    "        sns.barplot(agg_df.index, agg_df.values, alpha=0.8)\n",
    "        plt.xlabel(col, fontsize=12)\n",
    "        plt.ylabel('Number of customers', fontsize=12)\n",
    "        plt.xticks(rotation='vertical')\n",
    "        plt.show()\n",
    "    print()"
   ]
  },
  {
   "cell_type": "code",
   "execution_count": 105,
   "metadata": {
    "id": "TOkJut5IsvBl"
   },
   "outputs": [],
   "source": [
    "#Product distribution by sex:\n",
    "#Extracting necessary columns for this step:\n",
    "df_a= df1.loc[:, ['sexo']].join(df1.loc[:, 'ind_ahor_fin_ult1':'ind_recibo_ult1'])\n",
    "df_a = df_a.groupby(\"sexo\").agg(\"sum\")\n",
    "df_a = df_a.T"
   ]
  },
  {
   "cell_type": "code",
   "execution_count": 106,
   "metadata": {
    "colab": {
     "base_uri": "https://localhost:8080/",
     "height": 657
    },
    "id": "2XcCFGSxs6dQ",
    "outputId": "5f15b35f-80c0-4625-8595-8e9de0771ce2"
   },
   "outputs": [
    {
     "data": {
      "text/plain": [
       "<matplotlib.legend.Legend at 0x1d2d577f160>"
      ]
     },
     "execution_count": 106,
     "metadata": {},
     "output_type": "execute_result"
    },
    {
     "data": {
      "image/png": "[encoded data removed]",
      "text/plain": [
       "<Figure size 1008x720 with 1 Axes>"
      ]
     },
     "metadata": {},
     "output_type": "display_data"
    }
   ],
   "source": [
    "# Percentage of purchased products by sex:\n",
    "df_a.plot(kind='barh', stacked=True, fontsize=14, figsize=[14,10], colormap='prism')\n",
    "plt.title('Purchased products by sex ', fontsize=20, color='black') \n",
    "plt.xlabel('Total number of customers', fontsize=17, color='black') \n",
    "plt.ylabel('Products names', fontsize=17, color='black') \n",
    "plt.legend(prop={'size':15}) "
   ]
  },
  {
   "cell_type": "code",
   "execution_count": null,
   "metadata": {
    "colab": {
     "base_uri": "https://localhost:8080/",
     "height": 385
    },
    "id": "zzmu109dyeF_",
    "outputId": "873fcd59-1b92-4f02-e1c0-85ca5fbb10a8"
   },
   "outputs": [],
   "source": []
  },
  {
   "cell_type": "code",
   "execution_count": 107,
   "metadata": {
    "colab": {
     "base_uri": "https://localhost:8080/"
    },
    "id": "BP2bd-B0ZOnc",
    "outputId": "b620ee5b-4916-441d-cadd-7bce6ebe3dee"
   },
   "outputs": [
    {
     "data": {
      "text/plain": [
       "1.0     18845\n",
       "0.0      6173\n",
       "2.0      4930\n",
       "3.0      2087\n",
       "4.0      1229\n",
       "5.0       889\n",
       "6.0       608\n",
       "7.0       393\n",
       "8.0       233\n",
       "9.0        89\n",
       "10.0       43\n",
       "11.0       17\n",
       "12.0        6\n",
       "Name: tot_products, dtype: int64"
      ]
     },
     "execution_count": 107,
     "metadata": {},
     "output_type": "execute_result"
    }
   ],
   "source": [
    "#Distribution of products on the basis of customer's.\n",
    "df1[\"tot_products\"].value_counts()"
   ]
  },
  {
   "cell_type": "markdown",
   "metadata": {
    "id": "HB_QYxsIZV9x"
   },
   "source": [
    "*Most of the customers used one or two recommended product and rarely any customer used more than five recommended product.*"
   ]
  },
  {
   "cell_type": "markdown",
   "metadata": {
    "id": "rGNoWmy9RTTJ"
   },
   "source": [
    "<h2><strong>RECOMMENDATION SYSTEM:</strong></h2>\n",
    "A recommender system, or a recommendation system, is a subclass of information filtering system mainly using collaborative filtering technique that provide suggestions for products based on the customer data present in the Santander."
   ]
  },
  {
   "cell_type": "code",
   "execution_count": 108,
   "metadata": {
    "id": "iQfXBzfnpen2"
   },
   "outputs": [],
   "source": [
    "df1.drop([\"nomprov\"],axis=1,inplace=True)"
   ]
  },
  {
   "cell_type": "code",
   "execution_count": 109,
   "metadata": {
    "colab": {
     "base_uri": "https://localhost:8080/"
    },
    "id": "tnWXHjkNpmTu",
    "outputId": "02cba63e-a69e-418a-ff58-a01a2c5c0c44"
   },
   "outputs": [
    {
     "data": {
      "text/plain": [
       "0"
      ]
     },
     "execution_count": 109,
     "metadata": {},
     "output_type": "execute_result"
    }
   ],
   "source": [
    "df1.ind_nomina_ult1.isnull().sum()"
   ]
  },
  {
   "cell_type": "code",
   "execution_count": 110,
   "metadata": {
    "colab": {
     "base_uri": "https://localhost:8080/"
    },
    "id": "IbcJ9iOLpsK9",
    "outputId": "1ceb7707-af40-43e3-8090-bfb315278727"
   },
   "outputs": [
    {
     "data": {
      "text/plain": [
       "0"
      ]
     },
     "execution_count": 110,
     "metadata": {},
     "output_type": "execute_result"
    }
   ],
   "source": [
    "df1.ind_nom_pens_ult1.isnull().sum()"
   ]
  },
  {
   "cell_type": "code",
   "execution_count": 111,
   "metadata": {
    "id": "dLzxyC6TpxNF"
   },
   "outputs": [],
   "source": [
    "df1.loc[df1.ind_nomina_ult1.isnull(), \"ind_nomina_ult1\"] = 0\n",
    "df1.loc[df1.ind_nom_pens_ult1.isnull(), \"ind_nom_pens_ult1\"] = 0"
   ]
  },
  {
   "cell_type": "code",
   "execution_count": 112,
   "metadata": {
    "id": "5nzJd5kop8qA"
   },
   "outputs": [],
   "source": [
    "string_data = df1.select_dtypes(include=[\"object\"])\n",
    "missing_columns = [col for col in string_data if string_data[col].isnull().any()]\n",
    "for col in missing_columns:\n",
    "    print(\"Unique values for {0}:\\n{1}\\n\".format(col,string_data[col].unique()))\n",
    "del string_data"
   ]
  },
  {
   "cell_type": "code",
   "execution_count": 113,
   "metadata": {
    "colab": {
     "base_uri": "https://localhost:8080/"
    },
    "id": "g5-tYQzHqCUG",
    "outputId": "c85c89e4-031c-40c1-e5c5-5012e2246f33"
   },
   "outputs": [
    {
     "data": {
      "text/plain": [
       "fecha_dato               False\n",
       "ncodpers                 False\n",
       "ind_empleado             False\n",
       "pais_residencia          False\n",
       "sexo                     False\n",
       "age                      False\n",
       "fecha_alta               False\n",
       "ind_nuevo                False\n",
       "antiguedad               False\n",
       "indrel                   False\n",
       "indrel_1mes              False\n",
       "tiprel_1mes              False\n",
       "indresi                  False\n",
       "indext                   False\n",
       "canal_entrada            False\n",
       "indfall                  False\n",
       "tipodom                  False\n",
       "cod_prov                 False\n",
       "ind_actividad_cliente    False\n",
       "renta                    False\n",
       "segmento                 False\n",
       "ind_ahor_fin_ult1        False\n",
       "ind_aval_fin_ult1        False\n",
       "ind_cco_fin_ult1         False\n",
       "ind_cder_fin_ult1        False\n",
       "ind_cno_fin_ult1         False\n",
       "ind_ctju_fin_ult1        False\n",
       "ind_ctma_fin_ult1        False\n",
       "ind_ctop_fin_ult1        False\n",
       "ind_ctpp_fin_ult1        False\n",
       "ind_deco_fin_ult1        False\n",
       "ind_deme_fin_ult1        False\n",
       "ind_dela_fin_ult1        False\n",
       "ind_ecue_fin_ult1        False\n",
       "ind_fond_fin_ult1        False\n",
       "ind_hip_fin_ult1         False\n",
       "ind_plan_fin_ult1        False\n",
       "ind_pres_fin_ult1        False\n",
       "ind_reca_fin_ult1        False\n",
       "ind_tjcr_fin_ult1        False\n",
       "ind_valo_fin_ult1        False\n",
       "ind_viv_fin_ult1         False\n",
       "ind_nomina_ult1          False\n",
       "ind_nom_pens_ult1        False\n",
       "ind_recibo_ult1          False\n",
       "month                    False\n",
       "tot_products             False\n",
       "dtype: bool"
      ]
     },
     "execution_count": 113,
     "metadata": {},
     "output_type": "execute_result"
    }
   ],
   "source": [
    "df1.isnull().any()"
   ]
  },
  {
   "cell_type": "code",
   "execution_count": 114,
   "metadata": {
    "id": "z08PyYWMqHlF"
   },
   "outputs": [],
   "source": [
    "#Convert the product feature columns into integer values.\n",
    "feature_cols = df1.iloc[:1,].filter(regex=\"ind_+.*ult.*\").columns.values\n",
    "for col in feature_cols:\n",
    "    df1[col] = df1[col].astype(int)"
   ]
  },
  {
   "cell_type": "code",
   "execution_count": 115,
   "metadata": {
    "colab": {
     "base_uri": "https://localhost:8080/"
    },
    "id": "KaW9JFdM7S0T",
    "outputId": "a78bb81e-caf2-47fe-f80d-1e52f5cd5d9a"
   },
   "outputs": [
    {
     "data": {
      "text/plain": [
       "48695"
      ]
     },
     "execution_count": 115,
     "metadata": {},
     "output_type": "execute_result"
    }
   ],
   "source": [
    "#For training dataset\n",
    "usecols = ['ncodpers', 'ind_ahor_fin_ult1', 'ind_aval_fin_ult1', 'ind_cco_fin_ult1',\n",
    "       'ind_cder_fin_ult1', 'ind_cno_fin_ult1', 'ind_ctju_fin_ult1',\n",
    "       'ind_ctma_fin_ult1', 'ind_ctop_fin_ult1', 'ind_ctpp_fin_ult1',\n",
    "       'ind_deco_fin_ult1', 'ind_deme_fin_ult1', 'ind_dela_fin_ult1',\n",
    "       'ind_ecue_fin_ult1', 'ind_fond_fin_ult1', 'ind_hip_fin_ult1',\n",
    "       'ind_plan_fin_ult1', 'ind_pres_fin_ult1', 'ind_reca_fin_ult1',\n",
    "       'ind_tjcr_fin_ult1', 'ind_valo_fin_ult1', 'ind_viv_fin_ult1',\n",
    "       'ind_nomina_ult1', 'ind_nom_pens_ult1', 'ind_recibo_ult1']\n",
    "       \n",
    "df_train = pd.read_csv(\"train.csv\",dtype={\"sexo\":str,\n",
    "                                                    \"ind_nuevo\":str,\n",
    "                                                    \"ult_fec_cli_1t\":str,\n",
    "                                                    \"indext\":str}, nrows=limit_rows,usecols=usecols)\n",
    "df_test = pd.read_csv(\"train.csv\",dtype={\"sexo\":str,\n",
    "         \"ind_nuevo\":str,\"ult_fec_cli_1t\":str,\"indext\":str}, nrows=limit_rows,usecols=usecols)\n",
    "\n",
    "df_train = df_train.drop_duplicates(['ncodpers'], keep='last')\n",
    "df_train.fillna(0, inplace=True)\n",
    "\n",
    "# Not very sure just to keep with unique_ids 'cause principal id is fecha_dato + ncodpers and if we\n",
    "# eliminate repeated ncodpers we lose some important information.\n",
    "#We take unique_ids and unique fecha_datos just to play forward.\n",
    "unique_ids   = pd.Series(df_train[\"ncodpers\"].unique())\n",
    "\n",
    "df_train.count()\n",
    "unique_ids.count()"
   ]
  },
  {
   "cell_type": "code",
   "execution_count": 116,
   "metadata": {
    "colab": {
     "base_uri": "https://localhost:8080/"
    },
    "id": "eMkGv0ki9Rfe",
    "outputId": "13e072df-0b7a-4922-f269-ec2527968c79"
   },
   "outputs": [
    {
     "name": "stderr",
     "output_type": "stream",
     "text": [
      "C:\\Users\\pragy\\AppData\\Local\\Temp/ipykernel_23316/2440989082.py:12: FutureWarning: In a future version of pandas all arguments of DataFrame.drop except for the argument 'labels' will be keyword-only\n",
      "  x_train = df_train.drop([c, 'ncodpers'], 1)\n",
      "C:\\Users\\pragy\\AppData\\Local\\Temp/ipykernel_23316/2440989082.py:17: FutureWarning: In a future version of pandas all arguments of DataFrame.drop except for the argument 'labels' will be keyword-only\n",
      "  x_test = df_train.drop([c, 'ncodpers'], 1)\n"
     ]
    }
   ],
   "source": [
    "models = {}\n",
    "id_preds = defaultdict(list)\n",
    "ids = df_train['ncodpers'].values\n",
    "feature_cols = df1.iloc[:1,].filter(regex=\"ind_+.*ult.*\").columns.values\n",
    "for col in feature_cols:\n",
    "    df1[col] = df1[col].astype(int)\n",
    "# -------------------------------------------------------------------------------------------#    \n",
    "for c in df_train.columns:\n",
    "    if c != 'ncodpers':\n",
    "        #print(c)\n",
    "        y_train = df_train[c]\n",
    "        x_train = df_train.drop([c, 'ncodpers'], 1)\n",
    "        \n",
    "        \n",
    "for c in df_train.columns:\n",
    "    if c != 'ncodpers':\n",
    "        x_test = df_train.drop([c, 'ncodpers'], 1) \n",
    "        x_test = x_test.fillna(method='ffill')"
   ]
  },
  {
   "cell_type": "code",
   "execution_count": 117,
   "metadata": {
    "id": "eCqeQzbh9tZs"
   },
   "outputs": [],
   "source": [
    "#Chacking accuracy of the model using Logistic Regression\n",
    "clf = LogisticRegression()\n",
    "clf.fit(x_train, y_train)\n",
    "p_train = clf.predict_proba(x_train)[:,1]"
   ]
  },
  {
   "cell_type": "code",
   "execution_count": 118,
   "metadata": {
    "colab": {
     "base_uri": "https://localhost:8080/"
    },
    "id": "aJRgJEbc90Fb",
    "outputId": "7d367bf6-2469-4038-82be-8b74b5daf46b"
   },
   "outputs": [
    {
     "name": "stdout",
     "output_type": "stream",
     "text": [
      "Accuracy of the model is:\n",
      "86.25523935895235\n"
     ]
    }
   ],
   "source": [
    "models[c] = clf\n",
    "for id, p in zip(ids, p_train):\n",
    "      id_preds[id].append(p)\n",
    "print('Accuracy of the model is:')           \n",
    "print((roc_auc_score(y_train, p_train))*100)"
   ]
  },
  {
   "cell_type": "code",
   "execution_count": 119,
   "metadata": {
    "colab": {
     "base_uri": "https://localhost:8080/"
    },
    "id": "fQYq1GeN93Fk",
    "outputId": "d66cdd5c-8bcb-4538-c339-fc5633350d2c"
   },
   "outputs": [
    {
     "data": {
      "text/plain": [
       "ExtraTreesClassifier(max_depth=12, n_estimators=35, n_jobs=-1)"
      ]
     },
     "execution_count": 119,
     "metadata": {},
     "output_type": "execute_result"
    }
   ],
   "source": [
    "#Checking accuracy of the model using Extra Trees Classifier\n",
    "from sklearn import ensemble\n",
    "clf2 = ensemble.ExtraTreesClassifier(n_estimators = 35, n_jobs = -1, max_depth = 12)\n",
    "clf2.fit(x_train, y_train)"
   ]
  },
  {
   "cell_type": "code",
   "execution_count": 120,
   "metadata": {
    "id": "Bn1ejnJL967j"
   },
   "outputs": [],
   "source": [
    "p_train3 = clf2.predict_proba(x_train)[:,1]"
   ]
  },
  {
   "cell_type": "code",
   "execution_count": 121,
   "metadata": {
    "colab": {
     "base_uri": "https://localhost:8080/"
    },
    "id": "Cjjs6QBj9_r_",
    "outputId": "482f27f9-8981-4aee-e660-247fd9802f44"
   },
   "outputs": [
    {
     "name": "stdout",
     "output_type": "stream",
     "text": [
      "Accuracy of the model is:\n",
      "86.87222383500377\n"
     ]
    }
   ],
   "source": [
    "models[c] = clf2\n",
    "for id, p in zip(ids, p_train3):\n",
    "      id_preds[id].append(p)\n",
    "print('Accuracy of the model is:')           \n",
    "print((roc_auc_score(y_train, p_train3))*100)"
   ]
  },
  {
   "cell_type": "code",
   "execution_count": 122,
   "metadata": {
    "colab": {
     "base_uri": "https://localhost:8080/"
    },
    "id": "GeAIEahn-ETr",
    "outputId": "88257824-aa8b-4be6-a35e-87aedf9eb1f3"
   },
   "outputs": [
    {
     "name": "stderr",
     "output_type": "stream",
     "text": [
      "[Parallel(n_jobs=-1)]: Using backend ThreadingBackend with 4 concurrent workers.\n",
      "[Parallel(n_jobs=-1)]: Done  30 out of  30 | elapsed:    0.3s finished\n",
      "[Parallel(n_jobs=4)]: Using backend ThreadingBackend with 4 concurrent workers.\n",
      "[Parallel(n_jobs=4)]: Done  30 out of  30 | elapsed:    0.0s finished\n"
     ]
    }
   ],
   "source": [
    "#Checking accuracy of the model using Random Forest Classifier\n",
    "clf1 = ensemble.RandomForestClassifier(n_estimators=30, n_jobs=-1,max_depth=10, min_samples_split=10, verbose=1)\n",
    "clf1.fit(x_train, y_train)\n",
    "p_train1 = clf1.predict_proba(x_train)[:,1]"
   ]
  },
  {
   "cell_type": "code",
   "execution_count": 123,
   "metadata": {
    "colab": {
     "base_uri": "https://localhost:8080/"
    },
    "id": "M1dehPBk-M8r",
    "outputId": "afe49a82-f450-4485-f5b4-c7432e054dd9"
   },
   "outputs": [
    {
     "name": "stdout",
     "output_type": "stream",
     "text": [
      "Accuracy of the model is:\n",
      "86.59069139872543\n"
     ]
    }
   ],
   "source": [
    "models[c] = clf1\n",
    "for id, p in zip(ids, p_train1):\n",
    "      id_preds[id].append(p)\n",
    "print('Accuracy of the model is:')            \n",
    "print((roc_auc_score(y_train, p_train1))*100)"
   ]
  },
  {
   "cell_type": "markdown",
   "metadata": {
    "id": "-w2kNYMy-arP"
   },
   "source": [
    "<h1><strong>Results<strong></h1>"
   ]
  },
  {
   "cell_type": "code",
   "execution_count": 124,
   "metadata": {
    "id": "BVtTkC-G-Rj9"
   },
   "outputs": [],
   "source": [
    "#Formula to predict product recommendation for the customer.\n",
    "active_ = {}\n",
    "for val in df_train.values:\n",
    "    val = list(val)\n",
    "    id = val.pop(0) ## pop ncodpers (customer id)\n",
    "    ## active column\n",
    "    active  = [c[0] for c in zip(df_train.columns[1:],val) if c[1] > 0]\n",
    "    active_[id] = active\n",
    "    \n",
    "train_preds = {}\n",
    "for id,val in id_preds.items():\n",
    "    preds = [i[0] for i in sorted([i for i in zip(df_train.columns[1:],val) if i[0] not in active_[id]], key=lambda i:i [1], reverse=True)[:7]]\n",
    "    train_preds[id] = preds\n"
   ]
  },
  {
   "cell_type": "code",
   "execution_count": 125,
   "metadata": {
    "colab": {
     "base_uri": "https://localhost:8080/"
    },
    "id": "EFf0haFn-Vbk",
    "outputId": "3beac325-a700-47ec-b5ca-ce8c33c0b483"
   },
   "outputs": [
    {
     "data": {
      "text/plain": [
       "{1050622: ['ind_ahor_fin_ult1', 'ind_aval_fin_ult1'],\n",
       " 1050492: ['ind_ahor_fin_ult1', 'ind_aval_fin_ult1'],\n",
       " 1050571: ['ind_ahor_fin_ult1', 'ind_aval_fin_ult1'],\n",
       " 1050732: ['ind_ahor_fin_ult1', 'ind_aval_fin_ult1'],\n",
       " 1049995: ['ind_ahor_fin_ult1', 'ind_aval_fin_ult1'],\n",
       " 1049527: ['ind_ahor_fin_ult1', 'ind_aval_fin_ult1'],\n",
       " 1056010: ['ind_ahor_fin_ult1', 'ind_aval_fin_ult1'],\n",
       " 1055830: ['ind_ahor_fin_ult1', 'ind_aval_fin_ult1'],\n",
       " 1055252: ['ind_ahor_fin_ult1', 'ind_aval_fin_ult1'],\n",
       " 1055633: ['ind_ahor_fin_ult1', 'ind_aval_fin_ult1'],\n",
       " 1055537: ['ind_ahor_fin_ult1', 'ind_aval_fin_ult1'],\n",
       " 1056842: ['ind_ahor_fin_ult1', 'ind_aval_fin_ult1'],\n",
       " 1052526: ['ind_ahor_fin_ult1', 'ind_aval_fin_ult1'],\n",
       " 1052489: ['ind_ahor_fin_ult1', 'ind_aval_fin_ult1'],\n",
       " 1052857: ['ind_ahor_fin_ult1', 'ind_aval_fin_ult1'],\n",
       " 1055000: ['ind_ahor_fin_ult1', 'ind_aval_fin_ult1'],\n",
       " 1054812: ['ind_ahor_fin_ult1', 'ind_aval_fin_ult1'],\n",
       " 1044123: ['ind_ahor_fin_ult1', 'ind_aval_fin_ult1'],\n",
       " 1044125: ['ind_ahor_fin_ult1', 'ind_aval_fin_ult1'],\n",
       " 1043780: ['ind_ahor_fin_ult1', 'ind_aval_fin_ult1'],\n",
       " 1043970: ['ind_ahor_fin_ult1', 'ind_aval_fin_ult1'],\n",
       " 1043946: ['ind_ahor_fin_ult1', 'ind_aval_fin_ult1'],\n",
       " 1045126: ['ind_ahor_fin_ult1', 'ind_aval_fin_ult1'],\n",
       " 1045270: ['ind_ahor_fin_ult1', 'ind_aval_fin_ult1'],\n",
       " 1044482: ['ind_ahor_fin_ult1', 'ind_aval_fin_ult1'],\n",
       " 1044548: ['ind_cco_fin_ult1', 'ind_aval_fin_ult1', 'ind_ahor_fin_ult1'],\n",
       " 1042650: ['ind_ahor_fin_ult1', 'ind_aval_fin_ult1'],\n",
       " 1042617: ['ind_ahor_fin_ult1', 'ind_aval_fin_ult1'],\n",
       " 1047433: ['ind_ahor_fin_ult1', 'ind_aval_fin_ult1'],\n",
       " 1047298: ['ind_ahor_fin_ult1', 'ind_aval_fin_ult1'],\n",
       " 1046963: ['ind_ahor_fin_ult1', 'ind_aval_fin_ult1'],\n",
       " 1048077: ['ind_ahor_fin_ult1', 'ind_aval_fin_ult1'],\n",
       " 1045623: ['ind_ahor_fin_ult1', 'ind_aval_fin_ult1'],\n",
       " 1045660: ['ind_ahor_fin_ult1', 'ind_aval_fin_ult1'],\n",
       " 1046704: ['ind_ahor_fin_ult1', 'ind_aval_fin_ult1'],\n",
       " 1046215: ['ind_ahor_fin_ult1', 'ind_aval_fin_ult1'],\n",
       " 1065330: ['ind_ahor_fin_ult1', 'ind_aval_fin_ult1'],\n",
       " 1066439: ['ind_ahor_fin_ult1', 'ind_aval_fin_ult1'],\n",
       " 1065913: ['ind_ahor_fin_ult1', 'ind_aval_fin_ult1'],\n",
       " 1066000: ['ind_ahor_fin_ult1', 'ind_aval_fin_ult1'],\n",
       " 1064030: ['ind_ahor_fin_ult1', 'ind_aval_fin_ult1'],\n",
       " 1064895: ['ind_ahor_fin_ult1', 'ind_aval_fin_ult1'],\n",
       " 1064553: ['ind_ahor_fin_ult1', 'ind_aval_fin_ult1'],\n",
       " 1068612: ['ind_aval_fin_ult1', 'ind_cco_fin_ult1', 'ind_ahor_fin_ult1'],\n",
       " 1068482: ['ind_ahor_fin_ult1', 'ind_aval_fin_ult1'],\n",
       " 1068879: ['ind_ahor_fin_ult1', 'ind_aval_fin_ult1'],\n",
       " 1069356: ['ind_ahor_fin_ult1', 'ind_aval_fin_ult1'],\n",
       " 1069589: ['ind_ahor_fin_ult1', 'ind_aval_fin_ult1'],\n",
       " 1069492: ['ind_ahor_fin_ult1', 'ind_aval_fin_ult1'],\n",
       " 1069532: ['ind_ahor_fin_ult1', 'ind_aval_fin_ult1'],\n",
       " 1067103: ['ind_ahor_fin_ult1', 'ind_aval_fin_ult1'],\n",
       " 1066767: ['ind_ahor_fin_ult1', 'ind_aval_fin_ult1'],\n",
       " 1067834: ['ind_ahor_fin_ult1', 'ind_aval_fin_ult1'],\n",
       " 1068028: ['ind_ahor_fin_ult1', 'ind_aval_fin_ult1'],\n",
       " 1067957: ['ind_ahor_fin_ult1', 'ind_aval_fin_ult1'],\n",
       " 1059322: ['ind_ahor_fin_ult1', 'ind_aval_fin_ult1'],\n",
       " 1059009: ['ind_ahor_fin_ult1', 'ind_aval_fin_ult1'],\n",
       " 1058998: ['ind_ahor_fin_ult1', 'ind_aval_fin_ult1'],\n",
       " 1060226: ['ind_ahor_fin_ult1', 'ind_aval_fin_ult1'],\n",
       " 1057811: ['ind_ahor_fin_ult1', 'ind_aval_fin_ult1'],\n",
       " 1058484: ['ind_ahor_fin_ult1', 'ind_aval_fin_ult1'],\n",
       " 1058706: ['ind_ahor_fin_ult1', 'ind_aval_fin_ult1'],\n",
       " 1058038: ['ind_ahor_fin_ult1', 'ind_aval_fin_ult1'],\n",
       " 1062690: ['ind_ahor_fin_ult1', 'ind_aval_fin_ult1'],\n",
       " 1061984: ['ind_ahor_fin_ult1', 'ind_aval_fin_ult1'],\n",
       " 1063114: ['ind_ahor_fin_ult1', 'ind_aval_fin_ult1'],\n",
       " 1063157: ['ind_ahor_fin_ult1', 'ind_aval_fin_ult1'],\n",
       " 1063426: ['ind_ahor_fin_ult1', 'ind_aval_fin_ult1'],\n",
       " 1062966: ['ind_ahor_fin_ult1', 'ind_aval_fin_ult1'],\n",
       " 1062946: ['ind_cco_fin_ult1', 'ind_aval_fin_ult1', 'ind_ahor_fin_ult1'],\n",
       " 1060508: ['ind_cco_fin_ult1', 'ind_aval_fin_ult1', 'ind_ahor_fin_ult1'],\n",
       " 1060516: ['ind_ahor_fin_ult1', 'ind_aval_fin_ult1'],\n",
       " 1025486: ['ind_ahor_fin_ult1', 'ind_aval_fin_ult1'],\n",
       " 1025470: ['ind_ahor_fin_ult1', 'ind_aval_fin_ult1'],\n",
       " 1025875: ['ind_ahor_fin_ult1', 'ind_aval_fin_ult1'],\n",
       " 1023800: ['ind_ahor_fin_ult1', 'ind_aval_fin_ult1'],\n",
       " 1023859: ['ind_ahor_fin_ult1', 'ind_aval_fin_ult1'],\n",
       " 1023839: ['ind_ahor_fin_ult1', 'ind_aval_fin_ult1'],\n",
       " 1023318: ['ind_ahor_fin_ult1', 'ind_aval_fin_ult1'],\n",
       " 1023436: ['ind_ahor_fin_ult1', 'ind_aval_fin_ult1'],\n",
       " 1024560: ['ind_ahor_fin_ult1', 'ind_aval_fin_ult1'],\n",
       " 1024547: ['ind_ahor_fin_ult1', 'ind_aval_fin_ult1'],\n",
       " 1024776: ['ind_cco_fin_ult1', 'ind_aval_fin_ult1', 'ind_ahor_fin_ult1'],\n",
       " 1024697: ['ind_ahor_fin_ult1', 'ind_aval_fin_ult1'],\n",
       " 1024688: ['ind_ahor_fin_ult1', 'ind_aval_fin_ult1'],\n",
       " 1028228: ['ind_ahor_fin_ult1', 'ind_aval_fin_ult1'],\n",
       " 1028103: ['ind_ahor_fin_ult1', 'ind_aval_fin_ult1'],\n",
       " 1028346: ['ind_ahor_fin_ult1', 'ind_aval_fin_ult1'],\n",
       " 1027895: ['ind_ahor_fin_ult1', 'ind_aval_fin_ult1'],\n",
       " 1028885: ['ind_ahor_fin_ult1', 'ind_aval_fin_ult1'],\n",
       " 1029135: ['ind_ahor_fin_ult1', 'ind_aval_fin_ult1'],\n",
       " 1026478: ['ind_ahor_fin_ult1', 'ind_aval_fin_ult1'],\n",
       " 1027561: ['ind_ahor_fin_ult1', 'ind_aval_fin_ult1'],\n",
       " 1027745: ['ind_ahor_fin_ult1', 'ind_aval_fin_ult1'],\n",
       " 1016114: ['ind_aval_fin_ult1', 'ind_ahor_fin_ult1'],\n",
       " 1017482: ['ind_ahor_fin_ult1', 'ind_aval_fin_ult1'],\n",
       " 1013691: ['ind_ahor_fin_ult1', 'ind_aval_fin_ult1'],\n",
       " 1015309: ['ind_ahor_fin_ult1', 'ind_cco_fin_ult1', 'ind_aval_fin_ult1'],\n",
       " 1021790: ['ind_ahor_fin_ult1', 'ind_aval_fin_ult1'],\n",
       " 1022702: ['ind_ahor_fin_ult1', 'ind_aval_fin_ult1'],\n",
       " 1023041: ['ind_ahor_fin_ult1', 'ind_aval_fin_ult1'],\n",
       " 1022159: ['ind_ahor_fin_ult1', 'ind_aval_fin_ult1'],\n",
       " 1018993: ['ind_aval_fin_ult1', 'ind_ahor_fin_ult1'],\n",
       " 1018387: ['ind_cco_fin_ult1', 'ind_aval_fin_ult1', 'ind_ahor_fin_ult1'],\n",
       " 1018859: ['ind_ahor_fin_ult1', 'ind_aval_fin_ult1'],\n",
       " 1018725: ['ind_ahor_fin_ult1', 'ind_aval_fin_ult1'],\n",
       " 1020365: ['ind_ahor_fin_ult1', 'ind_aval_fin_ult1'],\n",
       " 1020610: ['ind_ahor_fin_ult1', 'ind_aval_fin_ult1', 'ind_cco_fin_ult1'],\n",
       " 1019841: ['ind_cco_fin_ult1', 'ind_aval_fin_ult1', 'ind_ahor_fin_ult1'],\n",
       " 1037998: ['ind_ahor_fin_ult1', 'ind_aval_fin_ult1'],\n",
       " 1037437: ['ind_ahor_fin_ult1', 'ind_aval_fin_ult1'],\n",
       " 1037606: ['ind_ahor_fin_ult1', 'ind_aval_fin_ult1'],\n",
       " 1038770: ['ind_ahor_fin_ult1', 'ind_aval_fin_ult1'],\n",
       " 1038235: ['ind_ahor_fin_ult1', 'ind_aval_fin_ult1'],\n",
       " 1036347: ['ind_ahor_fin_ult1', 'ind_aval_fin_ult1'],\n",
       " 1035760: ['ind_ahor_fin_ult1', 'ind_aval_fin_ult1'],\n",
       " 1036084: ['ind_ahor_fin_ult1', 'ind_aval_fin_ult1'],\n",
       " 1036614: ['ind_ahor_fin_ult1', 'ind_aval_fin_ult1'],\n",
       " 1037286: ['ind_ahor_fin_ult1', 'ind_aval_fin_ult1'],\n",
       " 1037200: ['ind_ahor_fin_ult1', 'ind_aval_fin_ult1'],\n",
       " 1041356: ['ind_ahor_fin_ult1', 'ind_aval_fin_ult1'],\n",
       " 1041819: ['ind_ahor_fin_ult1', 'ind_aval_fin_ult1'],\n",
       " 1041835: ['ind_ahor_fin_ult1', 'ind_aval_fin_ult1'],\n",
       " 1039577: ['ind_ahor_fin_ult1', 'ind_aval_fin_ult1'],\n",
       " 1039494: ['ind_ahor_fin_ult1', 'ind_aval_fin_ult1'],\n",
       " 1038986: ['ind_ahor_fin_ult1', 'ind_aval_fin_ult1'],\n",
       " 1039243: ['ind_ahor_fin_ult1', 'ind_aval_fin_ult1'],\n",
       " 1039283: ['ind_ahor_fin_ult1', 'ind_aval_fin_ult1'],\n",
       " 1039306: ['ind_ahor_fin_ult1', 'ind_aval_fin_ult1'],\n",
       " 1040238: ['ind_ahor_fin_ult1', 'ind_aval_fin_ult1'],\n",
       " 1040161: ['ind_ahor_fin_ult1', 'ind_aval_fin_ult1'],\n",
       " 1031368: ['ind_aval_fin_ult1', 'ind_ahor_fin_ult1'],\n",
       " 1030786: ['ind_cco_fin_ult1', 'ind_aval_fin_ult1', 'ind_ahor_fin_ult1'],\n",
       " 1032039: ['ind_ahor_fin_ult1', 'ind_aval_fin_ult1'],\n",
       " 1032164: ['ind_cco_fin_ult1', 'ind_aval_fin_ult1', 'ind_ahor_fin_ult1'],\n",
       " 1031714: ['ind_ahor_fin_ult1', 'ind_aval_fin_ult1'],\n",
       " 1031757: ['ind_ahor_fin_ult1', 'ind_aval_fin_ult1'],\n",
       " 1031814: ['ind_ahor_fin_ult1', 'ind_aval_fin_ult1'],\n",
       " 1029753: ['ind_ahor_fin_ult1', 'ind_aval_fin_ult1'],\n",
       " 1029880: ['ind_ahor_fin_ult1', 'ind_aval_fin_ult1'],\n",
       " 1029843: ['ind_ahor_fin_ult1', 'ind_aval_fin_ult1'],\n",
       " 1029825: ['ind_ahor_fin_ult1', 'ind_aval_fin_ult1'],\n",
       " 1029335: ['ind_ahor_fin_ult1', 'ind_aval_fin_ult1'],\n",
       " 1029422: ['ind_ahor_fin_ult1', 'ind_aval_fin_ult1'],\n",
       " 1030590: ['ind_ahor_fin_ult1', 'ind_aval_fin_ult1'],\n",
       " 1034097: ['ind_ahor_fin_ult1', 'ind_aval_fin_ult1'],\n",
       " 1035418: ['ind_ahor_fin_ult1', 'ind_aval_fin_ult1'],\n",
       " 1035272: ['ind_ahor_fin_ult1', 'ind_aval_fin_ult1'],\n",
       " 1033080: ['ind_ahor_fin_ult1', 'ind_aval_fin_ult1'],\n",
       " 1033859: ['ind_ahor_fin_ult1', 'ind_aval_fin_ult1'],\n",
       " 1033780: ['ind_ahor_fin_ult1', 'ind_aval_fin_ult1'],\n",
       " 1033845: ['ind_ahor_fin_ult1', 'ind_aval_fin_ult1'],\n",
       " 1033402: ['ind_ahor_fin_ult1', 'ind_aval_fin_ult1'],\n",
       " 1104957: ['ind_ahor_fin_ult1', 'ind_aval_fin_ult1'],\n",
       " 1106354: ['ind_ahor_fin_ult1', 'ind_aval_fin_ult1'],\n",
       " 1106810: ['ind_ahor_fin_ult1', 'ind_aval_fin_ult1'],\n",
       " 1106201: ['ind_ahor_fin_ult1', 'ind_aval_fin_ult1'],\n",
       " 1104932: ['ind_ahor_fin_ult1', 'ind_aval_fin_ult1'],\n",
       " 1104521: ['ind_ahor_fin_ult1', 'ind_aval_fin_ult1'],\n",
       " 1109295: ['ind_aval_fin_ult1', 'ind_ahor_fin_ult1'],\n",
       " 1109341: ['ind_ahor_fin_ult1', 'ind_aval_fin_ult1'],\n",
       " 1108888: ['ind_ahor_fin_ult1', 'ind_aval_fin_ult1'],\n",
       " 1110333: ['ind_ahor_fin_ult1', 'ind_aval_fin_ult1'],\n",
       " 1106843: ['ind_ahor_fin_ult1', 'ind_aval_fin_ult1'],\n",
       " 1098787: ['ind_ahor_fin_ult1', 'ind_aval_fin_ult1'],\n",
       " 1099392: ['ind_ahor_fin_ult1', 'ind_aval_fin_ult1'],\n",
       " 1099714: ['ind_ahor_fin_ult1', 'ind_aval_fin_ult1'],\n",
       " 1099580: ['ind_ahor_fin_ult1', 'ind_aval_fin_ult1'],\n",
       " 1099132: ['ind_ahor_fin_ult1', 'ind_aval_fin_ult1'],\n",
       " 1098943: ['ind_ahor_fin_ult1', 'ind_aval_fin_ult1'],\n",
       " 1096543: ['ind_ahor_fin_ult1', 'ind_aval_fin_ult1'],\n",
       " 1097221: ['ind_aval_fin_ult1', 'ind_ahor_fin_ult1'],\n",
       " 1102026: ['ind_ahor_fin_ult1', 'ind_aval_fin_ult1'],\n",
       " 1102308: ['ind_ahor_fin_ult1', 'ind_aval_fin_ult1'],\n",
       " 1101676: ['ind_ahor_fin_ult1', 'ind_aval_fin_ult1'],\n",
       " 1101783: ['ind_ahor_fin_ult1', 'ind_aval_fin_ult1'],\n",
       " 1101805: ['ind_ahor_fin_ult1', 'ind_aval_fin_ult1'],\n",
       " 1103004: ['ind_ahor_fin_ult1', 'ind_aval_fin_ult1'],\n",
       " 1103044: ['ind_ahor_fin_ult1', 'ind_aval_fin_ult1'],\n",
       " 1102920: ['ind_aval_fin_ult1', 'ind_ahor_fin_ult1'],\n",
       " 1100309: ['ind_ahor_fin_ult1', 'ind_aval_fin_ult1'],\n",
       " 1100499: ['ind_ahor_fin_ult1', 'ind_aval_fin_ult1'],\n",
       " 1099788: ['ind_ahor_fin_ult1', 'ind_aval_fin_ult1'],\n",
       " 1100049: ['ind_aval_fin_ult1', 'ind_ahor_fin_ult1'],\n",
       " 1101300: ['ind_aval_fin_ult1', 'ind_ahor_fin_ult1'],\n",
       " 1101265: ['ind_aval_fin_ult1', 'ind_ahor_fin_ult1'],\n",
       " 1101273: ['ind_ahor_fin_ult1', 'ind_aval_fin_ult1'],\n",
       " 1101133: ['ind_ahor_fin_ult1', 'ind_aval_fin_ult1'],\n",
       " 1123579: ['ind_ahor_fin_ult1', 'ind_aval_fin_ult1'],\n",
       " 1122695: ['ind_ahor_fin_ult1', 'ind_aval_fin_ult1'],\n",
       " 1124832: ['ind_ahor_fin_ult1', 'ind_aval_fin_ult1'],\n",
       " 1124651: ['ind_ahor_fin_ult1', 'ind_cco_fin_ult1', 'ind_aval_fin_ult1'],\n",
       " 1125183: ['ind_ahor_fin_ult1', 'ind_cco_fin_ult1', 'ind_aval_fin_ult1'],\n",
       " 1124315: ['ind_aval_fin_ult1', 'ind_ahor_fin_ult1'],\n",
       " 1120893: ['ind_cco_fin_ult1', 'ind_aval_fin_ult1', 'ind_ahor_fin_ult1'],\n",
       " 1120175: ['ind_ahor_fin_ult1', 'ind_aval_fin_ult1'],\n",
       " 1131548: ['ind_ahor_fin_ult1', 'ind_aval_fin_ult1'],\n",
       " 1131519: ['ind_aval_fin_ult1', 'ind_ahor_fin_ult1'],\n",
       " 1131397: ['ind_aval_fin_ult1', 'ind_ahor_fin_ult1'],\n",
       " 1127931: ['ind_ahor_fin_ult1', 'ind_aval_fin_ult1'],\n",
       " 1133275: ['ind_ahor_fin_ult1', 'ind_aval_fin_ult1'],\n",
       " 1131662: ['ind_aval_fin_ult1', 'ind_ahor_fin_ult1'],\n",
       " 1132731: ['ind_ahor_fin_ult1', 'ind_aval_fin_ult1'],\n",
       " 1132563: ['ind_ahor_fin_ult1', 'ind_aval_fin_ult1'],\n",
       " 1127319: ['ind_ahor_fin_ult1', 'ind_aval_fin_ult1'],\n",
       " 1126699: ['ind_cco_fin_ult1', 'ind_aval_fin_ult1', 'ind_ahor_fin_ult1'],\n",
       " 1112741: ['ind_ahor_fin_ult1', 'ind_aval_fin_ult1'],\n",
       " 1113012: ['ind_ahor_fin_ult1', 'ind_aval_fin_ult1'],\n",
       " 1114185: ['ind_cco_fin_ult1', 'ind_aval_fin_ult1', 'ind_ahor_fin_ult1'],\n",
       " 1114487: ['ind_ahor_fin_ult1', 'ind_aval_fin_ult1'],\n",
       " 1111373: ['ind_ahor_fin_ult1', 'ind_aval_fin_ult1'],\n",
       " 1111002: ['ind_ahor_fin_ult1', 'ind_aval_fin_ult1'],\n",
       " 1111719: ['ind_aval_fin_ult1', 'ind_ahor_fin_ult1'],\n",
       " 1111563: ['ind_ahor_fin_ult1', 'ind_aval_fin_ult1'],\n",
       " 1118503: ['ind_cco_fin_ult1', 'ind_aval_fin_ult1', 'ind_ahor_fin_ult1'],\n",
       " 1118242: ['ind_aval_fin_ult1', 'ind_ahor_fin_ult1'],\n",
       " 1119058: ['ind_ahor_fin_ult1', 'ind_aval_fin_ult1'],\n",
       " 1115403: ['ind_aval_fin_ult1', 'ind_ahor_fin_ult1'],\n",
       " 1115651: ['ind_ahor_fin_ult1', 'ind_aval_fin_ult1'],\n",
       " 1115118: ['ind_aval_fin_ult1', 'ind_ahor_fin_ult1'],\n",
       " 1116539: ['ind_ahor_fin_ult1', 'ind_aval_fin_ult1'],\n",
       " 1077491: ['ind_ahor_fin_ult1', 'ind_aval_fin_ult1', 'ind_cco_fin_ult1'],\n",
       " 1077715: ['ind_ahor_fin_ult1', 'ind_aval_fin_ult1'],\n",
       " 1078636: ['ind_ahor_fin_ult1', 'ind_aval_fin_ult1'],\n",
       " 1076209: ['ind_ahor_fin_ult1', 'ind_aval_fin_ult1'],\n",
       " 1075940: ['ind_ahor_fin_ult1', 'ind_aval_fin_ult1'],\n",
       " 1076598: ['ind_ahor_fin_ult1', 'ind_aval_fin_ult1'],\n",
       " 1082085: ['ind_ahor_fin_ult1', 'ind_aval_fin_ult1'],\n",
       " 1082227: ['ind_cco_fin_ult1', 'ind_aval_fin_ult1', 'ind_ahor_fin_ult1'],\n",
       " 1079614: ['ind_ahor_fin_ult1', 'ind_aval_fin_ult1'],\n",
       " 1079678: ['ind_ahor_fin_ult1', 'ind_aval_fin_ult1'],\n",
       " 1080331: ['ind_ahor_fin_ult1', 'ind_aval_fin_ult1'],\n",
       " 1071131: ['ind_ahor_fin_ult1', 'ind_aval_fin_ult1'],\n",
       " 1069743: ['ind_ahor_fin_ult1', 'ind_aval_fin_ult1'],\n",
       " 1069752: ['ind_ahor_fin_ult1', 'ind_aval_fin_ult1'],\n",
       " 1070804: ['ind_ahor_fin_ult1', 'ind_aval_fin_ult1'],\n",
       " 1070974: ['ind_ahor_fin_ult1', 'ind_aval_fin_ult1'],\n",
       " 1070732: ['ind_ahor_fin_ult1', 'ind_aval_fin_ult1'],\n",
       " 1074992: ['ind_ahor_fin_ult1', 'ind_aval_fin_ult1'],\n",
       " 1074393: ['ind_ahor_fin_ult1', 'ind_aval_fin_ult1'],\n",
       " 1074555: ['ind_ahor_fin_ult1', 'ind_aval_fin_ult1'],\n",
       " 1075546: ['ind_ahor_fin_ult1', 'ind_aval_fin_ult1'],\n",
       " 1075090: ['ind_ahor_fin_ult1', 'ind_aval_fin_ult1'],\n",
       " 1074095: ['ind_ahor_fin_ult1', 'ind_aval_fin_ult1'],\n",
       " 1073520: ['ind_ahor_fin_ult1', 'ind_aval_fin_ult1'],\n",
       " 1090697: ['ind_ahor_fin_ult1', 'ind_aval_fin_ult1'],\n",
       " 1093237: ['ind_cco_fin_ult1', 'ind_aval_fin_ult1', 'ind_ahor_fin_ult1'],\n",
       " 1092614: ['ind_ahor_fin_ult1', 'ind_aval_fin_ult1'],\n",
       " 1092416: ['ind_ahor_fin_ult1', 'ind_aval_fin_ult1'],\n",
       " 1089502: ['ind_ahor_fin_ult1', 'ind_aval_fin_ult1'],\n",
       " 1089448: ['ind_ahor_fin_ult1', 'ind_aval_fin_ult1'],\n",
       " 1089729: ['ind_ahor_fin_ult1', 'ind_aval_fin_ult1'],\n",
       " 1089641: ['ind_cco_fin_ult1', 'ind_aval_fin_ult1', 'ind_ahor_fin_ult1'],\n",
       " 1089676: ['ind_ahor_fin_ult1', 'ind_aval_fin_ult1'],\n",
       " 1089102: ['ind_ahor_fin_ult1', 'ind_aval_fin_ult1'],\n",
       " 1089111: ['ind_aval_fin_ult1', 'ind_ahor_fin_ult1'],\n",
       " 1094905: ['ind_ahor_fin_ult1', 'ind_aval_fin_ult1'],\n",
       " 1095143: ['ind_ahor_fin_ult1', 'ind_aval_fin_ult1'],\n",
       " 1094981: ['ind_ahor_fin_ult1', 'ind_aval_fin_ult1'],\n",
       " 1096126: ['ind_ahor_fin_ult1', 'ind_aval_fin_ult1'],\n",
       " 1095864: ['ind_ahor_fin_ult1', 'ind_aval_fin_ult1'],\n",
       " 1093394: ['ind_ahor_fin_ult1', 'ind_aval_fin_ult1'],\n",
       " 1084241: ['ind_ahor_fin_ult1', 'ind_aval_fin_ult1'],\n",
       " 1085393: ['ind_ahor_fin_ult1', 'ind_aval_fin_ult1'],\n",
       " 1085267: ['ind_ahor_fin_ult1', 'ind_aval_fin_ult1'],\n",
       " 1085180: ['ind_ahor_fin_ult1', 'ind_aval_fin_ult1'],\n",
       " 1082850: ['ind_ahor_fin_ult1', 'ind_aval_fin_ult1'],\n",
       " 1083609: ['ind_ahor_fin_ult1', 'ind_aval_fin_ult1'],\n",
       " 1083616: ['ind_ahor_fin_ult1', 'ind_aval_fin_ult1'],\n",
       " 1083871: ['ind_ahor_fin_ult1', 'ind_aval_fin_ult1'],\n",
       " 1083673: ['ind_cco_fin_ult1', 'ind_aval_fin_ult1', 'ind_ahor_fin_ult1'],\n",
       " 1083674: ['ind_ahor_fin_ult1', 'ind_aval_fin_ult1'],\n",
       " 1088832: ['ind_ahor_fin_ult1', 'ind_aval_fin_ult1'],\n",
       " 1088432: ['ind_ahor_fin_ult1', 'ind_aval_fin_ult1'],\n",
       " 1086285: ['ind_ahor_fin_ult1', 'ind_aval_fin_ult1'],\n",
       " 1086161: ['ind_cco_fin_ult1', 'ind_aval_fin_ult1', 'ind_ahor_fin_ult1'],\n",
       " 1085646: ['ind_ahor_fin_ult1', 'ind_aval_fin_ult1'],\n",
       " 1087083: ['ind_ahor_fin_ult1', 'ind_aval_fin_ult1'],\n",
       " 1086674: ['ind_ahor_fin_ult1', 'ind_aval_fin_ult1'],\n",
       " 935048: ['ind_ahor_fin_ult1', 'ind_aval_fin_ult1'],\n",
       " 934874: ['ind_ahor_fin_ult1', 'ind_aval_fin_ult1'],\n",
       " 936488: ['ind_ahor_fin_ult1', 'ind_aval_fin_ult1'],\n",
       " 936431: ['ind_ahor_fin_ult1', 'ind_aval_fin_ult1'],\n",
       " 932813: ['ind_ahor_fin_ult1', 'ind_aval_fin_ult1'],\n",
       " 933720: ['ind_ahor_fin_ult1', 'ind_aval_fin_ult1'],\n",
       " 934069: ['ind_ahor_fin_ult1', 'ind_aval_fin_ult1'],\n",
       " 939362: ['ind_ahor_fin_ult1', 'ind_aval_fin_ult1'],\n",
       " 939122: ['ind_ahor_fin_ult1', 'ind_aval_fin_ult1'],\n",
       " 939204: ['ind_ahor_fin_ult1', 'ind_aval_fin_ult1'],\n",
       " 940327: ['ind_ahor_fin_ult1', 'ind_aval_fin_ult1'],\n",
       " 940235: ['ind_ahor_fin_ult1', 'ind_aval_fin_ult1'],\n",
       " 940429: ['ind_ahor_fin_ult1', 'ind_aval_fin_ult1'],\n",
       " 940398: ['ind_ahor_fin_ult1', 'ind_aval_fin_ult1'],\n",
       " 939919: ['ind_ahor_fin_ult1', 'ind_aval_fin_ult1'],\n",
       " 937159: ['ind_ahor_fin_ult1', 'ind_aval_fin_ult1'],\n",
       " 937464: ['ind_ahor_fin_ult1', 'ind_aval_fin_ult1'],\n",
       " 936812: ['ind_ahor_fin_ult1', 'ind_aval_fin_ult1'],\n",
       " 936607: ['ind_ahor_fin_ult1', 'ind_aval_fin_ult1'],\n",
       " 938728: ['ind_ahor_fin_ult1', 'ind_aval_fin_ult1'],\n",
       " 928598: ['ind_ahor_fin_ult1', 'ind_aval_fin_ult1'],\n",
       " 928119: ['ind_ahor_fin_ult1', 'ind_aval_fin_ult1'],\n",
       " 929220: ['ind_ahor_fin_ult1', 'ind_aval_fin_ult1'],\n",
       " 929271: ['ind_ahor_fin_ult1', 'ind_aval_fin_ult1'],\n",
       " 926891: ['ind_ahor_fin_ult1', 'ind_aval_fin_ult1'],\n",
       " 927630: ['ind_ahor_fin_ult1', 'ind_aval_fin_ult1'],\n",
       " 927705: ['ind_ahor_fin_ult1', 'ind_aval_fin_ult1'],\n",
       " 931617: ['ind_ahor_fin_ult1', 'ind_aval_fin_ult1'],\n",
       " 931549: ['ind_ahor_fin_ult1', 'ind_aval_fin_ult1'],\n",
       " 931673: ['ind_ahor_fin_ult1', 'ind_aval_fin_ult1'],\n",
       " 932301: ['ind_ahor_fin_ult1', 'ind_aval_fin_ult1'],\n",
       " 932588: ['ind_ahor_fin_ult1', 'ind_aval_fin_ult1'],\n",
       " 929780: ['ind_ahor_fin_ult1', 'ind_aval_fin_ult1'],\n",
       " 930729: ['ind_ahor_fin_ult1', 'ind_aval_fin_ult1'],\n",
       " 930396: ['ind_ahor_fin_ult1', 'ind_aval_fin_ult1'],\n",
       " 949771: ['ind_ahor_fin_ult1', 'ind_aval_fin_ult1'],\n",
       " 950397: ['ind_ahor_fin_ult1', 'ind_aval_fin_ult1'],\n",
       " 947883: ['ind_ahor_fin_ult1', 'ind_aval_fin_ult1'],\n",
       " 948020: ['ind_cco_fin_ult1', 'ind_ahor_fin_ult1', 'ind_aval_fin_ult1'],\n",
       " 947386: ['ind_ahor_fin_ult1', 'ind_aval_fin_ult1'],\n",
       " 947575: ['ind_ahor_fin_ult1', 'ind_aval_fin_ult1'],\n",
       " 948397: ['ind_ahor_fin_ult1', 'ind_aval_fin_ult1'],\n",
       " 948426: ['ind_ahor_fin_ult1', 'ind_aval_fin_ult1'],\n",
       " 953553: ['ind_ahor_fin_ult1', 'ind_aval_fin_ult1'],\n",
       " 951235: ['ind_ahor_fin_ult1', 'ind_aval_fin_ult1'],\n",
       " 951364: ['ind_ahor_fin_ult1', 'ind_aval_fin_ult1'],\n",
       " 950923: ['ind_ahor_fin_ult1', 'ind_aval_fin_ult1'],\n",
       " 951096: ['ind_ahor_fin_ult1', 'ind_aval_fin_ult1'],\n",
       " 952224: ['ind_ahor_fin_ult1', 'ind_aval_fin_ult1'],\n",
       " 951886: ['ind_ahor_fin_ult1', 'ind_aval_fin_ult1'],\n",
       " 951925: ['ind_ahor_fin_ult1', 'ind_aval_fin_ult1'],\n",
       " 943771: ['ind_ahor_fin_ult1', 'ind_aval_fin_ult1'],\n",
       " 941152: ['ind_ahor_fin_ult1', 'ind_aval_fin_ult1'],\n",
       " 941367: ['ind_ahor_fin_ult1', 'ind_aval_fin_ult1'],\n",
       " 941995: ['ind_ahor_fin_ult1', 'ind_aval_fin_ult1'],\n",
       " 941796: ['ind_ahor_fin_ult1', 'ind_aval_fin_ult1'],\n",
       " 946385: ['ind_ahor_fin_ult1', 'ind_aval_fin_ult1'],\n",
       " 946218: ['ind_ahor_fin_ult1', 'ind_aval_fin_ult1'],\n",
       " 946226: ['ind_ahor_fin_ult1', 'ind_aval_fin_ult1'],\n",
       " 945986: ['ind_ahor_fin_ult1', 'ind_aval_fin_ult1'],\n",
       " 946130: ['ind_ahor_fin_ult1', 'ind_aval_fin_ult1'],\n",
       " 947239: ['ind_ahor_fin_ult1', 'ind_aval_fin_ult1'],\n",
       " 946883: ['ind_ahor_fin_ult1', 'ind_aval_fin_ult1'],\n",
       " 946842: ['ind_ahor_fin_ult1', 'ind_aval_fin_ult1'],\n",
       " 945397: ['ind_ahor_fin_ult1', 'ind_aval_fin_ult1'],\n",
       " 945154: ['ind_ahor_fin_ult1', 'ind_aval_fin_ult1'],\n",
       " 945141: ['ind_ahor_fin_ult1', 'ind_aval_fin_ult1'],\n",
       " 893396: ['ind_aval_fin_ult1', 'ind_ahor_fin_ult1'],\n",
       " 895684: ['ind_aval_fin_ult1', 'ind_ahor_fin_ult1'],\n",
       " 896237: ['ind_aval_fin_ult1', 'ind_ahor_fin_ult1', 'ind_cco_fin_ult1'],\n",
       " 895492: ['ind_ahor_fin_ult1', 'ind_aval_fin_ult1'],\n",
       " 895557: ['ind_cco_fin_ult1', 'ind_ahor_fin_ult1', 'ind_aval_fin_ult1'],\n",
       " 896687: ['ind_ahor_fin_ult1', 'ind_aval_fin_ult1', 'ind_cco_fin_ult1'],\n",
       " 896333: ['ind_ahor_fin_ult1', 'ind_aval_fin_ult1'],\n",
       " 891570: ['ind_aval_fin_ult1', 'ind_cco_fin_ult1', 'ind_ahor_fin_ult1'],\n",
       " 890851: ['ind_ahor_fin_ult1', 'ind_aval_fin_ult1', 'ind_cco_fin_ult1'],\n",
       " 891122: ['ind_aval_fin_ult1', 'ind_ahor_fin_ult1'],\n",
       " 891001: ['ind_cco_fin_ult1', 'ind_ahor_fin_ult1', 'ind_aval_fin_ult1'],\n",
       " 902085: ['ind_ahor_fin_ult1', 'ind_aval_fin_ult1'],\n",
       " 902056: ['ind_ahor_fin_ult1', 'ind_aval_fin_ult1'],\n",
       " 901827: ['ind_cco_fin_ult1', 'ind_aval_fin_ult1', 'ind_ahor_fin_ult1'],\n",
       " 901708: ['ind_ahor_fin_ult1', 'ind_aval_fin_ult1'],\n",
       " 900692: ['ind_cco_fin_ult1', 'ind_aval_fin_ult1', 'ind_ahor_fin_ult1'],\n",
       " 905037: ['ind_cco_fin_ult1', 'ind_aval_fin_ult1', 'ind_ahor_fin_ult1'],\n",
       " 899215: ['ind_aval_fin_ult1', 'ind_ahor_fin_ult1'],\n",
       " 899536: ['ind_aval_fin_ult1', 'ind_ahor_fin_ult1'],\n",
       " 899483: ['ind_ahor_fin_ult1', 'ind_aval_fin_ult1'],\n",
       " 877741: ['ind_ahor_fin_ult1', 'ind_aval_fin_ult1'],\n",
       " 877754: ['ind_ahor_fin_ult1', 'ind_aval_fin_ult1'],\n",
       " 878221: ['ind_aval_fin_ult1', 'ind_ahor_fin_ult1'],\n",
       " 880670: ['ind_ahor_fin_ult1', 'ind_aval_fin_ult1'],\n",
       " 876022: ['ind_ahor_fin_ult1', 'ind_aval_fin_ult1'],\n",
       " 876156: ['ind_cco_fin_ult1', 'ind_aval_fin_ult1', 'ind_ahor_fin_ult1'],\n",
       " 886178: ['ind_ahor_fin_ult1', 'ind_aval_fin_ult1'],\n",
       " 885614: ['ind_cco_fin_ult1', 'ind_aval_fin_ult1', 'ind_ahor_fin_ult1'],\n",
       " 881998: ['ind_ahor_fin_ult1', 'ind_aval_fin_ult1'],\n",
       " 882617: ['ind_ahor_fin_ult1', 'ind_aval_fin_ult1'],\n",
       " 882723: ['ind_ahor_fin_ult1', 'ind_aval_fin_ult1'],\n",
       " 881424: ['ind_aval_fin_ult1', 'ind_ahor_fin_ult1'],\n",
       " 883457: ['ind_ahor_fin_ult1', 'ind_aval_fin_ult1'],\n",
       " 922699: ['ind_ahor_fin_ult1', 'ind_aval_fin_ult1'],\n",
       " 922906: ['ind_ahor_fin_ult1', 'ind_aval_fin_ult1'],\n",
       " 922844: ['ind_ahor_fin_ult1', 'ind_aval_fin_ult1'],\n",
       " 922231: ['ind_ahor_fin_ult1', 'ind_aval_fin_ult1'],\n",
       " 920134: ['ind_ahor_fin_ult1', 'ind_aval_fin_ult1'],\n",
       " 919832: ['ind_ahor_fin_ult1', 'ind_aval_fin_ult1'],\n",
       " 919870: ['ind_ahor_fin_ult1', 'ind_aval_fin_ult1'],\n",
       " 920980: ['ind_cco_fin_ult1', 'ind_aval_fin_ult1', 'ind_ahor_fin_ult1'],\n",
       " 921072: ['ind_ahor_fin_ult1', 'ind_aval_fin_ult1'],\n",
       " 920538: ['ind_ahor_fin_ult1', 'ind_aval_fin_ult1'],\n",
       " 920687: ['ind_ahor_fin_ult1', 'ind_aval_fin_ult1'],\n",
       " 924892: ['ind_ahor_fin_ult1', 'ind_aval_fin_ult1'],\n",
       " 924935: ['ind_ahor_fin_ult1', 'ind_aval_fin_ult1'],\n",
       " 925225: ['ind_ahor_fin_ult1', 'ind_aval_fin_ult1'],\n",
       " 925106: ['ind_ahor_fin_ult1', 'ind_aval_fin_ult1'],\n",
       " 925866: ['ind_ahor_fin_ult1', 'ind_aval_fin_ult1'],\n",
       " 925896: ['ind_ahor_fin_ult1', 'ind_aval_fin_ult1'],\n",
       " 926088: ['ind_ahor_fin_ult1', 'ind_aval_fin_ult1'],\n",
       " 923862: ['ind_ahor_fin_ult1', 'ind_aval_fin_ult1'],\n",
       " 924093: ['ind_ahor_fin_ult1', 'ind_aval_fin_ult1'],\n",
       " 911084: ['ind_cco_fin_ult1', 'ind_aval_fin_ult1', 'ind_ahor_fin_ult1'],\n",
       " 911919: ['ind_aval_fin_ult1', 'ind_ahor_fin_ult1'],\n",
       " 910366: ['ind_ahor_fin_ult1', 'ind_aval_fin_ult1'],\n",
       " 910202: ['ind_ahor_fin_ult1', 'ind_aval_fin_ult1'],\n",
       " 913362: ['ind_cco_fin_ult1', 'ind_ahor_fin_ult1', 'ind_aval_fin_ult1'],\n",
       " 906484: ['ind_ahor_fin_ult1', 'ind_aval_fin_ult1'],\n",
       " 909279: ['ind_cco_fin_ult1', 'ind_ahor_fin_ult1', 'ind_aval_fin_ult1'],\n",
       " 907319: ['ind_ahor_fin_ult1', 'ind_aval_fin_ult1'],\n",
       " 918056: ['ind_ahor_fin_ult1', 'ind_aval_fin_ult1'],\n",
       " 919367: ['ind_ahor_fin_ult1', 'ind_aval_fin_ult1'],\n",
       " 919524: ['ind_ahor_fin_ult1', 'ind_aval_fin_ult1'],\n",
       " 918909: ['ind_ahor_fin_ult1', 'ind_aval_fin_ult1'],\n",
       " 919129: ['ind_ahor_fin_ult1', 'ind_aval_fin_ult1'],\n",
       " 919152: ['ind_ahor_fin_ult1', 'ind_aval_fin_ult1'],\n",
       " 915633: ['ind_cco_fin_ult1', 'ind_ahor_fin_ult1', 'ind_aval_fin_ult1'],\n",
       " 916127: ['ind_cco_fin_ult1', 'ind_aval_fin_ult1', 'ind_ahor_fin_ult1'],\n",
       " 915274: ['ind_aval_fin_ult1', 'ind_ahor_fin_ult1'],\n",
       " 914500: ['ind_ahor_fin_ult1', 'ind_aval_fin_ult1'],\n",
       " 915270: ['ind_cco_fin_ult1', 'ind_ahor_fin_ult1', 'ind_aval_fin_ult1'],\n",
       " 917787: ['ind_ahor_fin_ult1', 'ind_aval_fin_ult1'],\n",
       " 917822: ['ind_ahor_fin_ult1', 'ind_aval_fin_ult1'],\n",
       " 917670: ['ind_ahor_fin_ult1', 'ind_aval_fin_ult1'],\n",
       " 917672: ['ind_ahor_fin_ult1', 'ind_aval_fin_ult1'],\n",
       " 917667: ['ind_ahor_fin_ult1', 'ind_aval_fin_ult1'],\n",
       " 917136: ['ind_ahor_fin_ult1', 'ind_aval_fin_ult1'],\n",
       " 917108: ['ind_aval_fin_ult1', 'ind_ahor_fin_ult1'],\n",
       " 917180: ['ind_aval_fin_ult1', 'ind_ahor_fin_ult1', 'ind_cco_fin_ult1'],\n",
       " 916904: ['ind_cco_fin_ult1', 'ind_ahor_fin_ult1', 'ind_aval_fin_ult1'],\n",
       " 988635: ['ind_ahor_fin_ult1', 'ind_aval_fin_ult1'],\n",
       " 989491: ['ind_ahor_fin_ult1', 'ind_aval_fin_ult1'],\n",
       " 989161: ['ind_ahor_fin_ult1', 'ind_aval_fin_ult1'],\n",
       " 986894: ['ind_aval_fin_ult1', 'ind_ahor_fin_ult1'],\n",
       " 986979: ['ind_ahor_fin_ult1', 'ind_aval_fin_ult1'],\n",
       " 988147: ['ind_ahor_fin_ult1', 'ind_aval_fin_ult1'],\n",
       " 987558: ['ind_ahor_fin_ult1', 'ind_aval_fin_ult1'],\n",
       " 987482: ['ind_ahor_fin_ult1', 'ind_aval_fin_ult1'],\n",
       " 987765: ['ind_ahor_fin_ult1', 'ind_aval_fin_ult1'],\n",
       " 992156: ['ind_ahor_fin_ult1', 'ind_aval_fin_ult1'],\n",
       " 992315: ['ind_ahor_fin_ult1', 'ind_aval_fin_ult1'],\n",
       " 992623: ['ind_ahor_fin_ult1', 'ind_aval_fin_ult1'],\n",
       " 992697: ['ind_ahor_fin_ult1', 'ind_aval_fin_ult1'],\n",
       " 990639: ['ind_ahor_fin_ult1', 'ind_aval_fin_ult1'],\n",
       " 990654: ['ind_ahor_fin_ult1', 'ind_aval_fin_ult1'],\n",
       " 990243: ['ind_ahor_fin_ult1', 'ind_aval_fin_ult1'],\n",
       " 990117: ['ind_ahor_fin_ult1', 'ind_aval_fin_ult1'],\n",
       " 990802: ['ind_ahor_fin_ult1', 'ind_aval_fin_ult1'],\n",
       " 990866: ['ind_ahor_fin_ult1', 'ind_aval_fin_ult1'],\n",
       " 990751: ['ind_ahor_fin_ult1', 'ind_aval_fin_ult1'],\n",
       " 991038: ['ind_ahor_fin_ult1', 'ind_aval_fin_ult1'],\n",
       " 982262: ['ind_ahor_fin_ult1', 'ind_aval_fin_ult1'],\n",
       " 981752: ['ind_ahor_fin_ult1', 'ind_aval_fin_ult1'],\n",
       " 983139: ['ind_ahor_fin_ult1', 'ind_aval_fin_ult1'],\n",
       " 982763: ['ind_ahor_fin_ult1', 'ind_aval_fin_ult1'],\n",
       " 980509: ['ind_ahor_fin_ult1', 'ind_aval_fin_ult1'],\n",
       " 980052: ['ind_aval_fin_ult1', 'ind_ahor_fin_ult1'],\n",
       " 980296: ['ind_ahor_fin_ult1', 'ind_aval_fin_ult1'],\n",
       " 981563: ['ind_ahor_fin_ult1', 'ind_aval_fin_ult1'],\n",
       " 981595: ['ind_ahor_fin_ult1', 'ind_aval_fin_ult1'],\n",
       " 981000: ['ind_ahor_fin_ult1', 'ind_aval_fin_ult1'],\n",
       " 980879: ['ind_ahor_fin_ult1', 'ind_aval_fin_ult1'],\n",
       " 985667: ['ind_ahor_fin_ult1', 'ind_aval_fin_ult1'],\n",
       " 985958: ['ind_ahor_fin_ult1', 'ind_aval_fin_ult1'],\n",
       " 985866: ['ind_ahor_fin_ult1', 'ind_aval_fin_ult1'],\n",
       " 985916: ['ind_ahor_fin_ult1', 'ind_aval_fin_ult1'],\n",
       " 983809: ['ind_ahor_fin_ult1', 'ind_aval_fin_ult1'],\n",
       " 1005371: ['ind_ahor_fin_ult1', 'ind_aval_fin_ult1'],\n",
       " 1005380: ['ind_aval_fin_ult1', 'ind_ahor_fin_ult1'],\n",
       " 1005387: ['ind_ahor_fin_ult1', 'ind_aval_fin_ult1', 'ind_cco_fin_ult1'],\n",
       " 1006570: ['ind_ahor_fin_ult1', 'ind_aval_fin_ult1'],\n",
       " 1004019: ['ind_ahor_fin_ult1', 'ind_aval_fin_ult1'],\n",
       " 1011042: ['ind_cco_fin_ult1', 'ind_aval_fin_ult1', 'ind_ahor_fin_ult1'],\n",
       " 1011454: ['ind_ahor_fin_ult1', 'ind_aval_fin_ult1'],\n",
       " 1010355: ['ind_cco_fin_ult1', 'ind_aval_fin_ult1', 'ind_ahor_fin_ult1'],\n",
       " 1011633: ['ind_ahor_fin_ult1', 'ind_aval_fin_ult1'],\n",
       " 1012170: ['ind_cco_fin_ult1', 'ind_aval_fin_ult1', 'ind_ahor_fin_ult1'],\n",
       " 1007176: ['ind_aval_fin_ult1', 'ind_ahor_fin_ult1'],\n",
       " 1007828: ['ind_ahor_fin_ult1', 'ind_aval_fin_ult1'],\n",
       " 1009812: ['ind_cco_fin_ult1', 'ind_aval_fin_ult1', 'ind_ahor_fin_ult1'],\n",
       " 995696: ['ind_ahor_fin_ult1', 'ind_aval_fin_ult1'],\n",
       " 995639: ['ind_ahor_fin_ult1', 'ind_aval_fin_ult1'],\n",
       " 996151: ['ind_ahor_fin_ult1', 'ind_aval_fin_ult1'],\n",
       " 993366: ['ind_ahor_fin_ult1', 'ind_aval_fin_ult1'],\n",
       " 994064: ['ind_ahor_fin_ult1', 'ind_aval_fin_ult1'],\n",
       " 994443: ['ind_ahor_fin_ult1', 'ind_aval_fin_ult1'],\n",
       " 994362: ['ind_ahor_fin_ult1', 'ind_aval_fin_ult1'],\n",
       " 999852: ['ind_ahor_fin_ult1', 'ind_aval_fin_ult1'],\n",
       " 1000075: ['ind_ahor_fin_ult1', 'ind_aval_fin_ult1'],\n",
       " 1000096: ['ind_cco_fin_ult1', 'ind_aval_fin_ult1', 'ind_ahor_fin_ult1'],\n",
       " 1000256: ['ind_ahor_fin_ult1', 'ind_aval_fin_ult1'],\n",
       " 997092: ['ind_aval_fin_ult1', 'ind_ahor_fin_ult1', 'ind_cco_fin_ult1'],\n",
       " 996580: ['ind_ahor_fin_ult1', 'ind_aval_fin_ult1'],\n",
       " 996825: ['ind_aval_fin_ult1', 'ind_ahor_fin_ult1'],\n",
       " 997559: ['ind_ahor_fin_ult1', 'ind_aval_fin_ult1'],\n",
       " 997880: ['ind_ahor_fin_ult1', 'ind_aval_fin_ult1'],\n",
       " 962362: ['ind_ahor_fin_ult1', 'ind_aval_fin_ult1'],\n",
       " 963373: ['ind_ahor_fin_ult1', 'ind_aval_fin_ult1'],\n",
       " 963043: ['ind_cco_fin_ult1', 'ind_aval_fin_ult1', 'ind_ahor_fin_ult1'],\n",
       " 960536: ['ind_ahor_fin_ult1', 'ind_aval_fin_ult1'],\n",
       " 960570: ['ind_ahor_fin_ult1', 'ind_aval_fin_ult1'],\n",
       " 961325: ['ind_ahor_fin_ult1', 'ind_aval_fin_ult1'],\n",
       " 965627: ['ind_ahor_fin_ult1', 'ind_aval_fin_ult1'],\n",
       " 965606: ['ind_ahor_fin_ult1', 'ind_aval_fin_ult1'],\n",
       " 965769: ['ind_ahor_fin_ult1', 'ind_aval_fin_ult1'],\n",
       " 965257: ['ind_ahor_fin_ult1', 'ind_aval_fin_ult1'],\n",
       " 966672: ['ind_ahor_fin_ult1', 'ind_aval_fin_ult1'],\n",
       " 964058: ['ind_ahor_fin_ult1', 'ind_aval_fin_ult1'],\n",
       " 963580: ['ind_ahor_fin_ult1', 'ind_aval_fin_ult1'],\n",
       " 963607: ['ind_ahor_fin_ult1', 'ind_aval_fin_ult1'],\n",
       " 964662: ['ind_ahor_fin_ult1', 'ind_aval_fin_ult1'],\n",
       " 956481: ['ind_ahor_fin_ult1', 'ind_aval_fin_ult1'],\n",
       " 956988: ['ind_ahor_fin_ult1', 'ind_aval_fin_ult1'],\n",
       " 957009: ['ind_ahor_fin_ult1', 'ind_aval_fin_ult1'],\n",
       " 956714: ['ind_ahor_fin_ult1', 'ind_aval_fin_ult1'],\n",
       " 956979: ['ind_ahor_fin_ult1', 'ind_aval_fin_ult1'],\n",
       " 956800: ['ind_ahor_fin_ult1', 'ind_aval_fin_ult1'],\n",
       " 954198: ['ind_ahor_fin_ult1', 'ind_aval_fin_ult1'],\n",
       " 955521: ['ind_ahor_fin_ult1', 'ind_aval_fin_ult1'],\n",
       " 955740: ['ind_ahor_fin_ult1', 'ind_aval_fin_ult1'],\n",
       " 955631: ['ind_ahor_fin_ult1', 'ind_aval_fin_ult1'],\n",
       " 955374: ['ind_ahor_fin_ult1', 'ind_aval_fin_ult1'],\n",
       " 960403: ['ind_ahor_fin_ult1', 'ind_aval_fin_ult1'],\n",
       " 960003: ['ind_ahor_fin_ult1', 'ind_aval_fin_ult1'],\n",
       " 960010: ['ind_ahor_fin_ult1', 'ind_aval_fin_ult1'],\n",
       " 957769: ['ind_ahor_fin_ult1', 'ind_aval_fin_ult1'],\n",
       " 957503: ['ind_ahor_fin_ult1', 'ind_aval_fin_ult1'],\n",
       " 957404: ['ind_ahor_fin_ult1', 'ind_aval_fin_ult1'],\n",
       " 958747: ['ind_ahor_fin_ult1', 'ind_aval_fin_ult1'],\n",
       " 958245: ['ind_ahor_fin_ult1', 'ind_aval_fin_ult1'],\n",
       " 975695: ['ind_ahor_fin_ult1', 'ind_aval_fin_ult1'],\n",
       " 976698: ['ind_ahor_fin_ult1', 'ind_aval_fin_ult1'],\n",
       " 974127: ['ind_ahor_fin_ult1', 'ind_aval_fin_ult1'],\n",
       " 974010: ['ind_ahor_fin_ult1', 'ind_aval_fin_ult1'],\n",
       " 973720: ['ind_ahor_fin_ult1', 'ind_aval_fin_ult1'],\n",
       " 974934: ['ind_ahor_fin_ult1', 'ind_aval_fin_ult1'],\n",
       " 975173: ['ind_ahor_fin_ult1', 'ind_aval_fin_ult1'],\n",
       " 974620: ['ind_ahor_fin_ult1', 'ind_aval_fin_ult1'],\n",
       " 974473: ['ind_ahor_fin_ult1', 'ind_aval_fin_ult1'],\n",
       " 979161: ['ind_ahor_fin_ult1', 'ind_aval_fin_ult1'],\n",
       " 978532: ['ind_ahor_fin_ult1', 'ind_aval_fin_ult1'],\n",
       " 978644: ['ind_cco_fin_ult1', 'ind_aval_fin_ult1', 'ind_ahor_fin_ult1'],\n",
       " 979675: ['ind_ahor_fin_ult1', 'ind_aval_fin_ult1'],\n",
       " 979395: ['ind_ahor_fin_ult1', 'ind_aval_fin_ult1'],\n",
       " 979382: ['ind_ahor_fin_ult1', 'ind_aval_fin_ult1'],\n",
       " 977564: ['ind_ahor_fin_ult1', 'ind_aval_fin_ult1'],\n",
       " 976944: ['ind_ahor_fin_ult1', 'ind_aval_fin_ult1'],\n",
       " 976950: ['ind_cco_fin_ult1', 'ind_aval_fin_ult1', 'ind_ahor_fin_ult1'],\n",
       " 976951: ['ind_ahor_fin_ult1', 'ind_aval_fin_ult1'],\n",
       " 977884: ['ind_ahor_fin_ult1', 'ind_aval_fin_ult1'],\n",
       " 969168: ['ind_ahor_fin_ult1', 'ind_aval_fin_ult1'],\n",
       " 969299: ['ind_ahor_fin_ult1', 'ind_aval_fin_ult1'],\n",
       " 969187: ['ind_ahor_fin_ult1', 'ind_aval_fin_ult1'],\n",
       " 968654: ['ind_ahor_fin_ult1', 'ind_aval_fin_ult1'],\n",
       " 968875: ['ind_ahor_fin_ult1', 'ind_aval_fin_ult1'],\n",
       " 970245: ['ind_ahor_fin_ult1', 'ind_aval_fin_ult1'],\n",
       " 969837: ['ind_ahor_fin_ult1', 'ind_aval_fin_ult1'],\n",
       " 967392: ['ind_ahor_fin_ult1', 'ind_aval_fin_ult1'],\n",
       " 968074: ['ind_ahor_fin_ult1', 'ind_aval_fin_ult1'],\n",
       " 968060: ['ind_ahor_fin_ult1', 'ind_aval_fin_ult1'],\n",
       " 968363: ['ind_ahor_fin_ult1', 'ind_aval_fin_ult1'],\n",
       " 968341: ['ind_ahor_fin_ult1', 'ind_aval_fin_ult1'],\n",
       " 967691: ['ind_ahor_fin_ult1', 'ind_aval_fin_ult1'],\n",
       " 967820: ['ind_ahor_fin_ult1', 'ind_aval_fin_ult1'],\n",
       " 972282: ['ind_ahor_fin_ult1', 'ind_aval_fin_ult1'],\n",
       " 972138: ['ind_ahor_fin_ult1', 'ind_aval_fin_ult1'],\n",
       " 972148: ['ind_ahor_fin_ult1', 'ind_aval_fin_ult1'],\n",
       " 970730: ['ind_ahor_fin_ult1', 'ind_aval_fin_ult1'],\n",
       " 971777: ['ind_ahor_fin_ult1', 'ind_aval_fin_ult1'],\n",
       " 971404: ['ind_ahor_fin_ult1', 'ind_aval_fin_ult1'],\n",
       " 1293879: ['ind_ahor_fin_ult1', 'ind_aval_fin_ult1'],\n",
       " 1293372: ['ind_ahor_fin_ult1', 'ind_aval_fin_ult1'],\n",
       " 1291956: ['ind_ahor_fin_ult1', 'ind_aval_fin_ult1'],\n",
       " 1292007: ['ind_ahor_fin_ult1', 'ind_aval_fin_ult1'],\n",
       " 1292860: ['ind_ahor_fin_ult1', 'ind_aval_fin_ult1'],\n",
       " 1297982: ['ind_ahor_fin_ult1', 'ind_aval_fin_ult1'],\n",
       " 1299206: ['ind_ahor_fin_ult1', 'ind_aval_fin_ult1'],\n",
       " 1298993: ['ind_ahor_fin_ult1', 'ind_aval_fin_ult1'],\n",
       " 1295674: ['ind_ahor_fin_ult1', 'ind_aval_fin_ult1'],\n",
       " 1296392: ['ind_ahor_fin_ult1', 'ind_aval_fin_ult1'],\n",
       " 1286999: ['ind_ahor_fin_ult1', 'ind_aval_fin_ult1'],\n",
       " 1286947: ['ind_ahor_fin_ult1', 'ind_aval_fin_ult1'],\n",
       " 1288056: ['ind_ahor_fin_ult1', 'ind_aval_fin_ult1'],\n",
       " 1288065: ['ind_ahor_fin_ult1', 'ind_aval_fin_ult1'],\n",
       " 1287604: ['ind_ahor_fin_ult1', 'ind_aval_fin_ult1'],\n",
       " 1285882: ['ind_ahor_fin_ult1', 'ind_aval_fin_ult1'],\n",
       " 1290318: ['ind_ahor_fin_ult1', 'ind_aval_fin_ult1'],\n",
       " 1289943: ['ind_ahor_fin_ult1', 'ind_aval_fin_ult1'],\n",
       " 1289921: ['ind_ahor_fin_ult1', 'ind_aval_fin_ult1'],\n",
       " 1291262: ['ind_ahor_fin_ult1', 'ind_aval_fin_ult1'],\n",
       " 1290989: ['ind_ahor_fin_ult1', 'ind_aval_fin_ult1'],\n",
       " 1288825: ['ind_ahor_fin_ult1', 'ind_aval_fin_ult1'],\n",
       " 1288886: ['ind_ahor_fin_ult1', 'ind_aval_fin_ult1'],\n",
       " 1288350: ['ind_ahor_fin_ult1', 'ind_aval_fin_ult1'],\n",
       " 1288638: ['ind_ahor_fin_ult1', 'ind_aval_fin_ult1'],\n",
       " 1289662: ['ind_ahor_fin_ult1', 'ind_aval_fin_ult1'],\n",
       " 1289376: ['ind_ahor_fin_ult1', 'ind_aval_fin_ult1'],\n",
       " 1289289: ['ind_ahor_fin_ult1', 'ind_aval_fin_ult1'],\n",
       " 1289340: ['ind_ahor_fin_ult1', 'ind_aval_fin_ult1'],\n",
       " 1308436: ['ind_ahor_fin_ult1', 'ind_aval_fin_ult1'],\n",
       " 1308814: ['ind_ahor_fin_ult1', 'ind_aval_fin_ult1'],\n",
       " 1307130: ['ind_ahor_fin_ult1', 'ind_aval_fin_ult1'],\n",
       " 1306643: ['ind_ahor_fin_ult1', 'ind_aval_fin_ult1'],\n",
       " 1307647: ['ind_ahor_fin_ult1', 'ind_aval_fin_ult1'],\n",
       " 1311888: ['ind_ahor_fin_ult1', 'ind_aval_fin_ult1'],\n",
       " 1312521: ['ind_ahor_fin_ult1', 'ind_aval_fin_ult1'],\n",
       " 1312634: ['ind_ahor_fin_ult1', 'ind_aval_fin_ult1'],\n",
       " 1312087: ['ind_ahor_fin_ult1', 'ind_aval_fin_ult1'],\n",
       " 1312196: ['ind_ahor_fin_ult1', 'ind_aval_fin_ult1'],\n",
       " 1310118: ['ind_ahor_fin_ult1', 'ind_aval_fin_ult1'],\n",
       " 1310192: ['ind_ahor_fin_ult1', 'ind_aval_fin_ult1'],\n",
       " 1309903: ['ind_ahor_fin_ult1', 'ind_aval_fin_ult1'],\n",
       " 1309852: ['ind_ahor_fin_ult1', 'ind_aval_fin_ult1'],\n",
       " 1310682: ['ind_ahor_fin_ult1', 'ind_aval_fin_ult1'],\n",
       " 1310736: ['ind_ahor_fin_ult1', 'ind_aval_fin_ult1'],\n",
       " 1301437: ['ind_cco_fin_ult1', 'ind_aval_fin_ult1', 'ind_ahor_fin_ult1'],\n",
       " 1301545: ['ind_ahor_fin_ult1', 'ind_aval_fin_ult1'],\n",
       " 1302829: ['ind_ahor_fin_ult1', 'ind_aval_fin_ult1'],\n",
       " 1302160: ['ind_ahor_fin_ult1', 'ind_aval_fin_ult1'],\n",
       " 1302041: ['ind_cco_fin_ult1', 'ind_aval_fin_ult1', 'ind_ahor_fin_ult1'],\n",
       " 1299282: ['ind_ahor_fin_ult1', 'ind_aval_fin_ult1'],\n",
       " 1299770: ['ind_cco_fin_ult1', 'ind_aval_fin_ult1', 'ind_ahor_fin_ult1'],\n",
       " 1300981: ['ind_ahor_fin_ult1', 'ind_aval_fin_ult1'],\n",
       " 1300862: ['ind_ahor_fin_ult1', 'ind_aval_fin_ult1'],\n",
       " 1305392: ['ind_ahor_fin_ult1', 'ind_aval_fin_ult1'],\n",
       " 1305467: ['ind_ahor_fin_ult1', 'ind_aval_fin_ult1'],\n",
       " 1306144: ['ind_ahor_fin_ult1', 'ind_aval_fin_ult1'],\n",
       " 1303461: ['ind_ahor_fin_ult1', 'ind_aval_fin_ult1'],\n",
       " 1303610: ['ind_ahor_fin_ult1', 'ind_aval_fin_ult1'],\n",
       " 1302964: ['ind_cco_fin_ult1', 'ind_aval_fin_ult1', 'ind_ahor_fin_ult1'],\n",
       " 1304441: ['ind_ahor_fin_ult1', 'ind_aval_fin_ult1'],\n",
       " 1304354: ['ind_ahor_fin_ult1', 'ind_aval_fin_ult1'],\n",
       " 1304044: ['ind_ahor_fin_ult1', 'ind_aval_fin_ult1'],\n",
       " 1266961: ['ind_ahor_fin_ult1', 'ind_aval_fin_ult1'],\n",
       " 1267875: ['ind_aval_fin_ult1', 'ind_ahor_fin_ult1'],\n",
       " 1267218: ['ind_cco_fin_ult1', 'ind_aval_fin_ult1', 'ind_ahor_fin_ult1'],\n",
       " 1264412: ['ind_aval_fin_ult1', 'ind_ahor_fin_ult1'],\n",
       " 1271667: ['ind_ahor_fin_ult1', 'ind_aval_fin_ult1'],\n",
       " 1271240: ['ind_ahor_fin_ult1', 'ind_aval_fin_ult1'],\n",
       " 1271161: ['ind_aval_fin_ult1', 'ind_ahor_fin_ult1'],\n",
       " 1269927: ['ind_aval_fin_ult1', 'ind_ahor_fin_ult1'],\n",
       " 1270026: ['ind_ahor_fin_ult1', 'ind_aval_fin_ult1'],\n",
       " 1269848: ['ind_ahor_fin_ult1', 'ind_aval_fin_ult1'],\n",
       " 1270080: ['ind_ahor_fin_ult1', 'ind_aval_fin_ult1'],\n",
       " 1269553: ['ind_ahor_fin_ult1', 'ind_aval_fin_ult1'],\n",
       " 1269420: ['ind_ahor_fin_ult1', 'ind_aval_fin_ult1'],\n",
       " 1269637: ['ind_ahor_fin_ult1', 'ind_aval_fin_ult1'],\n",
       " 1255803: ['ind_ahor_fin_ult1', 'ind_aval_fin_ult1'],\n",
       " 1255639: ['ind_ahor_fin_ult1', 'ind_aval_fin_ult1'],\n",
       " 1255906: ['ind_cco_fin_ult1', 'ind_aval_fin_ult1', 'ind_ahor_fin_ult1'],\n",
       " 1257642: ['ind_ahor_fin_ult1', 'ind_aval_fin_ult1'],\n",
       " 1258037: ['ind_ahor_fin_ult1', 'ind_aval_fin_ult1'],\n",
       " 1253989: ['ind_ahor_fin_ult1', 'ind_aval_fin_ult1'],\n",
       " 1255093: ['ind_aval_fin_ult1', 'ind_ahor_fin_ult1'],\n",
       " 1254990: ['ind_ahor_fin_ult1', 'ind_aval_fin_ult1', 'ind_cco_fin_ult1'],\n",
       " 1255266: ['ind_cco_fin_ult1', 'ind_aval_fin_ult1', 'ind_ahor_fin_ult1'],\n",
       " 1254472: ['ind_aval_fin_ult1', 'ind_ahor_fin_ult1'],\n",
       " 1254729: ['ind_aval_fin_ult1', 'ind_ahor_fin_ult1'],\n",
       " 1261210: ['ind_ahor_fin_ult1', 'ind_aval_fin_ult1'],\n",
       " 1259315: ['ind_aval_fin_ult1', 'ind_ahor_fin_ult1'],\n",
       " 1259212: ['ind_ahor_fin_ult1', 'ind_aval_fin_ult1'],\n",
       " 1258254: ['ind_ahor_fin_ult1', 'ind_aval_fin_ult1'],\n",
       " 1258681: ['ind_cco_fin_ult1', 'ind_aval_fin_ult1', 'ind_ahor_fin_ult1'],\n",
       " 1280826: ['ind_ahor_fin_ult1', 'ind_aval_fin_ult1'],\n",
       " 1280983: ['ind_ahor_fin_ult1', 'ind_aval_fin_ult1'],\n",
       " 1280324: ['ind_ahor_fin_ult1', 'ind_aval_fin_ult1'],\n",
       " 1279270: ['ind_ahor_fin_ult1', 'ind_aval_fin_ult1'],\n",
       " 1278799: ['ind_ahor_fin_ult1', 'ind_aval_fin_ult1'],\n",
       " 1278863: ['ind_ahor_fin_ult1', 'ind_aval_fin_ult1'],\n",
       " 1279829: ['ind_ahor_fin_ult1', 'ind_aval_fin_ult1'],\n",
       " 1284853: ['ind_ahor_fin_ult1', 'ind_aval_fin_ult1'],\n",
       " 1282166: ['ind_ahor_fin_ult1', 'ind_aval_fin_ult1'],\n",
       " 1282039: ['ind_ahor_fin_ult1', 'ind_aval_fin_ult1'],\n",
       " 1283055: ['ind_ahor_fin_ult1', 'ind_aval_fin_ult1'],\n",
       " 1283278: ['ind_ahor_fin_ult1', 'ind_aval_fin_ult1'],\n",
       " 1282586: ['ind_ahor_fin_ult1', 'ind_aval_fin_ult1'],\n",
       " 1282893: ['ind_ahor_fin_ult1', 'ind_aval_fin_ult1'],\n",
       " 1275097: ['ind_ahor_fin_ult1', 'ind_cco_fin_ult1', 'ind_aval_fin_ult1'],\n",
       " 1275168: ['ind_ahor_fin_ult1', 'ind_aval_fin_ult1'],\n",
       " 1274869: ['ind_ahor_fin_ult1', 'ind_aval_fin_ult1'],\n",
       " 1274731: ['ind_ahor_fin_ult1', 'ind_aval_fin_ult1'],\n",
       " 1272373: ['ind_ahor_fin_ult1', 'ind_aval_fin_ult1'],\n",
       " 1271998: ['ind_ahor_fin_ult1', 'ind_aval_fin_ult1'],\n",
       " 1272082: ['ind_ahor_fin_ult1', 'ind_aval_fin_ult1'],\n",
       " 1278644: ['ind_ahor_fin_ult1', 'ind_aval_fin_ult1'],\n",
       " 1276087: ['ind_cco_fin_ult1', 'ind_aval_fin_ult1', 'ind_ahor_fin_ult1'],\n",
       " 1276141: ['ind_ahor_fin_ult1', 'ind_aval_fin_ult1'],\n",
       " 1276802: ['ind_ahor_fin_ult1', 'ind_aval_fin_ult1'],\n",
       " 1276549: ['ind_ahor_fin_ult1', 'ind_aval_fin_ult1'],\n",
       " 1351480: ['ind_ahor_fin_ult1', 'ind_aval_fin_ult1'],\n",
       " 1351887: ['ind_aval_fin_ult1', 'ind_ahor_fin_ult1'],\n",
       " 1351678: ['ind_ahor_fin_ult1', 'ind_aval_fin_ult1'],\n",
       " 1348381: ['ind_ahor_fin_ult1', 'ind_aval_fin_ult1'],\n",
       " 1349629: ['ind_ahor_fin_ult1', 'ind_aval_fin_ult1'],\n",
       " 1354623: ['ind_ahor_fin_ult1', 'ind_aval_fin_ult1'],\n",
       " 1356320: ['ind_ahor_fin_ult1', 'ind_aval_fin_ult1'],\n",
       " 1352632: ['ind_ahor_fin_ult1', 'ind_aval_fin_ult1'],\n",
       " 1353002: ['ind_ahor_fin_ult1', 'ind_aval_fin_ult1'],\n",
       " 1354204: ['ind_ahor_fin_ult1', 'ind_aval_fin_ult1'],\n",
       " 1354249: ['ind_ahor_fin_ult1', 'ind_aval_fin_ult1'],\n",
       " 1353478: ['ind_ahor_fin_ult1', 'ind_aval_fin_ult1'],\n",
       " 1342600: ['ind_aval_fin_ult1', 'ind_ahor_fin_ult1'],\n",
       " 1343551: ['ind_ahor_fin_ult1', 'ind_aval_fin_ult1'],\n",
       " 1343446: ['ind_ahor_fin_ult1', 'ind_aval_fin_ult1'],\n",
       " 1343797: ['ind_ahor_fin_ult1', 'ind_aval_fin_ult1'],\n",
       " 1341272: ['ind_ahor_fin_ult1', 'ind_aval_fin_ult1'],\n",
       " 1341211: ['ind_ahor_fin_ult1', 'ind_aval_fin_ult1'],\n",
       " 1341226: ['ind_cco_fin_ult1', 'ind_aval_fin_ult1', 'ind_ahor_fin_ult1'],\n",
       " 1341493: ['ind_ahor_fin_ult1', 'ind_aval_fin_ult1'],\n",
       " 1342281: ['ind_ahor_fin_ult1', 'ind_aval_fin_ult1'],\n",
       " 1342404: ['ind_ahor_fin_ult1', 'ind_aval_fin_ult1'],\n",
       " 1342102: ['ind_ahor_fin_ult1', 'ind_aval_fin_ult1'],\n",
       " 1346873: ['ind_ahor_fin_ult1', 'ind_aval_fin_ult1'],\n",
       " 1346478: ['ind_ahor_fin_ult1', 'ind_aval_fin_ult1'],\n",
       " 1346571: ['ind_ahor_fin_ult1', 'ind_aval_fin_ult1'],\n",
       " 1347680: ['ind_ahor_fin_ult1', 'ind_aval_fin_ult1'],\n",
       " 1347218: ['ind_ahor_fin_ult1', 'ind_aval_fin_ult1'],\n",
       " 1347126: ['ind_ahor_fin_ult1', 'ind_aval_fin_ult1'],\n",
       " 1344993: ['ind_ahor_fin_ult1', 'ind_aval_fin_ult1'],\n",
       " 1345344: ['ind_ahor_fin_ult1', 'ind_aval_fin_ult1'],\n",
       " 1346019: ['ind_ahor_fin_ult1', 'ind_aval_fin_ult1'],\n",
       " 1345884: ['ind_ahor_fin_ult1', 'ind_aval_fin_ult1'],\n",
       " 1345566: ['ind_ahor_fin_ult1', 'ind_aval_fin_ult1'],\n",
       " 1367452: ['ind_ahor_fin_ult1', 'ind_aval_fin_ult1'],\n",
       " 1367065: ['ind_aval_fin_ult1', 'ind_ahor_fin_ult1'],\n",
       " 1369201: ['ind_ahor_fin_ult1', 'ind_aval_fin_ult1'],\n",
       " 1369084: ['ind_aval_fin_ult1', 'ind_ahor_fin_ult1'],\n",
       " 1368080: ['ind_ahor_fin_ult1', 'ind_aval_fin_ult1'],\n",
       " 1368927: ['ind_ahor_fin_ult1', 'ind_aval_fin_ult1'],\n",
       " 1378058: ['ind_aval_fin_ult1', 'ind_ahor_fin_ult1'],\n",
       " 1373958: ['ind_ahor_fin_ult1', 'ind_aval_fin_ult1'],\n",
       " 1373672: ['ind_ahor_fin_ult1', 'ind_aval_fin_ult1'],\n",
       " 1374740: ['ind_cco_fin_ult1', 'ind_aval_fin_ult1', 'ind_ahor_fin_ult1'],\n",
       " 1361193: ['ind_aval_fin_ult1', 'ind_ahor_fin_ult1'],\n",
       " 1360318: ['ind_ahor_fin_ult1', 'ind_aval_fin_ult1'],\n",
       " 1360163: ['ind_ahor_fin_ult1', 'ind_aval_fin_ult1'],\n",
       " 1359016: ['ind_ahor_fin_ult1', 'ind_aval_fin_ult1'],\n",
       " 1357370: ['ind_ahor_fin_ult1', 'ind_aval_fin_ult1'],\n",
       " 1358454: ['ind_ahor_fin_ult1', 'ind_aval_fin_ult1'],\n",
       " 1358545: ['ind_cco_fin_ult1', 'ind_aval_fin_ult1', 'ind_ahor_fin_ult1'],\n",
       " 1364665: ['ind_ahor_fin_ult1', 'ind_aval_fin_ult1'],\n",
       " 1365008: ['ind_ahor_fin_ult1', 'ind_aval_fin_ult1'],\n",
       " 1365078: ['ind_aval_fin_ult1', 'ind_ahor_fin_ult1'],\n",
       " 1363972: ['ind_ahor_fin_ult1', 'ind_aval_fin_ult1'],\n",
       " 1364182: ['ind_ahor_fin_ult1', 'ind_aval_fin_ult1'],\n",
       " 1364255: ['ind_ahor_fin_ult1', 'ind_aval_fin_ult1'],\n",
       " 1366222: ['ind_ahor_fin_ult1', 'ind_aval_fin_ult1'],\n",
       " 1365312: ['ind_ahor_fin_ult1', 'ind_aval_fin_ult1'],\n",
       " 1363865: ['ind_ahor_fin_ult1', 'ind_aval_fin_ult1'],\n",
       " 1320970: ['ind_cco_fin_ult1', 'ind_aval_fin_ult1', 'ind_ahor_fin_ult1'],\n",
       " 1321231: ['ind_cco_fin_ult1', 'ind_ahor_fin_ult1', 'ind_aval_fin_ult1'],\n",
       " 1320664: ['ind_ahor_fin_ult1', 'ind_aval_fin_ult1'],\n",
       " 1320850: ['ind_ahor_fin_ult1', 'ind_aval_fin_ult1'],\n",
       " 1321915: ['ind_ahor_fin_ult1', 'ind_aval_fin_ult1'],\n",
       " 1319604: ['ind_ahor_fin_ult1', 'ind_aval_fin_ult1'],\n",
       " 1319109: ['ind_ahor_fin_ult1', 'ind_aval_fin_ult1'],\n",
       " 1320297: ['ind_ahor_fin_ult1', 'ind_aval_fin_ult1'],\n",
       " 1320185: ['ind_ahor_fin_ult1', 'ind_aval_fin_ult1'],\n",
       " 1320267: ['ind_ahor_fin_ult1', 'ind_aval_fin_ult1'],\n",
       " 1320436: ['ind_ahor_fin_ult1', 'ind_aval_fin_ult1'],\n",
       " 1320433: ['ind_ahor_fin_ult1', 'ind_aval_fin_ult1'],\n",
       " 1319847: ['ind_ahor_fin_ult1', 'ind_aval_fin_ult1'],\n",
       " 1324391: ['ind_ahor_fin_ult1', 'ind_aval_fin_ult1'],\n",
       " 1323851: ['ind_ahor_fin_ult1', 'ind_aval_fin_ult1'],\n",
       " 1325053: ['ind_ahor_fin_ult1', 'ind_aval_fin_ult1'],\n",
       " 1325210: ['ind_ahor_fin_ult1', 'ind_aval_fin_ult1'],\n",
       " 1324878: ['ind_ahor_fin_ult1', 'ind_aval_fin_ult1'],\n",
       " 1324811: ['ind_ahor_fin_ult1', 'ind_aval_fin_ult1'],\n",
       " 1323561: ['ind_ahor_fin_ult1', 'ind_aval_fin_ult1'],\n",
       " 1323590: ['ind_ahor_fin_ult1', 'ind_aval_fin_ult1'],\n",
       " 1314556: ['ind_ahor_fin_ult1', 'ind_aval_fin_ult1'],\n",
       " 1315463: ['ind_ahor_fin_ult1', 'ind_aval_fin_ult1'],\n",
       " 1315779: ['ind_ahor_fin_ult1', 'ind_aval_fin_ult1'],\n",
       " 1315204: ['ind_ahor_fin_ult1', 'ind_aval_fin_ult1'],\n",
       " 1313533: ['ind_ahor_fin_ult1', 'ind_aval_fin_ult1'],\n",
       " 1313508: ['ind_ahor_fin_ult1', 'ind_aval_fin_ult1'],\n",
       " 1313422: ['ind_ahor_fin_ult1', 'ind_aval_fin_ult1'],\n",
       " 1313084: ['ind_ahor_fin_ult1', 'ind_aval_fin_ult1'],\n",
       " 1313118: ['ind_ahor_fin_ult1', 'ind_aval_fin_ult1'],\n",
       " 1313027: ['ind_ahor_fin_ult1', 'ind_aval_fin_ult1'],\n",
       " 1314237: ['ind_ahor_fin_ult1', 'ind_aval_fin_ult1'],\n",
       " 1313738: ['ind_ahor_fin_ult1', 'ind_aval_fin_ult1'],\n",
       " 1318111: ['ind_ahor_fin_ult1', 'ind_aval_fin_ult1'],\n",
       " 1317609: ['ind_ahor_fin_ult1', 'ind_aval_fin_ult1'],\n",
       " 1318794: ['ind_ahor_fin_ult1', 'ind_aval_fin_ult1'],\n",
       " 1318586: ['ind_ahor_fin_ult1', 'ind_aval_fin_ult1'],\n",
       " 1319068: ['ind_ahor_fin_ult1', 'ind_aval_fin_ult1'],\n",
       " 1319029: ['ind_ahor_fin_ult1', 'ind_aval_fin_ult1'],\n",
       " 1318232: ['ind_aval_fin_ult1', 'ind_ahor_fin_ult1'],\n",
       " 1318525: ['ind_ahor_fin_ult1', 'ind_aval_fin_ult1'],\n",
       " 1315844: ['ind_ahor_fin_ult1', 'ind_aval_fin_ult1'],\n",
       " 1316133: ['ind_ahor_fin_ult1', 'ind_aval_fin_ult1'],\n",
       " 1317137: ['ind_ahor_fin_ult1', 'ind_aval_fin_ult1'],\n",
       " 1316983: ['ind_ahor_fin_ult1', 'ind_aval_fin_ult1'],\n",
       " 1336284: ['ind_ahor_fin_ult1', 'ind_aval_fin_ult1'],\n",
       " 1333054: ['ind_ahor_fin_ult1', 'ind_aval_fin_ult1'],\n",
       " 1332698: ['ind_ahor_fin_ult1', 'ind_aval_fin_ult1'],\n",
       " 1334212: ['ind_ahor_fin_ult1', 'ind_aval_fin_ult1'],\n",
       " 1333391: ['ind_ahor_fin_ult1', 'ind_aval_fin_ult1'],\n",
       " 1340073: ['ind_ahor_fin_ult1', 'ind_aval_fin_ult1'],\n",
       " 1340390: ['ind_ahor_fin_ult1', 'ind_aval_fin_ult1'],\n",
       " 1339755: ['ind_ahor_fin_ult1', 'ind_aval_fin_ult1'],\n",
       " 1338052: ['ind_ahor_fin_ult1', 'ind_aval_fin_ult1'],\n",
       " 1337666: ['ind_ahor_fin_ult1', 'ind_aval_fin_ult1'],\n",
       " 1337546: ['ind_cco_fin_ult1', 'ind_aval_fin_ult1', 'ind_ahor_fin_ult1'],\n",
       " 1337770: ['ind_ahor_fin_ult1', 'ind_aval_fin_ult1'],\n",
       " 1332354: ['ind_ahor_fin_ult1', 'ind_aval_fin_ult1'],\n",
       " 1327644: ['ind_ahor_fin_ult1', 'ind_aval_fin_ult1'],\n",
       " 1328142: ['ind_ahor_fin_ult1', 'ind_aval_fin_ult1'],\n",
       " 1325979: ['ind_ahor_fin_ult1', 'ind_aval_fin_ult1'],\n",
       " 1325787: ['ind_ahor_fin_ult1', 'ind_aval_fin_ult1'],\n",
       " 1326906: ['ind_ahor_fin_ult1', 'ind_aval_fin_ult1'],\n",
       " 1326304: ['ind_ahor_fin_ult1', 'ind_aval_fin_ult1'],\n",
       " 1326448: ['ind_ahor_fin_ult1', 'ind_aval_fin_ult1'],\n",
       " 1331445: ['ind_ahor_fin_ult1', 'ind_aval_fin_ult1'],\n",
       " 1328920: ['ind_ahor_fin_ult1', 'ind_aval_fin_ult1'],\n",
       " 1330153: ['ind_ahor_fin_ult1', 'ind_aval_fin_ult1'],\n",
       " 1330003: ['ind_ahor_fin_ult1', 'ind_aval_fin_ult1'],\n",
       " 1330290: ['ind_ahor_fin_ult1', 'ind_aval_fin_ult1'],\n",
       " 1169996: ['ind_ahor_fin_ult1', 'ind_aval_fin_ult1'],\n",
       " 1169368: ['ind_ahor_fin_ult1', 'ind_aval_fin_ult1'],\n",
       " 1169819: ['ind_ahor_fin_ult1', 'ind_aval_fin_ult1'],\n",
       " 1171292: ['ind_ahor_fin_ult1', 'ind_aval_fin_ult1'],\n",
       " 1167004: ['ind_ahor_fin_ult1', 'ind_aval_fin_ult1'],\n",
       " 1167445: ['ind_ahor_fin_ult1', 'ind_aval_fin_ult1'],\n",
       " 1167486: ['ind_ahor_fin_ult1', 'ind_aval_fin_ult1'],\n",
       " 1167292: ['ind_ahor_fin_ult1', 'ind_aval_fin_ult1'],\n",
       " 1168360: ['ind_cco_fin_ult1', 'ind_aval_fin_ult1', 'ind_ahor_fin_ult1'],\n",
       " 1168444: ['ind_ahor_fin_ult1', 'ind_aval_fin_ult1'],\n",
       " 1168176: ['ind_ahor_fin_ult1', 'ind_aval_fin_ult1'],\n",
       " 1168670: ['ind_ahor_fin_ult1', 'ind_aval_fin_ult1'],\n",
       " 1174387: ['ind_ahor_fin_ult1', 'ind_aval_fin_ult1'],\n",
       " 1173623: ['ind_ahor_fin_ult1', 'ind_aval_fin_ult1'],\n",
       " 1174599: ['ind_ahor_fin_ult1', 'ind_aval_fin_ult1'],\n",
       " 1173476: ['ind_ahor_fin_ult1', 'ind_aval_fin_ult1'],\n",
       " 1172215: ['ind_ahor_fin_ult1', 'ind_aval_fin_ult1'],\n",
       " 1172484: ['ind_ahor_fin_ult1', 'ind_aval_fin_ult1'],\n",
       " 1172523: ['ind_ahor_fin_ult1', 'ind_aval_fin_ult1'],\n",
       " 1172758: ['ind_aval_fin_ult1', 'ind_ahor_fin_ult1'],\n",
       " 1172537: ['ind_ahor_fin_ult1', 'ind_aval_fin_ult1'],\n",
       " 1162471: ['ind_ahor_fin_ult1', 'ind_aval_fin_ult1'],\n",
       " 1162634: ['ind_ahor_fin_ult1', 'ind_aval_fin_ult1'],\n",
       " 1163157: ['ind_ahor_fin_ult1', 'ind_aval_fin_ult1'],\n",
       " 1162911: ['ind_ahor_fin_ult1', 'ind_aval_fin_ult1'],\n",
       " 1163123: ['ind_ahor_fin_ult1', 'ind_aval_fin_ult1'],\n",
       " 1162972: ['ind_ahor_fin_ult1', 'ind_aval_fin_ult1'],\n",
       " 1161585: ['ind_ahor_fin_ult1', 'ind_aval_fin_ult1'],\n",
       " 1161705: ['ind_ahor_fin_ult1', 'ind_aval_fin_ult1'],\n",
       " 1165674: ['ind_ahor_fin_ult1', 'ind_aval_fin_ult1'],\n",
       " 1165536: ['ind_ahor_fin_ult1', 'ind_aval_fin_ult1'],\n",
       " 1165921: ['ind_ahor_fin_ult1', 'ind_aval_fin_ult1'],\n",
       " 1165367: ['ind_ahor_fin_ult1', 'ind_aval_fin_ult1'],\n",
       " 1166878: ['ind_ahor_fin_ult1', 'ind_aval_fin_ult1'],\n",
       " 1164119: ['ind_ahor_fin_ult1', 'ind_aval_fin_ult1'],\n",
       " 1163606: ['ind_ahor_fin_ult1', 'ind_aval_fin_ult1'],\n",
       " 1163875: ['ind_ahor_fin_ult1', 'ind_aval_fin_ult1'],\n",
       " 1183845: ['ind_cco_fin_ult1', 'ind_aval_fin_ult1', 'ind_ahor_fin_ult1'],\n",
       " 1184421: ['ind_ahor_fin_ult1', 'ind_aval_fin_ult1'],\n",
       " 1184278: ['ind_ahor_fin_ult1', 'ind_aval_fin_ult1', 'ind_cco_fin_ult1'],\n",
       " 1181971: ['ind_ahor_fin_ult1', 'ind_aval_fin_ult1'],\n",
       " 1182117: ['ind_ahor_fin_ult1', 'ind_aval_fin_ult1'],\n",
       " 1186743: ['ind_ahor_fin_ult1', 'ind_aval_fin_ult1'],\n",
       " 1186963: ['ind_ahor_fin_ult1', 'ind_aval_fin_ult1'],\n",
       " 1186595: ['ind_ahor_fin_ult1', 'ind_aval_fin_ult1'],\n",
       " 1186367: ['ind_ahor_fin_ult1', 'ind_aval_fin_ult1'],\n",
       " 1184822: ['ind_ahor_fin_ult1', 'ind_aval_fin_ult1'],\n",
       " 1184846: ['ind_ahor_fin_ult1', 'ind_aval_fin_ult1'],\n",
       " 1177135: ['ind_cco_fin_ult1', 'ind_aval_fin_ult1', 'ind_ahor_fin_ult1'],\n",
       " 1175858: ['ind_ahor_fin_ult1', 'ind_aval_fin_ult1'],\n",
       " 1176739: ['ind_cco_fin_ult1', 'ind_aval_fin_ult1', 'ind_ahor_fin_ult1'],\n",
       " 1176377: ['ind_ahor_fin_ult1', 'ind_aval_fin_ult1'],\n",
       " 1180452: ['ind_cco_fin_ult1', 'ind_aval_fin_ult1', 'ind_ahor_fin_ult1'],\n",
       " 1180060: ['ind_ahor_fin_ult1', 'ind_aval_fin_ult1'],\n",
       " 1180863: ['ind_ahor_fin_ult1', 'ind_aval_fin_ult1'],\n",
       " 1181009: ['ind_ahor_fin_ult1', 'ind_aval_fin_ult1'],\n",
       " 1180986: ['ind_cco_fin_ult1', 'ind_aval_fin_ult1', 'ind_ahor_fin_ult1'],\n",
       " 1178845: ['ind_ahor_fin_ult1', 'ind_aval_fin_ult1'],\n",
       " 1179723: ['ind_ahor_fin_ult1', 'ind_aval_fin_ult1'],\n",
       " 1179695: ['ind_ahor_fin_ult1', 'ind_aval_fin_ult1'],\n",
       " 1179627: ['ind_ahor_fin_ult1', 'ind_aval_fin_ult1'],\n",
       " 1179223: ['ind_ahor_fin_ult1', 'ind_aval_fin_ult1'],\n",
       " 1144163: ['ind_ahor_fin_ult1', 'ind_aval_fin_ult1'],\n",
       " 1142804: ['ind_ahor_fin_ult1', 'ind_aval_fin_ult1'],\n",
       " 1143356: ['ind_ahor_fin_ult1', 'ind_aval_fin_ult1'],\n",
       " 1143443: ['ind_ahor_fin_ult1', 'ind_aval_fin_ult1'],\n",
       " 1143061: ['ind_ahor_fin_ult1', 'ind_aval_fin_ult1'],\n",
       " 1147366: ['ind_ahor_fin_ult1', 'ind_aval_fin_ult1'],\n",
       " 1147296: ['ind_ahor_fin_ult1', 'ind_aval_fin_ult1'],\n",
       " 1146681: ['ind_ahor_fin_ult1', 'ind_aval_fin_ult1'],\n",
       " 1147955: ['ind_ahor_fin_ult1', 'ind_aval_fin_ult1'],\n",
       " 1145832: ['ind_ahor_fin_ult1', 'ind_aval_fin_ult1'],\n",
       " 1145721: ['ind_ahor_fin_ult1', 'ind_aval_fin_ult1'],\n",
       " 1145402: ['ind_ahor_fin_ult1', 'ind_aval_fin_ult1'],\n",
       " 1137029: ['ind_cco_fin_ult1', 'ind_aval_fin_ult1', 'ind_ahor_fin_ult1'],\n",
       " 1138050: ['ind_cco_fin_ult1', 'ind_aval_fin_ult1', 'ind_ahor_fin_ult1'],\n",
       " 1137379: ['ind_cco_fin_ult1', 'ind_aval_fin_ult1', 'ind_ahor_fin_ult1'],\n",
       " 1134585: ['ind_ahor_fin_ult1', 'ind_aval_fin_ult1', 'ind_cco_fin_ult1'],\n",
       " 1133470: ['ind_ahor_fin_ult1', 'ind_aval_fin_ult1'],\n",
       " 1135952: ['ind_cco_fin_ult1', 'ind_aval_fin_ult1', 'ind_ahor_fin_ult1'],\n",
       " 1135682: ['ind_ahor_fin_ult1', 'ind_aval_fin_ult1'],\n",
       " 1135716: ['ind_ahor_fin_ult1', 'ind_aval_fin_ult1'],\n",
       " 1135020: ['ind_ahor_fin_ult1', 'ind_aval_fin_ult1'],\n",
       " 1141221: ['ind_ahor_fin_ult1', 'ind_aval_fin_ult1', 'ind_cco_fin_ult1'],\n",
       " 1141169: ['ind_ahor_fin_ult1', 'ind_aval_fin_ult1', 'ind_cco_fin_ult1'],\n",
       " 1140470: ['ind_ahor_fin_ult1', 'ind_aval_fin_ult1'],\n",
       " 1139187: ['ind_cco_fin_ult1', 'ind_aval_fin_ult1', 'ind_ahor_fin_ult1'],\n",
       " 1138974: ['ind_ahor_fin_ult1', 'ind_aval_fin_ult1'],\n",
       " 1138606: ['ind_ahor_fin_ult1', 'ind_aval_fin_ult1'],\n",
       " 1138791: ['ind_ahor_fin_ult1', 'ind_aval_fin_ult1'],\n",
       " 1138871: ['ind_ahor_fin_ult1', 'ind_aval_fin_ult1'],\n",
       " 1138849: ['ind_ahor_fin_ult1', 'ind_aval_fin_ult1'],\n",
       " 1139896: ['ind_ahor_fin_ult1', 'ind_aval_fin_ult1'],\n",
       " 1140127: ['ind_ahor_fin_ult1', 'ind_cco_fin_ult1', 'ind_aval_fin_ult1'],\n",
       " 1139655: ['ind_cco_fin_ult1', 'ind_aval_fin_ult1', 'ind_ahor_fin_ult1'],\n",
       " 1156350: ['ind_ahor_fin_ult1', 'ind_aval_fin_ult1'],\n",
       " 1155929: ['ind_ahor_fin_ult1', 'ind_aval_fin_ult1'],\n",
       " 1156991: ['ind_ahor_fin_ult1', 'ind_aval_fin_ult1'],\n",
       " 1157301: ['ind_ahor_fin_ult1', 'ind_aval_fin_ult1'],\n",
       " 1157202: ['ind_ahor_fin_ult1', 'ind_aval_fin_ult1', 'ind_cco_fin_ult1'],\n",
       " 1156713: ['ind_ahor_fin_ult1', 'ind_aval_fin_ult1'],\n",
       " 1155200: ['ind_ahor_fin_ult1', 'ind_aval_fin_ult1'],\n",
       " 1159368: ['ind_ahor_fin_ult1', 'ind_aval_fin_ult1'],\n",
       " 1159531: ['ind_ahor_fin_ult1', 'ind_aval_fin_ult1'],\n",
       " 1160183: ['ind_ahor_fin_ult1', 'ind_aval_fin_ult1'],\n",
       " 1160417: ['ind_ahor_fin_ult1', 'ind_aval_fin_ult1'],\n",
       " 1160095: ['ind_ahor_fin_ult1', 'ind_aval_fin_ult1'],\n",
       " 1160054: ['ind_ahor_fin_ult1', 'ind_aval_fin_ult1'],\n",
       " 1159962: ['ind_ahor_fin_ult1', 'ind_aval_fin_ult1'],\n",
       " 1157911: ['ind_ahor_fin_ult1', 'ind_aval_fin_ult1'],\n",
       " 1157531: ['ind_ahor_fin_ult1', 'ind_aval_fin_ult1'],\n",
       " 1157391: ['ind_ahor_fin_ult1', 'ind_aval_fin_ult1'],\n",
       " 1157673: ['ind_ahor_fin_ult1', 'ind_aval_fin_ult1'],\n",
       " 1158770: ['ind_ahor_fin_ult1', 'ind_aval_fin_ult1'],\n",
       " 1158290: ['ind_ahor_fin_ult1', 'ind_aval_fin_ult1'],\n",
       " 1149974: ['ind_ahor_fin_ult1', 'ind_aval_fin_ult1'],\n",
       " 1150071: ['ind_ahor_fin_ult1', 'ind_aval_fin_ult1'],\n",
       " 1150109: ['ind_ahor_fin_ult1', 'ind_aval_fin_ult1'],\n",
       " 1151049: ['ind_ahor_fin_ult1', 'ind_aval_fin_ult1'],\n",
       " 1150724: ['ind_ahor_fin_ult1', 'ind_aval_fin_ult1'],\n",
       " 1149655: ['ind_ahor_fin_ult1', 'ind_aval_fin_ult1'],\n",
       " 1149346: ['ind_ahor_fin_ult1', 'ind_aval_fin_ult1'],\n",
       " 1153673: ['ind_ahor_fin_ult1', 'ind_aval_fin_ult1'],\n",
       " 1154021: ['ind_ahor_fin_ult1', 'ind_aval_fin_ult1'],\n",
       " 1151437: ['ind_ahor_fin_ult1', 'ind_aval_fin_ult1'],\n",
       " 1152584: ['ind_ahor_fin_ult1', 'ind_aval_fin_ult1'],\n",
       " 1152624: ['ind_ahor_fin_ult1', 'ind_aval_fin_ult1'],\n",
       " 1152934: ['ind_ahor_fin_ult1', 'ind_aval_fin_ult1'],\n",
       " 1152360: ['ind_ahor_fin_ult1', 'ind_aval_fin_ult1'],\n",
       " 1226921: ['ind_aval_fin_ult1', 'ind_ahor_fin_ult1'],\n",
       " 1226857: ['ind_cco_fin_ult1', 'ind_aval_fin_ult1', 'ind_ahor_fin_ult1'],\n",
       " 1223935: ['ind_ahor_fin_ult1', 'ind_aval_fin_ult1'],\n",
       " 1223727: ['ind_ahor_fin_ult1', 'ind_aval_fin_ult1'],\n",
       " 1223755: ['ind_ahor_fin_ult1', 'ind_aval_fin_ult1'],\n",
       " 1225269: ['ind_ahor_fin_ult1', 'ind_aval_fin_ult1'],\n",
       " 1225105: ['ind_ahor_fin_ult1', 'ind_aval_fin_ult1'],\n",
       " 1224566: ['ind_cco_fin_ult1', 'ind_aval_fin_ult1', 'ind_ahor_fin_ult1'],\n",
       " 1224513: ['ind_ahor_fin_ult1', 'ind_aval_fin_ult1'],\n",
       " 1224799: ['ind_ahor_fin_ult1', 'ind_aval_fin_ult1'],\n",
       " 1232224: ['ind_ahor_fin_ult1', 'ind_aval_fin_ult1'],\n",
       " 1230971: ['ind_ahor_fin_ult1', 'ind_aval_fin_ult1'],\n",
       " 1231237: ['ind_ahor_fin_ult1', 'ind_aval_fin_ult1'],\n",
       " 1228140: ['ind_aval_fin_ult1', 'ind_ahor_fin_ult1'],\n",
       " 1227724: ['ind_ahor_fin_ult1', 'ind_aval_fin_ult1'],\n",
       " 1217823: ['ind_ahor_fin_ult1', 'ind_aval_fin_ult1'],\n",
       " 1217732: ['ind_ahor_fin_ult1', 'ind_aval_fin_ult1'],\n",
       " 1218454: ['ind_ahor_fin_ult1', 'ind_aval_fin_ult1'],\n",
       " 1216295: ['ind_ahor_fin_ult1', 'ind_aval_fin_ult1'],\n",
       " 1215495: ['ind_ahor_fin_ult1', 'ind_aval_fin_ult1'],\n",
       " 1215643: ['ind_ahor_fin_ult1', 'ind_aval_fin_ult1'],\n",
       " 1216878: ['ind_ahor_fin_ult1', 'ind_aval_fin_ult1'],\n",
       " 1217005: ['ind_ahor_fin_ult1', 'ind_aval_fin_ult1'],\n",
       " 1216949: ['ind_ahor_fin_ult1', 'ind_aval_fin_ult1'],\n",
       " 1221849: ['ind_ahor_fin_ult1', 'ind_aval_fin_ult1'],\n",
       " 1220055: ['ind_ahor_fin_ult1', 'ind_aval_fin_ult1'],\n",
       " 1220063: ['ind_ahor_fin_ult1', 'ind_aval_fin_ult1'],\n",
       " 1219677: ['ind_ahor_fin_ult1', 'ind_aval_fin_ult1'],\n",
       " 1221116: ['ind_ahor_fin_ult1', 'ind_aval_fin_ult1'],\n",
       " 1245725: ['ind_ahor_fin_ult1', 'ind_aval_fin_ult1'],\n",
       " 1246043: ['ind_cco_fin_ult1', 'ind_aval_fin_ult1', 'ind_ahor_fin_ult1'],\n",
       " 1246918: ['ind_aval_fin_ult1', 'ind_ahor_fin_ult1'],\n",
       " 1246633: ['ind_ahor_fin_ult1', 'ind_aval_fin_ult1'],\n",
       " 1242893: ['ind_ahor_fin_ult1', 'ind_aval_fin_ult1'],\n",
       " 1245049: ['ind_cco_fin_ult1', 'ind_aval_fin_ult1', 'ind_ahor_fin_ult1'],\n",
       " 1251433: ['ind_aval_fin_ult1', 'ind_ahor_fin_ult1'],\n",
       " 1250951: ['ind_ahor_fin_ult1', 'ind_aval_fin_ult1'],\n",
       " 1250747: ['ind_ahor_fin_ult1', 'ind_aval_fin_ult1'],\n",
       " 1250808: ['ind_ahor_fin_ult1', 'ind_aval_fin_ult1'],\n",
       " 1252429: ['ind_aval_fin_ult1', 'ind_ahor_fin_ult1'],\n",
       " 1252199: ['ind_ahor_fin_ult1', 'ind_aval_fin_ult1'],\n",
       " 1248641: ['ind_aval_fin_ult1', 'ind_ahor_fin_ult1'],\n",
       " 1248713: ['ind_cco_fin_ult1', 'ind_aval_fin_ult1', 'ind_ahor_fin_ult1'],\n",
       " 1249884: ['ind_ahor_fin_ult1', 'ind_aval_fin_ult1'],\n",
       " 1249606: ['ind_ahor_fin_ult1', 'ind_aval_fin_ult1'],\n",
       " 1235505: ['ind_ahor_fin_ult1', 'ind_aval_fin_ult1'],\n",
       " 1235943: ['ind_ahor_fin_ult1', 'ind_aval_fin_ult1'],\n",
       " 1237254: ['ind_ahor_fin_ult1', 'ind_aval_fin_ult1'],\n",
       " 1237162: ['ind_aval_fin_ult1', 'ind_ahor_fin_ult1'],\n",
       " 1233147: ['ind_ahor_fin_ult1', 'ind_aval_fin_ult1'],\n",
       " 1232298: ['ind_cco_fin_ult1', 'ind_aval_fin_ult1', 'ind_ahor_fin_ult1'],\n",
       " 1234722: ['ind_ahor_fin_ult1', 'ind_aval_fin_ult1'],\n",
       " 1240518: ['ind_ahor_fin_ult1', 'ind_aval_fin_ult1'],\n",
       " 1240380: ['ind_ahor_fin_ult1', 'ind_aval_fin_ult1'],\n",
       " 1241591: ['ind_ahor_fin_ult1', 'ind_aval_fin_ult1'],\n",
       " ...}"
      ]
     },
     "execution_count": 125,
     "metadata": {},
     "output_type": "execute_result"
    }
   ],
   "source": [
    "#Displaying two or three product recommendation along with there Customer ID\n",
    "train_preds"
   ]
  },
  {
   "cell_type": "markdown",
   "metadata": {
    "id": "Xjz4XtNhsWec"
   },
   "source": [
    "Model is recommending two or three product along with the customer Id. "
   ]
  },
  {
   "cell_type": "markdown",
   "metadata": {
    "id": "S6ALqzhlEF6R"
   },
   "source": [
    "<h1><strong>Plotting True Positive and False Positive Rate Of The Model<strong></h1>"
   ]
  },
  {
   "cell_type": "code",
   "execution_count": 126,
   "metadata": {
    "id": "yrr91Z4h6hzA"
   },
   "outputs": [],
   "source": [
    "import sklearn\n",
    "from sklearn import metrics,ensemble,model_selection,linear_model,tree,calibration"
   ]
  },
  {
   "cell_type": "code",
   "execution_count": 127,
   "metadata": {
    "colab": {
     "base_uri": "https://localhost:8080/"
    },
    "id": "_xHXw35N3hJO",
    "outputId": "bf691682-0ee4-412d-fdfd-af839e845dfe"
   },
   "outputs": [
    {
     "data": {
      "text/plain": [
       "((41390, 23), (7305, 23))"
      ]
     },
     "execution_count": 127,
     "metadata": {},
     "output_type": "execute_result"
    }
   ],
   "source": [
    "#Displaying the shape of train and test dataset\n",
    "X_train,X_val,y_train,y_val = model_selection.train_test_split(x_train,y_train,stratify=y_train,test_size=0.15)\n",
    "X_train.shape,X_val.shape"
   ]
  },
  {
   "cell_type": "code",
   "execution_count": 128,
   "metadata": {
    "id": "0XatVQDl4L60"
   },
   "outputs": [],
   "source": [
    "dataset= \"Normal with Response Encoding\"\n",
    "global i\n",
    "i=0\n",
    "def plot_auc(y_true,y_pred,label,dataset=dataset):\n",
    "  \"\"\"\n",
    "  Plots auc curve when y_true and y_pred are given\n",
    "  dataset is string which tells which dataset were used.\n",
    "  label: tells which model was used\n",
    "  If label is a list plots all the auc curve for all labels (here y_pred will be a list of lists )\n",
    "  \"\"\"\n",
    "  \n",
    "  \n",
    "  if (type(label)!=list) & (type(label)!=np.array):\n",
    "    print(\"\\t\\t %s on %s dataset \\t\\t \\n\"%(label,dataset))\n",
    "    fpr,tpr,threshold = metrics.roc_curve(y_true,y_pred) #getting true positive rate, false positive rate\n",
    "    auc = metrics.roc_auc_score(y_true,y_pred) #getting auc score\n",
    "    log_loss = metrics.log_loss(y_true,y_pred) #getting logloss\n",
    "    label_1 = label+' AUC=%.3f'%(auc)\n",
    "\n",
    "    #plotting tpr vs fpr\n",
    "    sns.lineplot(fpr,tpr,label=label_1)\n",
    "    x=np.arange(0,1.1,0.1) #auc=0.5 line \n",
    "    sns.lineplot(x,x,label=\"AUC=0.5\")\n",
    "    plt.title(\"ROC on %s dataset\"%(dataset))\n",
    "    plt.xlabel('False Positive Rate')\n",
    "    plt.ylabel(\"True Positive Rate\")\n",
    "    plt.legend(bbox_to_anchor=(1.05, 1), loc=2, borderaxespad=0.) #legend box outside graph\n",
    "    plt.show()\n",
    "    print(\"The log loss and auc was found to be %.3f and %.3f for %s on %s dataset.\"%(log_loss,auc,label,dataset))\n",
    "    #creating a dataframe of the result\n",
    "    result_dict = {\"Model\":label,'Dataset':dataset,'log_loss':log_loss,'auc':auc}\n",
    "    \n",
    "    return pd.DataFrame(result_dict,index=[i])\n",
    "\n",
    "  else:\n",
    "    plt.figure(figsize=(12,8))\n",
    "    for k,y in enumerate(y_pred):\n",
    "      fpr,tpr,threshold = metrics.roc_curve(y_true,y)\n",
    "      auc = metrics.roc_auc_score(y_true,y)\n",
    "      label_ = label[k]+' AUC=%.3f'%(auc)\n",
    "      #plotting tpr vs fpr\n",
    "      sns.lineplot(fpr,tpr,label=label_)\n",
    "\n",
    "    x=np.arange(0,1.1,0.1)\n",
    "    sns.lineplot(x,x,label=\"AUC=0.5\")\n",
    "    plt.title(\"Combined ROC\")\n",
    "    plt.xlabel('False Positive Rate')\n",
    "    plt.ylabel(\"True Positive Rate\")\n",
    "    plt.legend(bbox_to_anchor=(1.05, 1), loc=2, borderaxespad=0.) #legend box outside graph\n",
    "    plt.show()"
   ]
  },
  {
   "cell_type": "code",
   "execution_count": 129,
   "metadata": {
    "id": "az4RvbO42aV7"
   },
   "outputs": [],
   "source": [
    "model = ensemble.RandomForestClassifier(class_weight='balanced')\n",
    "params = { 'n_estimators':[1000,2000],\n",
    "          'max_depth':[500,1000], \n",
    "         'min_samples_split':[100,500],\n",
    "          'min_samples_leaf':[3,5],\n",
    "          'max_leaf_nodes':[100,500] \n",
    "          }\n"
   ]
  },
  {
   "cell_type": "code",
   "execution_count": 130,
   "metadata": {
    "colab": {
     "base_uri": "https://localhost:8080/"
    },
    "id": "yC39xjQMDwzm",
    "outputId": "a9417668-1035-49c0-fbe8-4696a1854256"
   },
   "outputs": [
    {
     "name": "stdout",
     "output_type": "stream",
     "text": [
      "Wall time: 29.2 s\n"
     ]
    },
    {
     "data": {
      "text/plain": [
       "RandomForestClassifier(class_weight='balanced', max_depth=1000,\n",
       "                       max_leaf_nodes=500, min_samples_leaf=3,\n",
       "                       min_samples_split=500, n_estimators=2000, n_jobs=-1)"
      ]
     },
     "execution_count": 130,
     "metadata": {},
     "output_type": "execute_result"
    }
   ],
   "source": [
    "model = ensemble.RandomForestClassifier(bootstrap=True, ccp_alpha=0.0, class_weight='balanced',\n",
    "                       criterion='gini', max_depth=1000, max_features='auto',\n",
    "                       max_leaf_nodes=500, max_samples=None,\n",
    "                       min_impurity_decrease=0.0,\n",
    "                       min_samples_leaf=3, min_samples_split=500,\n",
    "                       min_weight_fraction_leaf=0.0, n_estimators=2000,\n",
    "                       n_jobs=-1, oob_score=False,\n",
    "                       verbose=0, warm_start=False)\n",
    "\n",
    "%time model.fit(X_train,y_train)"
   ]
  },
  {
   "cell_type": "code",
   "execution_count": 131,
   "metadata": {
    "colab": {
     "base_uri": "https://localhost:8080/"
    },
    "id": "aOA8z2XkDwwm",
    "outputId": "ff806255-22bf-4f0e-ab24-ca3ea819bb4d"
   },
   "outputs": [
    {
     "data": {
      "text/plain": [
       "CalibratedClassifierCV(base_estimator=RandomForestClassifier(class_weight='balanced',\n",
       "                                                             max_depth=1000,\n",
       "                                                             max_leaf_nodes=500,\n",
       "                                                             min_samples_leaf=3,\n",
       "                                                             min_samples_split=500,\n",
       "                                                             n_estimators=2000,\n",
       "                                                             n_jobs=-1),\n",
       "                       cv='prefit')"
      ]
     },
     "execution_count": 131,
     "metadata": {},
     "output_type": "execute_result"
    }
   ],
   "source": [
    "cc_model = calibration.CalibratedClassifierCV(model,cv='prefit')\n",
    "cc_model.fit(X_train,y_train)"
   ]
  },
  {
   "cell_type": "code",
   "execution_count": 132,
   "metadata": {
    "colab": {
     "base_uri": "https://localhost:8080/",
     "height": 552
    },
    "id": "ZDVpiWAwDwtb",
    "outputId": "b2714c96-153e-42de-d0e0-aee3972f1f45"
   },
   "outputs": [
    {
     "name": "stdout",
     "output_type": "stream",
     "text": [
      "\t\t Random Forest Classifier on Normal with Response Encoding dataset \t\t \n",
      "\n"
     ]
    },
    {
     "name": "stderr",
     "output_type": "stream",
     "text": [
      "C:\\Users\\pragy\\anaconda3\\lib\\site-packages\\seaborn\\_decorators.py:36: FutureWarning: Pass the following variables as keyword args: x, y. From version 0.12, the only valid positional argument will be `data`, and passing other arguments without an explicit keyword will result in an error or misinterpretation.\n",
      "  warnings.warn(\n",
      "C:\\Users\\pragy\\anaconda3\\lib\\site-packages\\seaborn\\_decorators.py:36: FutureWarning: Pass the following variables as keyword args: x, y. From version 0.12, the only valid positional argument will be `data`, and passing other arguments without an explicit keyword will result in an error or misinterpretation.\n",
      "  warnings.warn(\n"
     ]
    },
    {
     "data": {
      "image/png": "[encoded data removed]",
      "text/plain": [
       "<Figure size 720x432 with 1 Axes>"
      ]
     },
     "metadata": {},
     "output_type": "display_data"
    },
    {
     "name": "stdout",
     "output_type": "stream",
     "text": [
      "The log loss and auc was found to be 0.243 and 0.867 for Random Forest Classifier on Normal with Response Encoding dataset.\n"
     ]
    }
   ],
   "source": [
    "labels=[]\n",
    "y_preds = []\n",
    "i+=1\n",
    "y_pred = cc_model.predict_proba(X_val)[:,1]\n",
    "label=\"Random Forest Classifier\"\n",
    "labels.append(label)\n",
    "y_preds.append(y_pred)\n",
    "result = plot_auc(y_val,y_pred,label,dataset)\n",
    "del result\n"
   ]
  },
  {
   "cell_type": "code",
   "execution_count": 133,
   "metadata": {
    "colab": {
     "base_uri": "https://localhost:8080/"
    },
    "id": "ez5F9cOPDwqV",
    "outputId": "46a2ccbf-1da8-4a60-be98-6c837b919cac"
   },
   "outputs": [
    {
     "data": {
      "text/plain": [
       "LogisticRegression(C=0.001, class_weight='balanced', n_jobs=-1)"
      ]
     },
     "execution_count": 133,
     "metadata": {},
     "output_type": "execute_result"
    }
   ],
   "source": [
    "model = linear_model.LogisticRegression(class_weight='balanced')\n",
    "model = linear_model.LogisticRegression(C=0.001, class_weight='balanced', dual=False,\n",
    "                   fit_intercept=True, intercept_scaling=1, l1_ratio=None,\n",
    "                   max_iter=100, multi_class='auto', n_jobs=-1, penalty='l2',\n",
    "                  solver='lbfgs', tol=0.0001, verbose=0,\n",
    "                   warm_start=False)\n",
    "\n",
    "model.fit(X_train,y_train)"
   ]
  },
  {
   "cell_type": "code",
   "execution_count": 134,
   "metadata": {
    "colab": {
     "base_uri": "https://localhost:8080/",
     "height": 552
    },
    "id": "9mXT7S8lDwi4",
    "outputId": "f3ad651c-1a24-4d81-e8f9-47dc64569e74"
   },
   "outputs": [
    {
     "name": "stdout",
     "output_type": "stream",
     "text": [
      "\t\t Logistic Regression on Normal with Response Encoding dataset \t\t \n",
      "\n"
     ]
    },
    {
     "name": "stderr",
     "output_type": "stream",
     "text": [
      "C:\\Users\\pragy\\anaconda3\\lib\\site-packages\\seaborn\\_decorators.py:36: FutureWarning: Pass the following variables as keyword args: x, y. From version 0.12, the only valid positional argument will be `data`, and passing other arguments without an explicit keyword will result in an error or misinterpretation.\n",
      "  warnings.warn(\n",
      "C:\\Users\\pragy\\anaconda3\\lib\\site-packages\\seaborn\\_decorators.py:36: FutureWarning: Pass the following variables as keyword args: x, y. From version 0.12, the only valid positional argument will be `data`, and passing other arguments without an explicit keyword will result in an error or misinterpretation.\n",
      "  warnings.warn(\n"
     ]
    },
    {
     "data": {
      "image/png": "[encoded data removed]",
      "text/plain": [
       "<Figure size 720x432 with 1 Axes>"
      ]
     },
     "metadata": {},
     "output_type": "display_data"
    },
    {
     "name": "stdout",
     "output_type": "stream",
     "text": [
      "The log loss and auc was found to be 0.479 and 0.864 for Logistic Regression on Normal with Response Encoding dataset.\n"
     ]
    }
   ],
   "source": [
    "labels=[] #storing all labels\n",
    "y_preds = [] #storing all y_pred\n",
    "y_pred = model.predict_proba(X_val)[:,1]\n",
    "label=\"Logistic Regression\"\n",
    "labels.append(label)\n",
    "y_preds.append(y_pred)\n",
    "result = plot_auc(y_val,y_pred,label,dataset)\n",
    "result_df = result\n",
    "del result"
   ]
  },
  {
   "cell_type": "markdown",
   "metadata": {
    "id": "HCmOsKeaDv_x"
   },
   "source": [
    "<h1><strong><center>****The End****</center></strong></h1>\n",
    "\n",
    "<h3>Name- Pragya Parna</h3>\n",
    "<h3>Student Id- A0362164</h3>"
   ]
  },
  {
   "cell_type": "code",
   "execution_count": null,
   "metadata": {},
   "outputs": [],
   "source": []
  }
 ],
 "metadata": {
  "colab": {
   "provenance": [],
   "toc_visible": true
  },
  "kernelspec": {
   "display_name": "Python 3 (ipykernel)",
   "language": "python",
   "name": "python3"
  },
  "language_info": {
   "codemirror_mode": {
    "name": "ipython",
    "version": 3
   },
   "file_extension": ".py",
   "mimetype": "text/x-python",
   "name": "python",
   "nbconvert_exporter": "python",
   "pygments_lexer": "ipython3",
   "version": "3.9.7"
  }
 },
 "nbformat": 4,
 "nbformat_minor": 1
}
